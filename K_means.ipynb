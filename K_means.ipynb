{
  "nbformat": 4,
  "nbformat_minor": 0,
  "metadata": {
    "colab": {
      "provenance": [],
      "authorship_tag": "ABX9TyMB8qs5QQ9uQcF00flAQv6K",
      "include_colab_link": true
    },
    "kernelspec": {
      "name": "python3",
      "display_name": "Python 3"
    },
    "language_info": {
      "name": "python"
    }
  },
  "cells": [
    {
      "cell_type": "markdown",
      "metadata": {
        "id": "view-in-github",
        "colab_type": "text"
      },
      "source": [
        "<a href=\"https://colab.research.google.com/github/Aomaphisara/ULckdresearch2023/blob/main/K_means.ipynb\" target=\"_parent\"><img src=\"https://colab.research.google.com/assets/colab-badge.svg\" alt=\"Open In Colab\"/></a>"
      ]
    },
    {
      "cell_type": "code",
      "execution_count": null,
      "metadata": {
        "id": "rZ8zw1owA3sv"
      },
      "outputs": [],
      "source": [
        "from google.colab import drive\n",
        "drive.mount('/content/drive')"
      ]
    },
    {
      "cell_type": "code",
      "source": [
        "import pandas as pd\n",
        "df = pd.read_csv(\"/content/drive/MyDrive/ckd/data.csv\")"
      ],
      "metadata": {
        "id": "tCbSiqVXBk1M"
      },
      "execution_count": null,
      "outputs": []
    },
    {
      "cell_type": "code",
      "source": [
        "data = ['Slopes', 'eGFR_t1','TimeDiff',\n",
        "   'Age', 'BMI', 'BSA', 'Diastolic-BP', 'Systolic-BP',\n",
        "   'G1M2-ARB', 'G3M1-Statin',\n",
        "       'G5M2-NSAIDs', 'G1M5-Diuretic', 'G1M7-Beta-blocker',\n",
        "       'G1M3-Dihydropyridine-CCB', 'G1M6-MRA', 'G1M1-ACEI', 'G2M2-Metformin',\n",
        "       'G2M3-DPP4-inhibitor', 'G2M1-SU', 'G3M3-Fibrate', 'G2M5-SGLT2i',\n",
        "       'G4M1-Allopurinol', 'G1M9-Vasodilator', 'G1M8-Alpha-blocker',\n",
        "       'G2M6-Insulin', 'G2M4-TZD', 'G4M2-Febuxostat', 'G3M2-Ezetimibe',\n",
        "       'G1M4-Non-dihydropyridine-CCB', 'G5M1-Ketoanalog-amino-acid',\n",
        "       'G2M7-GLP1-RA', 'G4M3-Uricosuric-agent',\n",
        "   'D1-Hypertension',\n",
        "       'D2-Diabetes-mellitus', 'D3-Dyslipidemia', 'D4-SLE',\n",
        "       'D5-Systemic-sclerosis', 'D6-Rheumatoid-arthritis', 'D7-HIV-infection',\n",
        "       'D8-HBV-infection', 'D9-HCV-infection', 'D10-Ischemic-heart-disease',\n",
        "       'D11-Heart-failure', 'D12-Thalassemia', 'D13-Kidney-stone',\n",
        "       'D14-Valvular-heart-disease', 'D15-Solid-malignancy',\n",
        "       'D16-Hematologic-malignancy',\n",
        "   'L1-eGFR', 'L2-BUN', 'L3-Creatinine',\n",
        "       'L4-Sodium', 'L5-Potassium', 'L6-Chloride', 'L7-Bicarbonate', 'L8-Uric',\n",
        "       'L9-Calcium', 'L10-Phosphorus', 'L11-Albumin', 'L12-Hemoglobin',\n",
        "       'L13-Hematocrit', 'L14-WBC', 'L15-Platelet', 'L19-Blood-sugar',\n",
        "       'L20-HbA1c', 'L21-Cholesterol', 'L22-Triglyceride',\n",
        "       'L23-LDL-Cholesterol', 'L24-HDL-Cholesterol',\n",
        "       'L28-UrineProtein-Cr-ratio']\n",
        "data = df[data]"
      ],
      "metadata": {
        "id": "-oXX7oWxB2yB"
      },
      "execution_count": null,
      "outputs": []
    },
    {
      "cell_type": "markdown",
      "source": [
        "feature scaling (ให้มีค่าอยู่ระหว่าง 0-1)"
      ],
      "metadata": {
        "id": "HlIkiPi8CAAR"
      }
    },
    {
      "cell_type": "code",
      "source": [
        "from sklearn.preprocessing import MinMaxScaler\n",
        "cols = data.columns\n",
        "ms = MinMaxScaler()\n",
        "data = ms.fit_transform(data)\n",
        "data = pd.DataFrame(data, columns=[cols])"
      ],
      "metadata": {
        "id": "XefpKffvCAwL"
      },
      "execution_count": null,
      "outputs": []
    },
    {
      "cell_type": "code",
      "source": [
        "data.describe()"
      ],
      "metadata": {
        "id": "jv9Hp-iICD1B"
      },
      "execution_count": null,
      "outputs": []
    },
    {
      "cell_type": "markdown",
      "source": [
        "แบ่งกลุ่มข้อมูลโดย\n",
        "- จัดกลุ่มเกี่ยวกับ **stage** มีจำนวน 4-5-6 กลุ่ม **นำตัวเเปรออก** 'eGFR_t1', 'L1-eGFR'\n",
        "- จัดกลุ่มเกี่ยวกับ **slope** มีจำนวน 2-3-4 กลุ่ม **นำตัวเเปรออก**  'Slopes','eGFR_t1','TimeDiff','L1-eGFR'\n"
      ],
      "metadata": {
        "id": "mLDPUDOKCGzX"
      }
    },
    {
      "cell_type": "markdown",
      "source": [
        "#K-means"
      ],
      "metadata": {
        "id": "1_fh4BoyCIN3"
      }
    },
    {
      "cell_type": "markdown",
      "source": [
        "##Stage"
      ],
      "metadata": {
        "id": "ncP9XDl0CMg9"
      }
    },
    {
      "cell_type": "code",
      "source": [
        "stage = ['Slopes','TimeDiff',\n",
        "   'Age', 'BMI', 'BSA', 'Diastolic-BP', 'Systolic-BP',\n",
        "   'G1M2-ARB', 'G3M1-Statin',\n",
        "       'G5M2-NSAIDs', 'G1M5-Diuretic', 'G1M7-Beta-blocker',\n",
        "       'G1M3-Dihydropyridine-CCB', 'G1M6-MRA', 'G1M1-ACEI', 'G2M2-Metformin',\n",
        "       'G2M3-DPP4-inhibitor', 'G2M1-SU', 'G3M3-Fibrate', 'G2M5-SGLT2i',\n",
        "       'G4M1-Allopurinol', 'G1M9-Vasodilator', 'G1M8-Alpha-blocker',\n",
        "       'G2M6-Insulin', 'G2M4-TZD', 'G4M2-Febuxostat', 'G3M2-Ezetimibe',\n",
        "       'G1M4-Non-dihydropyridine-CCB', 'G5M1-Ketoanalog-amino-acid',\n",
        "       'G2M7-GLP1-RA', 'G4M3-Uricosuric-agent',\n",
        "   'D1-Hypertension',\n",
        "       'D2-Diabetes-mellitus', 'D3-Dyslipidemia', 'D4-SLE',\n",
        "       'D5-Systemic-sclerosis', 'D6-Rheumatoid-arthritis', 'D7-HIV-infection',\n",
        "       'D8-HBV-infection', 'D9-HCV-infectionMRA', 'G1M1-ACEI', 'G2M2-Metformin',\n",
        "       'G2M3-DPP4-inhibitor', 'G2M1-SU', 'G3M3-Fibrate', 'G2M5-SGLT2i',\n",
        "       'G4M1-Allopurinol', 'G1M9-Vasodilator', 'G1M8-Alpha-blocker',\n",
        "       'G2M6-Insulin', 'G2M4-TZD', 'G4M2-Febuxostat', 'G3M2-Ezetimibe',\n",
        "       'G1M4-Non-dihydropyridine-CCB', 'G5M1-Ketoanalog-amino-acid',\n",
        "       'G2M7-GLP1-RA', 'G4M3-Uricosuric-agent',\n",
        "   'D1-Hypertension',\n",
        "       'D2-Diabetes-mellitus', 'D3-Dyslipidemia', 'D4-SLE',\n",
        "       'D5-Systemic-sclerosis', 'D6-Rheumatoid-arthritis', 'D7-HIV-infection',\n",
        "       'D8-HBV-infection', 'D9-HCV-infection', 'D10-Ischemic-heart-disease',\n",
        "       'D11-Heart-failure', 'D12-Thalassemia', 'D13-Kidney-stone',\n",
        "       'D14-Valvular-heart-disease', 'D15-Solid-malignancy',\n",
        "       'D16-Hematologic-malignancy',\n",
        "  'L2-BUN', 'L3-Creatinine',\n",
        "       'L4-Sodium', 'L5-Potassium', 'L6-Chloride', 'L7-Bicarbonate', 'L8-Uric',\n",
        "       'L9-Calcium', 'L10-Phosphorus', 'L11-Albumin', 'L12-Hemoglobin',\n",
        "       'L13-Hematocrit', 'L14-WBC', 'L15-Platelet', 'L19-Blood-sugar',\n",
        "       'L20-HbA1c', 'L21-Cholesterol', 'L22-Triglyceride',\n",
        "       'L23-LDL-Cholesterol', 'L24-HDL-Cholesterol',\n",
        "       'L28-UrineProtein-Cr-ratio']\n",
        "stage = data[stage]"
      ],
      "metadata": {
        "id": "ZYw25t5FCKS2"
      },
      "execution_count": null,
      "outputs": []
    },
    {
      "cell_type": "code",
      "source": [
        "from sklearn.cluster import KMeans\n",
        "stage_k4 = stage.copy()\n",
        "kmeans = KMeans(n_clusters=4, random_state=0, n_init=\"auto\").fit(stage_k4)\n",
        "stage_k4['Cluster4']=kmeans.labels_\n",
        "stage_k4.head()"
      ],
      "metadata": {
        "id": "BLU5Vx2yCRdA"
      },
      "execution_count": null,
      "outputs": []
    },
    {
      "cell_type": "code",
      "source": [
        "stage_k5 = stage.copy()\n",
        "kmeans = KMeans(n_clusters=5, random_state=0, n_init=\"auto\").fit(stage_k5)\n",
        "stage_k5['Cluster5']=kmeans.labels_\n",
        "stage_k5.head()"
      ],
      "metadata": {
        "id": "RvGw-UYHCSfr"
      },
      "execution_count": null,
      "outputs": []
    },
    {
      "cell_type": "code",
      "source": [
        "stage_k6 = stage.copy()\n",
        "kmeans = KMeans(n_clusters=6, random_state=0, n_init=\"auto\").fit(stage_k6)\n",
        "stage_k6['Cluster6']=kmeans.labels_\n",
        "stage_k6.head()"
      ],
      "metadata": {
        "id": "GYe1l4QFCWNs"
      },
      "execution_count": null,
      "outputs": []
    },
    {
      "cell_type": "markdown",
      "source": [
        "##slope"
      ],
      "metadata": {
        "id": "sjL8WppCCY0k"
      }
    },
    {
      "cell_type": "code",
      "source": [
        "slope = [ 'Age', 'BMI', 'BSA', 'Diastolic-BP', 'Systolic-BP',\n",
        "   'G1M2-ARB', 'G3M1-Statin',\n",
        "       'G5M2-NSAIDs', 'G1M5-Diuretic', 'G1M7-Beta-blocker',\n",
        "       'G1M3-Dihydropyridine-CCB', 'G1M6-MRA', 'G1M1-ACEI', 'G2M2-Metformin',\n",
        "       'G2M3-DPP4-inhibitor', 'G2M1-SU', 'G3M3-Fibrate', 'G2M5-SGLT2i',\n",
        "       'G4M1-Allopurinol', 'G1M9-Vasodilator', 'G1M8-Alpha-blocker',\n",
        "       'G2M6-Insulin', 'G2M4-TZD', 'G4M2-Febuxostat', 'G3M2-Ezetimibe',\n",
        "       'G1M4-Non-dihydropyridine-CCB', 'G5M1-Ketoanalog-amino-acid',\n",
        "       'G2M7-GLP1-RA', 'G4M3-Uricosuric-agent',\n",
        "   'D1-Hypertension',\n",
        "       'D2-Diabetes-mellitus', 'D3-Dyslipidemia', 'D4-SLE',\n",
        "       'D5-Systemic-sclerosis', 'D6-Rheumatoid-arthritis', 'D7-HIV-infection',\n",
        "       'D8-HBV-infection', 'D9-HCV-infection', 'D10-Ischemic-heart-disease',\n",
        "       'D11-Heart-failure', 'D12-Thalassemia', 'D13-Kidney-stone',\n",
        "       'D14-Valvular-heart-disease', 'D15-Solid-malignancy',\n",
        "       'D16-Hematologic-malignancy',\n",
        "  'L2-BUN', 'L3-Creatinine',\n",
        "       'L4-Sodium', 'L5-Potassium', 'L6-Chloride', 'L7-Bicarbonate', 'L8-Uric',\n",
        "       'L9-Calcium', 'L10-Phosphorus', 'L11-Albumin', 'L12-Hemoglobin',\n",
        "       'L13-Hematocrit', 'L14-WBC', 'L15-Platelet', 'L19-Blood-sugar',\n",
        "       'L20-HbA1c', 'L21-Cholesterol', 'L22-Triglyceride',\n",
        "       'L23-LDL-Cholesterol', 'L24-HDL-Cholesterol',\n",
        "       'L28-UrineProtein-Cr-ratio']\n",
        "slope = data[slope]"
      ],
      "metadata": {
        "id": "y1rool9RCcSd"
      },
      "execution_count": null,
      "outputs": []
    },
    {
      "cell_type": "code",
      "source": [
        "from sklearn.cluster import KMeans\n",
        "slope_k2 = slope.copy()\n",
        "kmeans = KMeans(n_clusters=2, random_state=0, n_init=\"auto\").fit(slope_k2)\n",
        "slope_k2 ['Cluster2']=kmeans.labels_\n",
        "slope_k2.head()"
      ],
      "metadata": {
        "id": "97aqQZoXCgA-"
      },
      "execution_count": null,
      "outputs": []
    },
    {
      "cell_type": "code",
      "source": [
        "slope_k3 = slope.copy()\n",
        "kmeans = KMeans(n_clusters=3, random_state=0, n_init=\"auto\").fit(slope_k3)\n",
        "slope_k3 ['Cluster3']=kmeans.labels_\n",
        "slope_k3.head()"
      ],
      "metadata": {
        "id": "vswSLrf_Chrj"
      },
      "execution_count": null,
      "outputs": []
    },
    {
      "cell_type": "code",
      "source": [
        "slope_k4 = slope.copy()\n",
        "kmeans = KMeans(n_clusters=4, random_state=0, n_init=\"auto\").fit(slope_k4)\n",
        "slope_k4 ['Cluster4']=kmeans.labels_\n",
        "slope_k4.head()"
      ],
      "metadata": {
        "id": "NOq6hKY6CjTy"
      },
      "execution_count": null,
      "outputs": []
    }
  ]
}