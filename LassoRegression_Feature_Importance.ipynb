{
  "nbformat": 4,
  "nbformat_minor": 0,
  "metadata": {
    "colab": {
      "provenance": [],
      "authorship_tag": "ABX9TyMebqCjKxd4S4BbMWVbvQhQ",
      "include_colab_link": true
    },
    "kernelspec": {
      "name": "python3",
      "display_name": "Python 3"
    },
    "language_info": {
      "name": "python"
    }
  },
  "cells": [
    {
      "cell_type": "markdown",
      "metadata": {
        "id": "view-in-github",
        "colab_type": "text"
      },
      "source": [
        "<a href=\"https://colab.research.google.com/github/Aomaphisara/ULckdresearch2023/blob/main/LassoRegression_Feature_Importance.ipynb\" target=\"_parent\"><img src=\"https://colab.research.google.com/assets/colab-badge.svg\" alt=\"Open In Colab\"/></a>"
      ]
    },
    {
      "cell_type": "markdown",
      "source": [
        "อ้างอิง : https://www.youtube.com/watch?v=KYHSMcP72A0"
      ],
      "metadata": {
        "id": "MBhjlsD3dkZH"
      }
    },
    {
      "cell_type": "code",
      "execution_count": 1,
      "metadata": {
        "colab": {
          "base_uri": "https://localhost:8080/"
        },
        "id": "lQmlnoMmPGzQ",
        "outputId": "86a87f39-6ca9-41ab-870c-0126d7809302"
      },
      "outputs": [
        {
          "output_type": "stream",
          "name": "stdout",
          "text": [
            "Mounted at /content/drive\n"
          ]
        }
      ],
      "source": [
        "from google.colab import drive\n",
        "drive.mount('/content/drive')"
      ]
    },
    {
      "cell_type": "code",
      "source": [
        "import pandas as pd\n",
        "df = pd.read_excel('/content/drive/MyDrive/ckdresearch2023/Assign/Assign 6: MissingValue/MissForest.xlsx')"
      ],
      "metadata": {
        "id": "jwXFZdoaPWxG"
      },
      "execution_count": 1,
      "outputs": []
    },
    {
      "cell_type": "code",
      "source": [
        "#library\n",
        "import numpy as np\n",
        "from sklearn.linear_model import Lasso\n",
        "from sklearn.preprocessing import StandardScaler\n",
        "from sklearn.pipeline import Pipeline\n",
        "from sklearn.model_selection import GridSearchCV, train_test_split\n"
      ],
      "metadata": {
        "id": "3pvmgNUlW_vV"
      },
      "execution_count": 5,
      "outputs": []
    },
    {
      "cell_type": "markdown",
      "source": [
        "##slope"
      ],
      "metadata": {
        "id": "K9hKm5q_dzIw"
      }
    },
    {
      "cell_type": "code",
      "source": [
        "# Preview\n",
        "features = df[['Age', 'InPatient', 'OutPatient', 'Emergency', 'Sex', 'NATNL',\n",
        "               'G1M2-ARB', 'G3M1-Statin', 'G5M2-NSAIDs', 'G1M5-Diuretic',\n",
        "               'G1M7-Beta-blocker', 'G1M3-Dihydropyridine-CCB', 'G1M6-MRA',\n",
        "               'G1M1-ACEI', 'G2M2-Metformin', 'G2M3-DPP4-inhibitor', 'G2M1-SU',\n",
        "               'G3M3-Fibrate', 'G2M5-SGLT2i', 'G4M1-Allopurinol', 'G1M9-Vasodilator',\n",
        "               'G1M8-Alpha-blocker', 'G2M6-Insulin', 'G2M4-TZD', 'G4M2-Febuxostat',\n",
        "               'G3M2-Ezetimibe', 'G1M4-Non-dihydropyridine-CCB', 'G5M1-Ketoanalog-amino-acid',\n",
        "               'G2M7-GLP1-RA', 'G4M3-Uricosuric-agent', 'BMI', 'BSA', 'Diastolic-BP',\n",
        "               'Systolic-BP', 'D1-Hypertension', 'D2-Diabetes-mellitus', 'D3-Dyslipidemia',\n",
        "               'D4-SLE', 'D5-Systemic-sclerosis', 'D6-Rheumatoid-arthritis', 'D7-HIV-infection',\n",
        "               'D8-HBV-infection', 'D9-HCV-infection', 'D10-Ischemic-heart-disease',\n",
        "               'D11-Heart-failure', 'D12-Thalassemia', 'D13-Kidney-stone',\n",
        "               'D14-Valvular-heart-disease', 'D15-Solid-malignancy',\n",
        "               'D16-Hematologic-malignancy', 'L2-BUN',\n",
        "               'L4-Sodium', 'L5-Potassium', 'L6-Chloride', 'L7-Bicarbonate', 'L8-Uric',\n",
        "               'L9-Calcium', 'L10-Phosphorus', 'L11-Albumin', 'L12-Hemoglobin',\n",
        "               'L13-Hematocrit', 'L14-WBC', 'L15-Platelet', 'L19-Blood-sugar',\n",
        "               'L20-HbA1c', 'L21-Cholesterol', 'L22-Triglyceride',\n",
        "               'L23-LDL-Cholesterol', 'L24-HDL-Cholesterol',\n",
        "               'L28-UrineProtein-Cr-ratio']]\n",
        "target = df['Slopes']\n",
        "\n",
        "# X and y values\n",
        "X = features.values\n",
        "y = target.values\n",
        "\n",
        "#train_test_split\n",
        "X_train, X_test, y_train, y_test = train_test_split(X, y, test_size=0.33, random_state=42)"
      ],
      "metadata": {
        "id": "lkett4-hT80o"
      },
      "execution_count": 6,
      "outputs": []
    },
    {
      "cell_type": "code",
      "source": [
        "pipeline = Pipeline([\n",
        "    ('scaler', StandardScaler()),\n",
        "    ('model', Lasso())\n",
        "])\n",
        "\n",
        "search = GridSearchCV(\n",
        "    estimator=pipeline,\n",
        "    param_grid={'model__alpha': np.arange(0.1, 3, 0.1)},\n",
        "    cv=5,\n",
        "    scoring='neg_mean_squared_error',\n",
        "    verbose=3\n",
        ")\n",
        "search.fit(X_train,y_train)"
      ],
      "metadata": {
        "colab": {
          "base_uri": "https://localhost:8080/",
          "height": 1000
        },
        "id": "ZEWnJywQaJK1",
        "outputId": "419b29b4-78de-49cf-fe2b-904b7c41d52f"
      },
      "execution_count": 7,
      "outputs": [
        {
          "output_type": "stream",
          "name": "stdout",
          "text": [
            "Fitting 5 folds for each of 29 candidates, totalling 145 fits\n",
            "[CV 1/5] END ................model__alpha=0.1;, score=-89.134 total time=   0.1s\n",
            "[CV 2/5] END ................model__alpha=0.1;, score=-88.780 total time=   0.2s\n",
            "[CV 3/5] END ................model__alpha=0.1;, score=-93.405 total time=   0.2s\n",
            "[CV 4/5] END ................model__alpha=0.1;, score=-91.428 total time=   0.2s\n",
            "[CV 5/5] END ................model__alpha=0.1;, score=-90.212 total time=   0.2s\n",
            "[CV 1/5] END ................model__alpha=0.2;, score=-89.656 total time=   0.2s\n",
            "[CV 2/5] END ................model__alpha=0.2;, score=-89.020 total time=   0.2s\n",
            "[CV 3/5] END ................model__alpha=0.2;, score=-93.817 total time=   0.1s\n",
            "[CV 4/5] END ................model__alpha=0.2;, score=-90.807 total time=   0.1s\n",
            "[CV 5/5] END ................model__alpha=0.2;, score=-90.681 total time=   0.1s\n",
            "[CV 1/5] END model__alpha=0.30000000000000004;, score=-90.218 total time=   0.1s\n",
            "[CV 2/5] END model__alpha=0.30000000000000004;, score=-89.388 total time=   0.1s\n",
            "[CV 3/5] END model__alpha=0.30000000000000004;, score=-94.313 total time=   0.2s\n",
            "[CV 4/5] END model__alpha=0.30000000000000004;, score=-91.329 total time=   0.1s\n",
            "[CV 5/5] END model__alpha=0.30000000000000004;, score=-91.202 total time=   0.2s\n",
            "[CV 1/5] END ................model__alpha=0.4;, score=-90.830 total time=   0.1s\n",
            "[CV 2/5] END ................model__alpha=0.4;, score=-89.798 total time=   0.1s\n",
            "[CV 3/5] END ................model__alpha=0.4;, score=-94.810 total time=   0.1s\n",
            "[CV 4/5] END ................model__alpha=0.4;, score=-91.744 total time=   0.1s\n",
            "[CV 5/5] END ................model__alpha=0.4;, score=-91.697 total time=   0.1s\n",
            "[CV 1/5] END ................model__alpha=0.5;, score=-91.444 total time=   0.2s\n",
            "[CV 2/5] END ................model__alpha=0.5;, score=-90.244 total time=   0.1s\n",
            "[CV 3/5] END ................model__alpha=0.5;, score=-95.310 total time=   0.1s\n",
            "[CV 4/5] END ................model__alpha=0.5;, score=-92.173 total time=   0.2s\n",
            "[CV 5/5] END ................model__alpha=0.5;, score=-92.227 total time=   0.1s\n",
            "[CV 1/5] END ................model__alpha=0.6;, score=-91.816 total time=   0.1s\n",
            "[CV 2/5] END ................model__alpha=0.6;, score=-90.580 total time=   0.2s\n",
            "[CV 3/5] END ................model__alpha=0.6;, score=-95.577 total time=   0.1s\n",
            "[CV 4/5] END ................model__alpha=0.6;, score=-92.543 total time=   0.1s\n",
            "[CV 5/5] END ................model__alpha=0.6;, score=-92.608 total time=   0.1s\n",
            "[CV 1/5] END .model__alpha=0.7000000000000001;, score=-92.225 total time=   0.2s\n",
            "[CV 2/5] END .model__alpha=0.7000000000000001;, score=-90.878 total time=   0.1s\n",
            "[CV 3/5] END .model__alpha=0.7000000000000001;, score=-95.873 total time=   0.1s\n",
            "[CV 4/5] END .model__alpha=0.7000000000000001;, score=-92.869 total time=   0.1s\n",
            "[CV 5/5] END .model__alpha=0.7000000000000001;, score=-92.973 total time=   0.1s\n",
            "[CV 1/5] END ................model__alpha=0.8;, score=-92.689 total time=   0.1s\n",
            "[CV 2/5] END ................model__alpha=0.8;, score=-91.229 total time=   0.1s\n",
            "[CV 3/5] END ................model__alpha=0.8;, score=-96.222 total time=   0.2s\n",
            "[CV 4/5] END ................model__alpha=0.8;, score=-93.245 total time=   0.2s\n",
            "[CV 5/5] END ................model__alpha=0.8;, score=-93.390 total time=   0.1s\n",
            "[CV 1/5] END ................model__alpha=0.9;, score=-93.208 total time=   0.1s\n",
            "[CV 2/5] END ................model__alpha=0.9;, score=-91.633 total time=   0.1s\n",
            "[CV 3/5] END ................model__alpha=0.9;, score=-96.622 total time=   0.1s\n",
            "[CV 4/5] END ................model__alpha=0.9;, score=-93.671 total time=   0.2s\n",
            "[CV 5/5] END ................model__alpha=0.9;, score=-93.858 total time=   0.1s\n",
            "[CV 1/5] END ................model__alpha=1.0;, score=-93.669 total time=   0.1s\n",
            "[CV 2/5] END ................model__alpha=1.0;, score=-92.056 total time=   0.1s\n",
            "[CV 3/5] END ................model__alpha=1.0;, score=-97.051 total time=   0.2s\n",
            "[CV 4/5] END ................model__alpha=1.0;, score=-94.090 total time=   0.2s\n",
            "[CV 5/5] END ................model__alpha=1.0;, score=-94.242 total time=   0.2s\n",
            "[CV 1/5] END ................model__alpha=1.1;, score=-93.970 total time=   0.2s\n",
            "[CV 2/5] END ................model__alpha=1.1;, score=-92.326 total time=   0.2s\n",
            "[CV 3/5] END ................model__alpha=1.1;, score=-97.269 total time=   0.2s\n",
            "[CV 4/5] END ................model__alpha=1.1;, score=-94.365 total time=   0.2s\n",
            "[CV 5/5] END ................model__alpha=1.1;, score=-94.489 total time=   0.2s\n",
            "[CV 1/5] END .model__alpha=1.2000000000000002;, score=-94.239 total time=   0.2s\n",
            "[CV 2/5] END .model__alpha=1.2000000000000002;, score=-92.624 total time=   0.2s\n",
            "[CV 3/5] END .model__alpha=1.2000000000000002;, score=-97.460 total time=   0.2s\n",
            "[CV 4/5] END .model__alpha=1.2000000000000002;, score=-94.585 total time=   0.2s\n",
            "[CV 5/5] END .model__alpha=1.2000000000000002;, score=-94.701 total time=   0.2s\n",
            "[CV 1/5] END .model__alpha=1.3000000000000003;, score=-94.529 total time=   0.2s\n",
            "[CV 2/5] END .model__alpha=1.3000000000000003;, score=-92.916 total time=   0.2s\n",
            "[CV 3/5] END .model__alpha=1.3000000000000003;, score=-97.670 total time=   0.2s\n",
            "[CV 4/5] END .model__alpha=1.3000000000000003;, score=-94.824 total time=   0.2s\n",
            "[CV 5/5] END .model__alpha=1.3000000000000003;, score=-94.932 total time=   0.2s\n",
            "[CV 1/5] END .model__alpha=1.4000000000000001;, score=-94.838 total time=   0.1s\n",
            "[CV 2/5] END .model__alpha=1.4000000000000001;, score=-93.218 total time=   0.2s\n",
            "[CV 3/5] END .model__alpha=1.4000000000000001;, score=-97.901 total time=   0.2s\n",
            "[CV 4/5] END .model__alpha=1.4000000000000001;, score=-95.082 total time=   0.2s\n",
            "[CV 5/5] END .model__alpha=1.4000000000000001;, score=-95.182 total time=   0.2s\n",
            "[CV 1/5] END .model__alpha=1.5000000000000002;, score=-95.168 total time=   0.2s\n",
            "[CV 2/5] END .model__alpha=1.5000000000000002;, score=-93.541 total time=   0.2s\n",
            "[CV 3/5] END .model__alpha=1.5000000000000002;, score=-98.151 total time=   0.2s\n",
            "[CV 4/5] END .model__alpha=1.5000000000000002;, score=-95.360 total time=   0.2s\n",
            "[CV 5/5] END .model__alpha=1.5000000000000002;, score=-95.452 total time=   0.2s\n",
            "[CV 1/5] END ................model__alpha=1.6;, score=-95.518 total time=   0.2s\n",
            "[CV 2/5] END ................model__alpha=1.6;, score=-93.885 total time=   0.2s\n",
            "[CV 3/5] END ................model__alpha=1.6;, score=-98.421 total time=   0.2s\n",
            "[CV 4/5] END ................model__alpha=1.6;, score=-95.657 total time=   0.2s\n",
            "[CV 5/5] END ................model__alpha=1.6;, score=-95.741 total time=   0.2s\n",
            "[CV 1/5] END .model__alpha=1.7000000000000002;, score=-95.828 total time=   0.2s\n",
            "[CV 2/5] END .model__alpha=1.7000000000000002;, score=-94.228 total time=   0.2s\n",
            "[CV 3/5] END .model__alpha=1.7000000000000002;, score=-98.711 total time=   0.2s\n",
            "[CV 4/5] END .model__alpha=1.7000000000000002;, score=-95.974 total time=   0.2s\n",
            "[CV 5/5] END .model__alpha=1.7000000000000002;, score=-96.050 total time=   0.2s\n",
            "[CV 1/5] END .model__alpha=1.8000000000000003;, score=-95.828 total time=   0.2s\n",
            "[CV 2/5] END .model__alpha=1.8000000000000003;, score=-94.228 total time=   0.2s\n",
            "[CV 3/5] END .model__alpha=1.8000000000000003;, score=-98.898 total time=   0.2s\n",
            "[CV 4/5] END .model__alpha=1.8000000000000003;, score=-96.073 total time=   0.1s\n",
            "[CV 5/5] END .model__alpha=1.8000000000000003;, score=-96.172 total time=   0.2s\n",
            "[CV 1/5] END .model__alpha=1.9000000000000001;, score=-95.828 total time=   0.2s\n",
            "[CV 2/5] END .model__alpha=1.9000000000000001;, score=-94.228 total time=   0.2s\n",
            "[CV 3/5] END .model__alpha=1.9000000000000001;, score=-98.898 total time=   0.1s\n",
            "[CV 4/5] END .model__alpha=1.9000000000000001;, score=-96.073 total time=   0.1s\n",
            "[CV 5/5] END .model__alpha=1.9000000000000001;, score=-96.172 total time=   0.1s\n",
            "[CV 1/5] END ................model__alpha=2.0;, score=-95.828 total time=   0.1s\n",
            "[CV 2/5] END ................model__alpha=2.0;, score=-94.228 total time=   0.1s\n",
            "[CV 3/5] END ................model__alpha=2.0;, score=-98.898 total time=   0.1s\n",
            "[CV 4/5] END ................model__alpha=2.0;, score=-96.073 total time=   0.1s\n",
            "[CV 5/5] END ................model__alpha=2.0;, score=-96.172 total time=   0.1s\n",
            "[CV 1/5] END ................model__alpha=2.1;, score=-95.828 total time=   0.1s\n",
            "[CV 2/5] END ................model__alpha=2.1;, score=-94.228 total time=   0.1s\n",
            "[CV 3/5] END ................model__alpha=2.1;, score=-98.898 total time=   0.1s\n",
            "[CV 4/5] END ................model__alpha=2.1;, score=-96.073 total time=   0.1s\n",
            "[CV 5/5] END ................model__alpha=2.1;, score=-96.172 total time=   0.1s\n",
            "[CV 1/5] END ................model__alpha=2.2;, score=-95.828 total time=   0.1s\n",
            "[CV 2/5] END ................model__alpha=2.2;, score=-94.228 total time=   0.1s\n",
            "[CV 3/5] END ................model__alpha=2.2;, score=-98.898 total time=   0.1s\n",
            "[CV 4/5] END ................model__alpha=2.2;, score=-96.073 total time=   0.1s\n",
            "[CV 5/5] END ................model__alpha=2.2;, score=-96.172 total time=   0.1s\n",
            "[CV 1/5] END .model__alpha=2.3000000000000003;, score=-95.828 total time=   0.1s\n",
            "[CV 2/5] END .model__alpha=2.3000000000000003;, score=-94.228 total time=   0.1s\n",
            "[CV 3/5] END .model__alpha=2.3000000000000003;, score=-98.898 total time=   0.1s\n",
            "[CV 4/5] END .model__alpha=2.3000000000000003;, score=-96.073 total time=   0.1s\n",
            "[CV 5/5] END .model__alpha=2.3000000000000003;, score=-96.172 total time=   0.1s\n",
            "[CV 1/5] END .model__alpha=2.4000000000000004;, score=-95.828 total time=   0.1s\n",
            "[CV 2/5] END .model__alpha=2.4000000000000004;, score=-94.228 total time=   0.1s\n",
            "[CV 3/5] END .model__alpha=2.4000000000000004;, score=-98.898 total time=   0.2s\n",
            "[CV 4/5] END .model__alpha=2.4000000000000004;, score=-96.073 total time=   0.1s\n",
            "[CV 5/5] END .model__alpha=2.4000000000000004;, score=-96.172 total time=   0.1s\n",
            "[CV 1/5] END .model__alpha=2.5000000000000004;, score=-95.828 total time=   0.1s\n",
            "[CV 2/5] END .model__alpha=2.5000000000000004;, score=-94.228 total time=   0.1s\n",
            "[CV 3/5] END .model__alpha=2.5000000000000004;, score=-98.898 total time=   0.1s\n",
            "[CV 4/5] END .model__alpha=2.5000000000000004;, score=-96.073 total time=   0.1s\n",
            "[CV 5/5] END .model__alpha=2.5000000000000004;, score=-96.172 total time=   0.1s\n",
            "[CV 1/5] END ................model__alpha=2.6;, score=-95.828 total time=   0.1s\n",
            "[CV 2/5] END ................model__alpha=2.6;, score=-94.228 total time=   0.2s\n",
            "[CV 3/5] END ................model__alpha=2.6;, score=-98.898 total time=   0.1s\n",
            "[CV 4/5] END ................model__alpha=2.6;, score=-96.073 total time=   0.1s\n",
            "[CV 5/5] END ................model__alpha=2.6;, score=-96.172 total time=   0.1s\n",
            "[CV 1/5] END ................model__alpha=2.7;, score=-95.828 total time=   0.1s\n",
            "[CV 2/5] END ................model__alpha=2.7;, score=-94.228 total time=   0.1s\n",
            "[CV 3/5] END ................model__alpha=2.7;, score=-98.898 total time=   0.1s\n",
            "[CV 4/5] END ................model__alpha=2.7;, score=-96.073 total time=   0.1s\n",
            "[CV 5/5] END ................model__alpha=2.7;, score=-96.172 total time=   0.2s\n",
            "[CV 1/5] END .model__alpha=2.8000000000000003;, score=-95.828 total time=   0.1s\n",
            "[CV 2/5] END .model__alpha=2.8000000000000003;, score=-94.228 total time=   0.1s\n",
            "[CV 3/5] END .model__alpha=2.8000000000000003;, score=-98.898 total time=   0.1s\n",
            "[CV 4/5] END .model__alpha=2.8000000000000003;, score=-96.073 total time=   0.1s\n",
            "[CV 5/5] END .model__alpha=2.8000000000000003;, score=-96.172 total time=   0.1s\n",
            "[CV 1/5] END .model__alpha=2.9000000000000004;, score=-95.828 total time=   0.1s\n",
            "[CV 2/5] END .model__alpha=2.9000000000000004;, score=-94.228 total time=   0.1s\n",
            "[CV 3/5] END .model__alpha=2.9000000000000004;, score=-98.898 total time=   0.1s\n",
            "[CV 4/5] END .model__alpha=2.9000000000000004;, score=-96.073 total time=   0.1s\n",
            "[CV 5/5] END .model__alpha=2.9000000000000004;, score=-96.172 total time=   0.1s\n"
          ]
        },
        {
          "output_type": "execute_result",
          "data": {
            "text/plain": [
              "GridSearchCV(cv=5,\n",
              "             estimator=Pipeline(steps=[('scaler', StandardScaler()),\n",
              "                                       ('model', Lasso())]),\n",
              "             param_grid={'model__alpha': array([0.1, 0.2, 0.3, 0.4, 0.5, 0.6, 0.7, 0.8, 0.9, 1. , 1.1, 1.2, 1.3,\n",
              "       1.4, 1.5, 1.6, 1.7, 1.8, 1.9, 2. , 2.1, 2.2, 2.3, 2.4, 2.5, 2.6,\n",
              "       2.7, 2.8, 2.9])},\n",
              "             scoring='neg_mean_squared_error', verbose=3)"
            ],
            "text/html": [
              "<style>#sk-container-id-1 {color: black;background-color: white;}#sk-container-id-1 pre{padding: 0;}#sk-container-id-1 div.sk-toggleable {background-color: white;}#sk-container-id-1 label.sk-toggleable__label {cursor: pointer;display: block;width: 100%;margin-bottom: 0;padding: 0.3em;box-sizing: border-box;text-align: center;}#sk-container-id-1 label.sk-toggleable__label-arrow:before {content: \"▸\";float: left;margin-right: 0.25em;color: #696969;}#sk-container-id-1 label.sk-toggleable__label-arrow:hover:before {color: black;}#sk-container-id-1 div.sk-estimator:hover label.sk-toggleable__label-arrow:before {color: black;}#sk-container-id-1 div.sk-toggleable__content {max-height: 0;max-width: 0;overflow: hidden;text-align: left;background-color: #f0f8ff;}#sk-container-id-1 div.sk-toggleable__content pre {margin: 0.2em;color: black;border-radius: 0.25em;background-color: #f0f8ff;}#sk-container-id-1 input.sk-toggleable__control:checked~div.sk-toggleable__content {max-height: 200px;max-width: 100%;overflow: auto;}#sk-container-id-1 input.sk-toggleable__control:checked~label.sk-toggleable__label-arrow:before {content: \"▾\";}#sk-container-id-1 div.sk-estimator input.sk-toggleable__control:checked~label.sk-toggleable__label {background-color: #d4ebff;}#sk-container-id-1 div.sk-label input.sk-toggleable__control:checked~label.sk-toggleable__label {background-color: #d4ebff;}#sk-container-id-1 input.sk-hidden--visually {border: 0;clip: rect(1px 1px 1px 1px);clip: rect(1px, 1px, 1px, 1px);height: 1px;margin: -1px;overflow: hidden;padding: 0;position: absolute;width: 1px;}#sk-container-id-1 div.sk-estimator {font-family: monospace;background-color: #f0f8ff;border: 1px dotted black;border-radius: 0.25em;box-sizing: border-box;margin-bottom: 0.5em;}#sk-container-id-1 div.sk-estimator:hover {background-color: #d4ebff;}#sk-container-id-1 div.sk-parallel-item::after {content: \"\";width: 100%;border-bottom: 1px solid gray;flex-grow: 1;}#sk-container-id-1 div.sk-label:hover label.sk-toggleable__label {background-color: #d4ebff;}#sk-container-id-1 div.sk-serial::before {content: \"\";position: absolute;border-left: 1px solid gray;box-sizing: border-box;top: 0;bottom: 0;left: 50%;z-index: 0;}#sk-container-id-1 div.sk-serial {display: flex;flex-direction: column;align-items: center;background-color: white;padding-right: 0.2em;padding-left: 0.2em;position: relative;}#sk-container-id-1 div.sk-item {position: relative;z-index: 1;}#sk-container-id-1 div.sk-parallel {display: flex;align-items: stretch;justify-content: center;background-color: white;position: relative;}#sk-container-id-1 div.sk-item::before, #sk-container-id-1 div.sk-parallel-item::before {content: \"\";position: absolute;border-left: 1px solid gray;box-sizing: border-box;top: 0;bottom: 0;left: 50%;z-index: -1;}#sk-container-id-1 div.sk-parallel-item {display: flex;flex-direction: column;z-index: 1;position: relative;background-color: white;}#sk-container-id-1 div.sk-parallel-item:first-child::after {align-self: flex-end;width: 50%;}#sk-container-id-1 div.sk-parallel-item:last-child::after {align-self: flex-start;width: 50%;}#sk-container-id-1 div.sk-parallel-item:only-child::after {width: 0;}#sk-container-id-1 div.sk-dashed-wrapped {border: 1px dashed gray;margin: 0 0.4em 0.5em 0.4em;box-sizing: border-box;padding-bottom: 0.4em;background-color: white;}#sk-container-id-1 div.sk-label label {font-family: monospace;font-weight: bold;display: inline-block;line-height: 1.2em;}#sk-container-id-1 div.sk-label-container {text-align: center;}#sk-container-id-1 div.sk-container {/* jupyter's `normalize.less` sets `[hidden] { display: none; }` but bootstrap.min.css set `[hidden] { display: none !important; }` so we also need the `!important` here to be able to override the default hidden behavior on the sphinx rendered scikit-learn.org. See: https://github.com/scikit-learn/scikit-learn/issues/21755 */display: inline-block !important;position: relative;}#sk-container-id-1 div.sk-text-repr-fallback {display: none;}</style><div id=\"sk-container-id-1\" class=\"sk-top-container\"><div class=\"sk-text-repr-fallback\"><pre>GridSearchCV(cv=5,\n",
              "             estimator=Pipeline(steps=[(&#x27;scaler&#x27;, StandardScaler()),\n",
              "                                       (&#x27;model&#x27;, Lasso())]),\n",
              "             param_grid={&#x27;model__alpha&#x27;: array([0.1, 0.2, 0.3, 0.4, 0.5, 0.6, 0.7, 0.8, 0.9, 1. , 1.1, 1.2, 1.3,\n",
              "       1.4, 1.5, 1.6, 1.7, 1.8, 1.9, 2. , 2.1, 2.2, 2.3, 2.4, 2.5, 2.6,\n",
              "       2.7, 2.8, 2.9])},\n",
              "             scoring=&#x27;neg_mean_squared_error&#x27;, verbose=3)</pre><b>In a Jupyter environment, please rerun this cell to show the HTML representation or trust the notebook. <br />On GitHub, the HTML representation is unable to render, please try loading this page with nbviewer.org.</b></div><div class=\"sk-container\" hidden><div class=\"sk-item sk-dashed-wrapped\"><div class=\"sk-label-container\"><div class=\"sk-label sk-toggleable\"><input class=\"sk-toggleable__control sk-hidden--visually\" id=\"sk-estimator-id-1\" type=\"checkbox\" ><label for=\"sk-estimator-id-1\" class=\"sk-toggleable__label sk-toggleable__label-arrow\">GridSearchCV</label><div class=\"sk-toggleable__content\"><pre>GridSearchCV(cv=5,\n",
              "             estimator=Pipeline(steps=[(&#x27;scaler&#x27;, StandardScaler()),\n",
              "                                       (&#x27;model&#x27;, Lasso())]),\n",
              "             param_grid={&#x27;model__alpha&#x27;: array([0.1, 0.2, 0.3, 0.4, 0.5, 0.6, 0.7, 0.8, 0.9, 1. , 1.1, 1.2, 1.3,\n",
              "       1.4, 1.5, 1.6, 1.7, 1.8, 1.9, 2. , 2.1, 2.2, 2.3, 2.4, 2.5, 2.6,\n",
              "       2.7, 2.8, 2.9])},\n",
              "             scoring=&#x27;neg_mean_squared_error&#x27;, verbose=3)</pre></div></div></div><div class=\"sk-parallel\"><div class=\"sk-parallel-item\"><div class=\"sk-item\"><div class=\"sk-label-container\"><div class=\"sk-label sk-toggleable\"><input class=\"sk-toggleable__control sk-hidden--visually\" id=\"sk-estimator-id-2\" type=\"checkbox\" ><label for=\"sk-estimator-id-2\" class=\"sk-toggleable__label sk-toggleable__label-arrow\">estimator: Pipeline</label><div class=\"sk-toggleable__content\"><pre>Pipeline(steps=[(&#x27;scaler&#x27;, StandardScaler()), (&#x27;model&#x27;, Lasso())])</pre></div></div></div><div class=\"sk-serial\"><div class=\"sk-item\"><div class=\"sk-serial\"><div class=\"sk-item\"><div class=\"sk-estimator sk-toggleable\"><input class=\"sk-toggleable__control sk-hidden--visually\" id=\"sk-estimator-id-3\" type=\"checkbox\" ><label for=\"sk-estimator-id-3\" class=\"sk-toggleable__label sk-toggleable__label-arrow\">StandardScaler</label><div class=\"sk-toggleable__content\"><pre>StandardScaler()</pre></div></div></div><div class=\"sk-item\"><div class=\"sk-estimator sk-toggleable\"><input class=\"sk-toggleable__control sk-hidden--visually\" id=\"sk-estimator-id-4\" type=\"checkbox\" ><label for=\"sk-estimator-id-4\" class=\"sk-toggleable__label sk-toggleable__label-arrow\">Lasso</label><div class=\"sk-toggleable__content\"><pre>Lasso()</pre></div></div></div></div></div></div></div></div></div></div></div></div>"
            ]
          },
          "metadata": {},
          "execution_count": 7
        }
      ]
    },
    {
      "cell_type": "code",
      "source": [
        "search.best_params_"
      ],
      "metadata": {
        "colab": {
          "base_uri": "https://localhost:8080/"
        },
        "id": "nqC8Y4wrbn5L",
        "outputId": "9e039805-0fc9-4b67-b4cc-37f32d083e94"
      },
      "execution_count": 8,
      "outputs": [
        {
          "output_type": "execute_result",
          "data": {
            "text/plain": [
              "{'model__alpha': 0.1}"
            ]
          },
          "metadata": {},
          "execution_count": 8
        }
      ]
    },
    {
      "cell_type": "code",
      "source": [
        "coef = search.best_estimator_[1].coef_\n",
        "coef"
      ],
      "metadata": {
        "colab": {
          "base_uri": "https://localhost:8080/"
        },
        "id": "Cryp8KLhb0kP",
        "outputId": "892cfd96-dc29-4d5c-fdbe-f09d562f0d35"
      },
      "execution_count": 9,
      "outputs": [
        {
          "output_type": "execute_result",
          "data": {
            "text/plain": [
              "array([ 3.63417369e-01,  3.52940794e-01, -0.00000000e+00, -0.00000000e+00,\n",
              "        1.60464032e-01, -0.00000000e+00, -0.00000000e+00,  0.00000000e+00,\n",
              "       -0.00000000e+00, -1.86277262e-02, -0.00000000e+00, -0.00000000e+00,\n",
              "       -2.82706086e-02, -0.00000000e+00, -5.13538542e-02, -0.00000000e+00,\n",
              "       -0.00000000e+00,  1.34502268e-01,  1.44325708e-02,  1.32570281e-03,\n",
              "       -0.00000000e+00, -0.00000000e+00, -0.00000000e+00,  0.00000000e+00,\n",
              "        8.58408592e-03, -0.00000000e+00, -0.00000000e+00, -1.95967641e-02,\n",
              "        0.00000000e+00,  0.00000000e+00,  0.00000000e+00,  0.00000000e+00,\n",
              "       -0.00000000e+00, -0.00000000e+00, -1.61166161e-03,  0.00000000e+00,\n",
              "        0.00000000e+00, -4.59620406e-02, -0.00000000e+00,  6.16695676e-03,\n",
              "       -0.00000000e+00, -0.00000000e+00, -0.00000000e+00,  0.00000000e+00,\n",
              "       -0.00000000e+00,  1.26462204e-02, -0.00000000e+00, -0.00000000e+00,\n",
              "        2.66833430e-02, -0.00000000e+00,  7.80943378e-01, -0.00000000e+00,\n",
              "        0.00000000e+00, -1.83071627e-02,  3.41485315e-02,  1.56665440e+00,\n",
              "        4.52532174e-01, -1.68704996e-02,  0.00000000e+00,  0.00000000e+00,\n",
              "        0.00000000e+00,  0.00000000e+00, -1.80445908e-01, -3.94344560e-02,\n",
              "       -8.30959444e-01, -0.00000000e+00, -3.33928895e-01, -2.31976188e-01,\n",
              "        0.00000000e+00, -4.01073072e-01])"
            ]
          },
          "metadata": {},
          "execution_count": 9
        }
      ]
    },
    {
      "cell_type": "markdown",
      "source": [
        "features ที่ถูกเลือกมาโดยโมเดล ที่มี taget เป็น slope"
      ],
      "metadata": {
        "id": "5x5vnsbCdNY5"
      }
    },
    {
      "cell_type": "code",
      "source": [
        "selected_features = np.array(features.columns)[coef != 0]\n",
        "selected_features"
      ],
      "metadata": {
        "colab": {
          "base_uri": "https://localhost:8080/"
        },
        "id": "jyx_dB59cQfP",
        "outputId": "95cc6082-6c1c-42cd-b80a-622095fc502d"
      },
      "execution_count": 10,
      "outputs": [
        {
          "output_type": "execute_result",
          "data": {
            "text/plain": [
              "array(['Age', 'InPatient', 'Sex', 'G1M5-Diuretic', 'G1M6-MRA',\n",
              "       'G2M2-Metformin', 'G3M3-Fibrate', 'G2M5-SGLT2i',\n",
              "       'G4M1-Allopurinol', 'G4M2-Febuxostat',\n",
              "       'G5M1-Ketoanalog-amino-acid', 'D1-Hypertension', 'D4-SLE',\n",
              "       'D6-Rheumatoid-arthritis', 'D12-Thalassemia',\n",
              "       'D15-Solid-malignancy', 'L2-BUN', 'L6-Chloride', 'L7-Bicarbonate',\n",
              "       'L8-Uric', 'L9-Calcium', 'L10-Phosphorus', 'L15-Platelet',\n",
              "       'L19-Blood-sugar', 'L20-HbA1c', 'L22-Triglyceride',\n",
              "       'L23-LDL-Cholesterol', 'L28-UrineProtein-Cr-ratio'], dtype=object)"
            ]
          },
          "metadata": {},
          "execution_count": 10
        }
      ]
    },
    {
      "cell_type": "code",
      "source": [
        "selected_features .shape"
      ],
      "metadata": {
        "colab": {
          "base_uri": "https://localhost:8080/"
        },
        "id": "2c_wRlkZdKww",
        "outputId": "d4084d4c-9cc5-4af1-95e0-8b329f3936b5"
      },
      "execution_count": 11,
      "outputs": [
        {
          "output_type": "execute_result",
          "data": {
            "text/plain": [
              "(28,)"
            ]
          },
          "metadata": {},
          "execution_count": 11
        }
      ]
    },
    {
      "cell_type": "code",
      "source": [
        "## np.array(features.columns)[coef != 0]\n",
        "#ดู feature ที่ไม่ถูกเลือก"
      ],
      "metadata": {
        "id": "IAxhk-3ofYvU"
      },
      "execution_count": 12,
      "outputs": []
    },
    {
      "cell_type": "markdown",
      "source": [
        "##eGFR"
      ],
      "metadata": {
        "id": "hpfgS3Ztd3vP"
      }
    },
    {
      "cell_type": "code",
      "source": [
        "# Preview\n",
        "features = df[['Age', 'InPatient', 'OutPatient', 'Emergency', 'Sex', 'NATNL',\n",
        "               'G1M2-ARB', 'G3M1-Statin', 'G5M2-NSAIDs', 'G1M5-Diuretic',\n",
        "               'G1M7-Beta-blocker', 'G1M3-Dihydropyridine-CCB', 'G1M6-MRA',\n",
        "               'G1M1-ACEI', 'G2M2-Metformin', 'G2M3-DPP4-inhibitor', 'G2M1-SU',\n",
        "               'G3M3-Fibrate', 'G2M5-SGLT2i', 'G4M1-Allopurinol', 'G1M9-Vasodilator',\n",
        "               'G1M8-Alpha-blocker', 'G2M6-Insulin', 'G2M4-TZD', 'G4M2-Febuxostat',\n",
        "               'G3M2-Ezetimibe', 'G1M4-Non-dihydropyridine-CCB', 'G5M1-Ketoanalog-amino-acid',\n",
        "               'G2M7-GLP1-RA', 'G4M3-Uricosuric-agent', 'BMI', 'BSA', 'Diastolic-BP',\n",
        "               'Systolic-BP', 'D1-Hypertension', 'D2-Diabetes-mellitus', 'D3-Dyslipidemia',\n",
        "               'D4-SLE', 'D5-Systemic-sclerosis', 'D6-Rheumatoid-arthritis', 'D7-HIV-infection',\n",
        "               'D8-HBV-infection', 'D9-HCV-infection', 'D10-Ischemic-heart-disease',\n",
        "               'D11-Heart-failure', 'D12-Thalassemia', 'D13-Kidney-stone',\n",
        "               'D14-Valvular-heart-disease', 'D15-Solid-malignancy',\n",
        "               'D16-Hematologic-malignancy', 'L2-BUN',\n",
        "               'L4-Sodium', 'L5-Potassium', 'L6-Chloride', 'L7-Bicarbonate', 'L8-Uric',\n",
        "               'L9-Calcium', 'L10-Phosphorus', 'L11-Albumin', 'L12-Hemoglobin',\n",
        "               'L13-Hematocrit', 'L14-WBC', 'L15-Platelet', 'L19-Blood-sugar',\n",
        "               'L20-HbA1c', 'L21-Cholesterol', 'L22-Triglyceride',\n",
        "               'L23-LDL-Cholesterol', 'L24-HDL-Cholesterol',\n",
        "               'L28-UrineProtein-Cr-ratio']]\n",
        "target = df['L1-eGFR']\n",
        "\n",
        "# X and y values\n",
        "X = features.values\n",
        "y = target.values\n",
        "\n",
        "#train_test_split\n",
        "X_train, X_test, y_train, y_test = train_test_split(X, y, test_size=0.33, random_state=42)"
      ],
      "metadata": {
        "id": "-CRuEIRid6Dx"
      },
      "execution_count": 13,
      "outputs": []
    },
    {
      "cell_type": "code",
      "source": [
        "pipeline = Pipeline([\n",
        "    ('scaler', StandardScaler()),\n",
        "    ('model', Lasso())\n",
        "])\n",
        "search = GridSearchCV(\n",
        "    estimator=pipeline,\n",
        "    param_grid={'model__alpha': np.arange(0.1, 3, 0.1)},\n",
        "    cv=5,\n",
        "    scoring='neg_mean_squared_error',\n",
        "    verbose=3\n",
        ")\n",
        "search.fit(X_train,y_train)"
      ],
      "metadata": {
        "colab": {
          "base_uri": "https://localhost:8080/",
          "height": 1000
        },
        "id": "cX-rAPdff_ii",
        "outputId": "e6f3fb77-0479-41ea-e5da-90d6dcacb0df"
      },
      "execution_count": 14,
      "outputs": [
        {
          "output_type": "stream",
          "name": "stdout",
          "text": [
            "Fitting 5 folds for each of 29 candidates, totalling 145 fits\n",
            "[CV 1/5] END ...............model__alpha=0.1;, score=-127.987 total time=   0.2s\n",
            "[CV 2/5] END ...............model__alpha=0.1;, score=-137.162 total time=   0.2s\n",
            "[CV 3/5] END ...............model__alpha=0.1;, score=-138.779 total time=   0.3s\n",
            "[CV 4/5] END ...............model__alpha=0.1;, score=-131.935 total time=   0.2s\n",
            "[CV 5/5] END ...............model__alpha=0.1;, score=-126.916 total time=   0.2s\n",
            "[CV 1/5] END ...............model__alpha=0.2;, score=-128.994 total time=   0.2s\n",
            "[CV 2/5] END ...............model__alpha=0.2;, score=-135.987 total time=   0.2s\n",
            "[CV 3/5] END ...............model__alpha=0.2;, score=-139.676 total time=   0.2s\n",
            "[CV 4/5] END ...............model__alpha=0.2;, score=-132.667 total time=   0.2s\n",
            "[CV 5/5] END ...............model__alpha=0.2;, score=-127.828 total time=   0.2s\n",
            "[CV 1/5] END model__alpha=0.30000000000000004;, score=-130.403 total time=   0.2s\n",
            "[CV 2/5] END model__alpha=0.30000000000000004;, score=-135.722 total time=   0.2s\n",
            "[CV 3/5] END model__alpha=0.30000000000000004;, score=-141.127 total time=   0.4s\n",
            "[CV 4/5] END model__alpha=0.30000000000000004;, score=-133.802 total time=   0.3s\n",
            "[CV 5/5] END model__alpha=0.30000000000000004;, score=-129.482 total time=   0.3s\n",
            "[CV 1/5] END ...............model__alpha=0.4;, score=-132.233 total time=   0.3s\n",
            "[CV 2/5] END ...............model__alpha=0.4;, score=-136.252 total time=   0.2s\n",
            "[CV 3/5] END ...............model__alpha=0.4;, score=-143.010 total time=   0.3s\n",
            "[CV 4/5] END ...............model__alpha=0.4;, score=-135.293 total time=   0.3s\n",
            "[CV 5/5] END ...............model__alpha=0.4;, score=-131.475 total time=   0.3s\n",
            "[CV 1/5] END ...............model__alpha=0.5;, score=-134.244 total time=   0.2s\n",
            "[CV 2/5] END ...............model__alpha=0.5;, score=-137.488 total time=   0.2s\n",
            "[CV 3/5] END ...............model__alpha=0.5;, score=-145.120 total time=   0.3s\n",
            "[CV 4/5] END ...............model__alpha=0.5;, score=-137.066 total time=   0.4s\n",
            "[CV 5/5] END ...............model__alpha=0.5;, score=-133.606 total time=   0.3s\n",
            "[CV 1/5] END ...............model__alpha=0.6;, score=-135.956 total time=   0.3s\n",
            "[CV 2/5] END ...............model__alpha=0.6;, score=-139.125 total time=   0.2s\n",
            "[CV 3/5] END ...............model__alpha=0.6;, score=-147.070 total time=   0.2s\n",
            "[CV 4/5] END ...............model__alpha=0.6;, score=-138.783 total time=   0.3s\n",
            "[CV 5/5] END ...............model__alpha=0.6;, score=-135.302 total time=   0.2s\n",
            "[CV 1/5] END model__alpha=0.7000000000000001;, score=-137.679 total time=   0.2s\n",
            "[CV 2/5] END model__alpha=0.7000000000000001;, score=-140.865 total time=   0.2s\n",
            "[CV 3/5] END model__alpha=0.7000000000000001;, score=-148.846 total time=   0.2s\n",
            "[CV 4/5] END model__alpha=0.7000000000000001;, score=-140.491 total time=   0.2s\n",
            "[CV 5/5] END model__alpha=0.7000000000000001;, score=-136.921 total time=   0.2s\n",
            "[CV 1/5] END ...............model__alpha=0.8;, score=-139.281 total time=   0.2s\n",
            "[CV 2/5] END ...............model__alpha=0.8;, score=-142.709 total time=   0.2s\n",
            "[CV 3/5] END ...............model__alpha=0.8;, score=-150.612 total time=   0.2s\n",
            "[CV 4/5] END ...............model__alpha=0.8;, score=-142.229 total time=   0.2s\n",
            "[CV 5/5] END ...............model__alpha=0.8;, score=-138.585 total time=   0.2s\n",
            "[CV 1/5] END ...............model__alpha=0.9;, score=-140.627 total time=   0.2s\n",
            "[CV 2/5] END ...............model__alpha=0.9;, score=-144.336 total time=   0.2s\n",
            "[CV 3/5] END ...............model__alpha=0.9;, score=-152.196 total time=   0.2s\n",
            "[CV 4/5] END ...............model__alpha=0.9;, score=-143.802 total time=   0.2s\n",
            "[CV 5/5] END ...............model__alpha=0.9;, score=-140.233 total time=   0.3s\n",
            "[CV 1/5] END ...............model__alpha=1.0;, score=-142.010 total time=   0.2s\n",
            "[CV 2/5] END ...............model__alpha=1.0;, score=-145.675 total time=   0.2s\n",
            "[CV 3/5] END ...............model__alpha=1.0;, score=-153.810 total time=   0.2s\n",
            "[CV 4/5] END ...............model__alpha=1.0;, score=-145.338 total time=   0.2s\n",
            "[CV 5/5] END ...............model__alpha=1.0;, score=-141.762 total time=   0.2s\n",
            "[CV 1/5] END ...............model__alpha=1.1;, score=-143.183 total time=   0.2s\n",
            "[CV 2/5] END ...............model__alpha=1.1;, score=-147.060 total time=   0.2s\n",
            "[CV 3/5] END ...............model__alpha=1.1;, score=-155.500 total time=   0.2s\n",
            "[CV 4/5] END ...............model__alpha=1.1;, score=-146.767 total time=   0.2s\n",
            "[CV 5/5] END ...............model__alpha=1.1;, score=-143.259 total time=   0.2s\n",
            "[CV 1/5] END model__alpha=1.2000000000000002;, score=-144.329 total time=   0.2s\n",
            "[CV 2/5] END model__alpha=1.2000000000000002;, score=-148.418 total time=   0.2s\n",
            "[CV 3/5] END model__alpha=1.2000000000000002;, score=-156.821 total time=   0.1s\n",
            "[CV 4/5] END model__alpha=1.2000000000000002;, score=-148.176 total time=   0.2s\n",
            "[CV 5/5] END model__alpha=1.2000000000000002;, score=-144.716 total time=   0.1s\n",
            "[CV 1/5] END model__alpha=1.3000000000000003;, score=-145.524 total time=   0.2s\n",
            "[CV 2/5] END model__alpha=1.3000000000000003;, score=-149.771 total time=   0.2s\n",
            "[CV 3/5] END model__alpha=1.3000000000000003;, score=-158.197 total time=   0.1s\n",
            "[CV 4/5] END model__alpha=1.3000000000000003;, score=-149.508 total time=   0.2s\n",
            "[CV 5/5] END model__alpha=1.3000000000000003;, score=-146.134 total time=   0.1s\n",
            "[CV 1/5] END model__alpha=1.4000000000000001;, score=-146.718 total time=   0.2s\n",
            "[CV 2/5] END model__alpha=1.4000000000000001;, score=-150.977 total time=   0.2s\n",
            "[CV 3/5] END model__alpha=1.4000000000000001;, score=-159.366 total time=   0.1s\n",
            "[CV 4/5] END model__alpha=1.4000000000000001;, score=-150.652 total time=   0.2s\n",
            "[CV 5/5] END model__alpha=1.4000000000000001;, score=-147.263 total time=   0.2s\n",
            "[CV 1/5] END model__alpha=1.5000000000000002;, score=-147.638 total time=   0.2s\n",
            "[CV 2/5] END model__alpha=1.5000000000000002;, score=-151.998 total time=   0.3s\n",
            "[CV 3/5] END model__alpha=1.5000000000000002;, score=-160.345 total time=   0.3s\n",
            "[CV 4/5] END model__alpha=1.5000000000000002;, score=-151.756 total time=   0.1s\n",
            "[CV 5/5] END model__alpha=1.5000000000000002;, score=-148.157 total time=   0.1s\n",
            "[CV 1/5] END ...............model__alpha=1.6;, score=-148.510 total time=   0.2s\n",
            "[CV 2/5] END ...............model__alpha=1.6;, score=-152.971 total time=   0.1s\n",
            "[CV 3/5] END ...............model__alpha=1.6;, score=-161.307 total time=   0.1s\n",
            "[CV 4/5] END ...............model__alpha=1.6;, score=-152.743 total time=   0.2s\n",
            "[CV 5/5] END ...............model__alpha=1.6;, score=-149.110 total time=   0.1s\n",
            "[CV 1/5] END model__alpha=1.7000000000000002;, score=-149.445 total time=   0.2s\n",
            "[CV 2/5] END model__alpha=1.7000000000000002;, score=-154.007 total time=   0.1s\n",
            "[CV 3/5] END model__alpha=1.7000000000000002;, score=-162.329 total time=   0.1s\n",
            "[CV 4/5] END model__alpha=1.7000000000000002;, score=-153.789 total time=   0.1s\n",
            "[CV 5/5] END model__alpha=1.7000000000000002;, score=-150.123 total time=   0.2s\n",
            "[CV 1/5] END model__alpha=1.8000000000000003;, score=-150.445 total time=   0.2s\n",
            "[CV 2/5] END model__alpha=1.8000000000000003;, score=-155.107 total time=   0.2s\n",
            "[CV 3/5] END model__alpha=1.8000000000000003;, score=-163.411 total time=   0.1s\n",
            "[CV 4/5] END model__alpha=1.8000000000000003;, score=-154.895 total time=   0.1s\n",
            "[CV 5/5] END model__alpha=1.8000000000000003;, score=-151.195 total time=   0.1s\n",
            "[CV 1/5] END model__alpha=1.9000000000000001;, score=-151.508 total time=   0.1s\n",
            "[CV 2/5] END model__alpha=1.9000000000000001;, score=-156.271 total time=   0.2s\n",
            "[CV 3/5] END model__alpha=1.9000000000000001;, score=-164.553 total time=   0.1s\n",
            "[CV 4/5] END model__alpha=1.9000000000000001;, score=-156.060 total time=   0.1s\n",
            "[CV 5/5] END model__alpha=1.9000000000000001;, score=-152.328 total time=   0.2s\n",
            "[CV 1/5] END ...............model__alpha=2.0;, score=-152.578 total time=   0.2s\n",
            "[CV 2/5] END ...............model__alpha=2.0;, score=-157.499 total time=   0.2s\n",
            "[CV 3/5] END ...............model__alpha=2.0;, score=-165.754 total time=   0.1s\n",
            "[CV 4/5] END ...............model__alpha=2.0;, score=-157.284 total time=   0.1s\n",
            "[CV 5/5] END ...............model__alpha=2.0;, score=-153.521 total time=   0.2s\n",
            "[CV 1/5] END ...............model__alpha=2.1;, score=-153.461 total time=   0.3s\n",
            "[CV 2/5] END ...............model__alpha=2.1;, score=-158.790 total time=   0.2s\n",
            "[CV 3/5] END ...............model__alpha=2.1;, score=-167.014 total time=   0.2s\n",
            "[CV 4/5] END ...............model__alpha=2.1;, score=-158.568 total time=   0.2s\n",
            "[CV 5/5] END ...............model__alpha=2.1;, score=-154.601 total time=   0.2s\n",
            "[CV 1/5] END ...............model__alpha=2.2;, score=-154.395 total time=   0.2s\n",
            "[CV 2/5] END ...............model__alpha=2.2;, score=-159.913 total time=   0.2s\n",
            "[CV 3/5] END ...............model__alpha=2.2;, score=-168.221 total time=   0.2s\n",
            "[CV 4/5] END ...............model__alpha=2.2;, score=-159.797 total time=   0.2s\n",
            "[CV 5/5] END ...............model__alpha=2.2;, score=-155.630 total time=   0.2s\n",
            "[CV 1/5] END model__alpha=2.3000000000000003;, score=-155.381 total time=   0.1s\n",
            "[CV 2/5] END model__alpha=2.3000000000000003;, score=-161.068 total time=   0.2s\n",
            "[CV 3/5] END model__alpha=2.3000000000000003;, score=-169.375 total time=   0.2s\n",
            "[CV 4/5] END model__alpha=2.3000000000000003;, score=-160.969 total time=   0.2s\n",
            "[CV 5/5] END model__alpha=2.3000000000000003;, score=-156.707 total time=   0.2s\n",
            "[CV 1/5] END model__alpha=2.4000000000000004;, score=-156.418 total time=   0.2s\n",
            "[CV 2/5] END model__alpha=2.4000000000000004;, score=-162.275 total time=   0.2s\n",
            "[CV 3/5] END model__alpha=2.4000000000000004;, score=-170.577 total time=   0.2s\n",
            "[CV 4/5] END model__alpha=2.4000000000000004;, score=-162.188 total time=   0.2s\n",
            "[CV 5/5] END model__alpha=2.4000000000000004;, score=-157.832 total time=   0.2s\n",
            "[CV 1/5] END model__alpha=2.5000000000000004;, score=-157.506 total time=   0.2s\n",
            "[CV 2/5] END model__alpha=2.5000000000000004;, score=-163.532 total time=   0.2s\n",
            "[CV 3/5] END model__alpha=2.5000000000000004;, score=-171.829 total time=   0.4s\n",
            "[CV 4/5] END model__alpha=2.5000000000000004;, score=-163.456 total time=   0.3s\n",
            "[CV 5/5] END model__alpha=2.5000000000000004;, score=-159.004 total time=   0.2s\n",
            "[CV 1/5] END ...............model__alpha=2.6;, score=-158.645 total time=   0.4s\n",
            "[CV 2/5] END ...............model__alpha=2.6;, score=-164.840 total time=   0.3s\n",
            "[CV 3/5] END ...............model__alpha=2.6;, score=-173.128 total time=   0.3s\n",
            "[CV 4/5] END ...............model__alpha=2.6;, score=-164.771 total time=   0.4s\n",
            "[CV 5/5] END ...............model__alpha=2.6;, score=-160.225 total time=   0.3s\n",
            "[CV 1/5] END ...............model__alpha=2.7;, score=-159.836 total time=   0.4s\n",
            "[CV 2/5] END ...............model__alpha=2.7;, score=-166.199 total time=   0.4s\n",
            "[CV 3/5] END ...............model__alpha=2.7;, score=-174.477 total time=   0.2s\n",
            "[CV 4/5] END ...............model__alpha=2.7;, score=-166.134 total time=   0.2s\n",
            "[CV 5/5] END ...............model__alpha=2.7;, score=-161.493 total time=   0.3s\n",
            "[CV 1/5] END model__alpha=2.8000000000000003;, score=-161.078 total time=   0.3s\n",
            "[CV 2/5] END model__alpha=2.8000000000000003;, score=-167.609 total time=   0.3s\n",
            "[CV 3/5] END model__alpha=2.8000000000000003;, score=-175.875 total time=   0.1s\n",
            "[CV 4/5] END model__alpha=2.8000000000000003;, score=-167.545 total time=   0.2s\n",
            "[CV 5/5] END model__alpha=2.8000000000000003;, score=-162.810 total time=   0.2s\n",
            "[CV 1/5] END model__alpha=2.9000000000000004;, score=-162.371 total time=   0.2s\n",
            "[CV 2/5] END model__alpha=2.9000000000000004;, score=-169.069 total time=   0.2s\n",
            "[CV 3/5] END model__alpha=2.9000000000000004;, score=-177.321 total time=   0.2s\n",
            "[CV 4/5] END model__alpha=2.9000000000000004;, score=-169.004 total time=   0.2s\n",
            "[CV 5/5] END model__alpha=2.9000000000000004;, score=-164.174 total time=   0.2s\n"
          ]
        },
        {
          "output_type": "execute_result",
          "data": {
            "text/plain": [
              "GridSearchCV(cv=5,\n",
              "             estimator=Pipeline(steps=[('scaler', StandardScaler()),\n",
              "                                       ('model', Lasso())]),\n",
              "             param_grid={'model__alpha': array([0.1, 0.2, 0.3, 0.4, 0.5, 0.6, 0.7, 0.8, 0.9, 1. , 1.1, 1.2, 1.3,\n",
              "       1.4, 1.5, 1.6, 1.7, 1.8, 1.9, 2. , 2.1, 2.2, 2.3, 2.4, 2.5, 2.6,\n",
              "       2.7, 2.8, 2.9])},\n",
              "             scoring='neg_mean_squared_error', verbose=3)"
            ],
            "text/html": [
              "<style>#sk-container-id-2 {color: black;background-color: white;}#sk-container-id-2 pre{padding: 0;}#sk-container-id-2 div.sk-toggleable {background-color: white;}#sk-container-id-2 label.sk-toggleable__label {cursor: pointer;display: block;width: 100%;margin-bottom: 0;padding: 0.3em;box-sizing: border-box;text-align: center;}#sk-container-id-2 label.sk-toggleable__label-arrow:before {content: \"▸\";float: left;margin-right: 0.25em;color: #696969;}#sk-container-id-2 label.sk-toggleable__label-arrow:hover:before {color: black;}#sk-container-id-2 div.sk-estimator:hover label.sk-toggleable__label-arrow:before {color: black;}#sk-container-id-2 div.sk-toggleable__content {max-height: 0;max-width: 0;overflow: hidden;text-align: left;background-color: #f0f8ff;}#sk-container-id-2 div.sk-toggleable__content pre {margin: 0.2em;color: black;border-radius: 0.25em;background-color: #f0f8ff;}#sk-container-id-2 input.sk-toggleable__control:checked~div.sk-toggleable__content {max-height: 200px;max-width: 100%;overflow: auto;}#sk-container-id-2 input.sk-toggleable__control:checked~label.sk-toggleable__label-arrow:before {content: \"▾\";}#sk-container-id-2 div.sk-estimator input.sk-toggleable__control:checked~label.sk-toggleable__label {background-color: #d4ebff;}#sk-container-id-2 div.sk-label input.sk-toggleable__control:checked~label.sk-toggleable__label {background-color: #d4ebff;}#sk-container-id-2 input.sk-hidden--visually {border: 0;clip: rect(1px 1px 1px 1px);clip: rect(1px, 1px, 1px, 1px);height: 1px;margin: -1px;overflow: hidden;padding: 0;position: absolute;width: 1px;}#sk-container-id-2 div.sk-estimator {font-family: monospace;background-color: #f0f8ff;border: 1px dotted black;border-radius: 0.25em;box-sizing: border-box;margin-bottom: 0.5em;}#sk-container-id-2 div.sk-estimator:hover {background-color: #d4ebff;}#sk-container-id-2 div.sk-parallel-item::after {content: \"\";width: 100%;border-bottom: 1px solid gray;flex-grow: 1;}#sk-container-id-2 div.sk-label:hover label.sk-toggleable__label {background-color: #d4ebff;}#sk-container-id-2 div.sk-serial::before {content: \"\";position: absolute;border-left: 1px solid gray;box-sizing: border-box;top: 0;bottom: 0;left: 50%;z-index: 0;}#sk-container-id-2 div.sk-serial {display: flex;flex-direction: column;align-items: center;background-color: white;padding-right: 0.2em;padding-left: 0.2em;position: relative;}#sk-container-id-2 div.sk-item {position: relative;z-index: 1;}#sk-container-id-2 div.sk-parallel {display: flex;align-items: stretch;justify-content: center;background-color: white;position: relative;}#sk-container-id-2 div.sk-item::before, #sk-container-id-2 div.sk-parallel-item::before {content: \"\";position: absolute;border-left: 1px solid gray;box-sizing: border-box;top: 0;bottom: 0;left: 50%;z-index: -1;}#sk-container-id-2 div.sk-parallel-item {display: flex;flex-direction: column;z-index: 1;position: relative;background-color: white;}#sk-container-id-2 div.sk-parallel-item:first-child::after {align-self: flex-end;width: 50%;}#sk-container-id-2 div.sk-parallel-item:last-child::after {align-self: flex-start;width: 50%;}#sk-container-id-2 div.sk-parallel-item:only-child::after {width: 0;}#sk-container-id-2 div.sk-dashed-wrapped {border: 1px dashed gray;margin: 0 0.4em 0.5em 0.4em;box-sizing: border-box;padding-bottom: 0.4em;background-color: white;}#sk-container-id-2 div.sk-label label {font-family: monospace;font-weight: bold;display: inline-block;line-height: 1.2em;}#sk-container-id-2 div.sk-label-container {text-align: center;}#sk-container-id-2 div.sk-container {/* jupyter's `normalize.less` sets `[hidden] { display: none; }` but bootstrap.min.css set `[hidden] { display: none !important; }` so we also need the `!important` here to be able to override the default hidden behavior on the sphinx rendered scikit-learn.org. See: https://github.com/scikit-learn/scikit-learn/issues/21755 */display: inline-block !important;position: relative;}#sk-container-id-2 div.sk-text-repr-fallback {display: none;}</style><div id=\"sk-container-id-2\" class=\"sk-top-container\"><div class=\"sk-text-repr-fallback\"><pre>GridSearchCV(cv=5,\n",
              "             estimator=Pipeline(steps=[(&#x27;scaler&#x27;, StandardScaler()),\n",
              "                                       (&#x27;model&#x27;, Lasso())]),\n",
              "             param_grid={&#x27;model__alpha&#x27;: array([0.1, 0.2, 0.3, 0.4, 0.5, 0.6, 0.7, 0.8, 0.9, 1. , 1.1, 1.2, 1.3,\n",
              "       1.4, 1.5, 1.6, 1.7, 1.8, 1.9, 2. , 2.1, 2.2, 2.3, 2.4, 2.5, 2.6,\n",
              "       2.7, 2.8, 2.9])},\n",
              "             scoring=&#x27;neg_mean_squared_error&#x27;, verbose=3)</pre><b>In a Jupyter environment, please rerun this cell to show the HTML representation or trust the notebook. <br />On GitHub, the HTML representation is unable to render, please try loading this page with nbviewer.org.</b></div><div class=\"sk-container\" hidden><div class=\"sk-item sk-dashed-wrapped\"><div class=\"sk-label-container\"><div class=\"sk-label sk-toggleable\"><input class=\"sk-toggleable__control sk-hidden--visually\" id=\"sk-estimator-id-5\" type=\"checkbox\" ><label for=\"sk-estimator-id-5\" class=\"sk-toggleable__label sk-toggleable__label-arrow\">GridSearchCV</label><div class=\"sk-toggleable__content\"><pre>GridSearchCV(cv=5,\n",
              "             estimator=Pipeline(steps=[(&#x27;scaler&#x27;, StandardScaler()),\n",
              "                                       (&#x27;model&#x27;, Lasso())]),\n",
              "             param_grid={&#x27;model__alpha&#x27;: array([0.1, 0.2, 0.3, 0.4, 0.5, 0.6, 0.7, 0.8, 0.9, 1. , 1.1, 1.2, 1.3,\n",
              "       1.4, 1.5, 1.6, 1.7, 1.8, 1.9, 2. , 2.1, 2.2, 2.3, 2.4, 2.5, 2.6,\n",
              "       2.7, 2.8, 2.9])},\n",
              "             scoring=&#x27;neg_mean_squared_error&#x27;, verbose=3)</pre></div></div></div><div class=\"sk-parallel\"><div class=\"sk-parallel-item\"><div class=\"sk-item\"><div class=\"sk-label-container\"><div class=\"sk-label sk-toggleable\"><input class=\"sk-toggleable__control sk-hidden--visually\" id=\"sk-estimator-id-6\" type=\"checkbox\" ><label for=\"sk-estimator-id-6\" class=\"sk-toggleable__label sk-toggleable__label-arrow\">estimator: Pipeline</label><div class=\"sk-toggleable__content\"><pre>Pipeline(steps=[(&#x27;scaler&#x27;, StandardScaler()), (&#x27;model&#x27;, Lasso())])</pre></div></div></div><div class=\"sk-serial\"><div class=\"sk-item\"><div class=\"sk-serial\"><div class=\"sk-item\"><div class=\"sk-estimator sk-toggleable\"><input class=\"sk-toggleable__control sk-hidden--visually\" id=\"sk-estimator-id-7\" type=\"checkbox\" ><label for=\"sk-estimator-id-7\" class=\"sk-toggleable__label sk-toggleable__label-arrow\">StandardScaler</label><div class=\"sk-toggleable__content\"><pre>StandardScaler()</pre></div></div></div><div class=\"sk-item\"><div class=\"sk-estimator sk-toggleable\"><input class=\"sk-toggleable__control sk-hidden--visually\" id=\"sk-estimator-id-8\" type=\"checkbox\" ><label for=\"sk-estimator-id-8\" class=\"sk-toggleable__label sk-toggleable__label-arrow\">Lasso</label><div class=\"sk-toggleable__content\"><pre>Lasso()</pre></div></div></div></div></div></div></div></div></div></div></div></div>"
            ]
          },
          "metadata": {},
          "execution_count": 14
        }
      ]
    },
    {
      "cell_type": "code",
      "source": [
        "search.best_params_"
      ],
      "metadata": {
        "colab": {
          "base_uri": "https://localhost:8080/"
        },
        "id": "R99JobRagSbg",
        "outputId": "dfce1c46-1cdb-4833-9694-c50f1326ba41"
      },
      "execution_count": 15,
      "outputs": [
        {
          "output_type": "execute_result",
          "data": {
            "text/plain": [
              "{'model__alpha': 0.1}"
            ]
          },
          "metadata": {},
          "execution_count": 15
        }
      ]
    },
    {
      "cell_type": "code",
      "source": [
        "coef = search.best_estimator_[1].coef_\n",
        "coef"
      ],
      "metadata": {
        "colab": {
          "base_uri": "https://localhost:8080/"
        },
        "id": "3Rha60wWgWOY",
        "outputId": "afc7fb02-cbd6-4f38-fbe6-478d86199ae6"
      },
      "execution_count": 16,
      "outputs": [
        {
          "output_type": "execute_result",
          "data": {
            "text/plain": [
              "array([-3.60694211,  0.73025585, -0.43312531,  0.        , -1.24781015,\n",
              "        0.01692943,  0.16534373, -0.30165362,  0.39018269,  0.426454  ,\n",
              "       -0.        , -0.54203024,  0.1208992 ,  0.65857768,  1.21920555,\n",
              "       -0.44719409, -0.        , -0.21996483, -0.        , -0.50667048,\n",
              "       -0.40899669, -0.22678447, -0.        , -0.03050562, -0.31772352,\n",
              "       -0.02876557, -0.37178976, -0.23493698,  0.        , -0.02970766,\n",
              "        0.01036098,  0.        , -0.        , -0.        , -0.        ,\n",
              "       -0.31464979, -0.        ,  0.02613082,  0.        ,  0.03805904,\n",
              "        0.        ,  0.        ,  0.16162163, -0.        ,  0.04872293,\n",
              "        0.        ,  0.01927398,  0.05278397,  0.        ,  0.        ,\n",
              "       -8.0353544 ,  0.03909021, -0.        , -0.        ,  0.21299342,\n",
              "       -5.81975197, -0.55708846,  1.04845646,  0.        ,  1.0714794 ,\n",
              "        0.659299  ,  0.51644865,  0.29752012,  0.43274027,  0.3291219 ,\n",
              "        0.        ,  0.46419403,  0.46827328, -0.31318393,  0.62421284])"
            ]
          },
          "metadata": {},
          "execution_count": 16
        }
      ]
    },
    {
      "cell_type": "markdown",
      "source": [
        "features ที่ถูกเลือกมาโดยโมเดล ที่มี taget เป็น eGFR"
      ],
      "metadata": {
        "id": "EtMoZQQVhen7"
      }
    },
    {
      "cell_type": "code",
      "source": [
        "selected_features = np.array(features.columns)[coef != 0]\n",
        "selected_features"
      ],
      "metadata": {
        "colab": {
          "base_uri": "https://localhost:8080/"
        },
        "id": "3Jg8B5B5gbUo",
        "outputId": "cbf97312-04b3-473c-a126-fed4f3c63e36"
      },
      "execution_count": 17,
      "outputs": [
        {
          "output_type": "execute_result",
          "data": {
            "text/plain": [
              "array(['Age', 'InPatient', 'OutPatient', 'Sex', 'NATNL', 'G1M2-ARB',\n",
              "       'G3M1-Statin', 'G5M2-NSAIDs', 'G1M5-Diuretic',\n",
              "       'G1M3-Dihydropyridine-CCB', 'G1M6-MRA', 'G1M1-ACEI',\n",
              "       'G2M2-Metformin', 'G2M3-DPP4-inhibitor', 'G3M3-Fibrate',\n",
              "       'G4M1-Allopurinol', 'G1M9-Vasodilator', 'G1M8-Alpha-blocker',\n",
              "       'G2M4-TZD', 'G4M2-Febuxostat', 'G3M2-Ezetimibe',\n",
              "       'G1M4-Non-dihydropyridine-CCB', 'G5M1-Ketoanalog-amino-acid',\n",
              "       'G4M3-Uricosuric-agent', 'BMI', 'D2-Diabetes-mellitus', 'D4-SLE',\n",
              "       'D6-Rheumatoid-arthritis', 'D9-HCV-infection', 'D11-Heart-failure',\n",
              "       'D13-Kidney-stone', 'D14-Valvular-heart-disease', 'L2-BUN',\n",
              "       'L4-Sodium', 'L7-Bicarbonate', 'L8-Uric', 'L9-Calcium',\n",
              "       'L10-Phosphorus', 'L12-Hemoglobin', 'L13-Hematocrit', 'L14-WBC',\n",
              "       'L15-Platelet', 'L19-Blood-sugar', 'L20-HbA1c', 'L22-Triglyceride',\n",
              "       'L23-LDL-Cholesterol', 'L24-HDL-Cholesterol',\n",
              "       'L28-UrineProtein-Cr-ratio'], dtype=object)"
            ]
          },
          "metadata": {},
          "execution_count": 17
        }
      ]
    },
    {
      "cell_type": "code",
      "source": [
        "selected_features.shape"
      ],
      "metadata": {
        "colab": {
          "base_uri": "https://localhost:8080/"
        },
        "id": "or_4CPCEgeln",
        "outputId": "e0518301-86a6-4b91-919c-762574d0137b"
      },
      "execution_count": 18,
      "outputs": [
        {
          "output_type": "execute_result",
          "data": {
            "text/plain": [
              "(48,)"
            ]
          },
          "metadata": {},
          "execution_count": 18
        }
      ]
    }
  ]
}