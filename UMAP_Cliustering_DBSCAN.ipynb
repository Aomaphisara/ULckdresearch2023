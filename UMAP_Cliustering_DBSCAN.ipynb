{
  "cells": [
    {
      "cell_type": "markdown",
      "metadata": {
        "id": "view-in-github",
        "colab_type": "text"
      },
      "source": [
        "<a href=\"https://colab.research.google.com/github/Aomaphisara/ULckdresearch2023/blob/main/UMAP_Cliustering_DBSCAN.ipynb\" target=\"_parent\"><img src=\"https://colab.research.google.com/assets/colab-badge.svg\" alt=\"Open In Colab\"/></a>"
      ]
    },
    {
      "cell_type": "code",
      "execution_count": null,
      "metadata": {
        "colab": {
          "base_uri": "https://localhost:8080/"
        },
        "id": "wYudd8bCbDok",
        "outputId": "31480a55-26b2-4c3a-a28f-4c7924bbc102"
      },
      "outputs": [
        {
          "name": "stdout",
          "output_type": "stream",
          "text": [
            "Drive already mounted at /content/drive; to attempt to forcibly remount, call drive.mount(\"/content/drive\", force_remount=True).\n"
          ]
        }
      ],
      "source": [
        "from google.colab import drive\n",
        "drive.mount('/content/drive')"
      ]
    },
    {
      "cell_type": "code",
      "execution_count": null,
      "metadata": {
        "id": "uGNQLKeibKqr"
      },
      "outputs": [],
      "source": [
        "import pandas as pd\n",
        "df = pd.read_csv(\"/content/drive/MyDrive/ckd/data.csv\")"
      ]
    },
    {
      "cell_type": "code",
      "execution_count": null,
      "metadata": {
        "id": "e89f6RarcDvV"
      },
      "outputs": [],
      "source": [
        "#select columns\n",
        "select_columns = ['InPatient', 'OutPatient', 'Emergency', 'LabLocation', 'NATNL', 'Sex','Age', 'BMI',  'BSA', 'Diastolic-BP', 'Systolic-BP',\n",
        " 'G1M2-ARB', 'G3M1-Statin', 'G5M2-NSAIDs', 'G1M5-Diuretic', 'G1M7-Beta-blocker',\n",
        "       'G1M3-Dihydropyridine-CCB', 'G1M6-MRA', 'G1M1-ACEI', 'G2M2-Metformin',\n",
        "       'G2M3-DPP4-inhibitor', 'G2M1-SU', 'G3M3-Fibrate', 'G2M5-SGLT2i',\n",
        "       'G4M1-Allopurinol', 'G1M9-Vasodilator', 'G1M8-Alpha-blocker',\n",
        "       'G2M6-Insulin', 'G2M4-TZD', 'G4M2-Febuxostat', 'G3M2-Ezetimibe',\n",
        "       'G1M4-Non-dihydropyridine-CCB', 'G5M1-Ketoanalog-amino-acid',\n",
        "       'G2M7-GLP1-RA', 'G4M3-Uricosuric-agent',\n",
        "    'D1-Hypertension', 'D2-Diabetes-mellitus', 'D3-Dyslipidemia', 'D4-SLE',\n",
        "       'D5-Systemic-sclerosis', 'D6-Rheumatoid-arthritis', 'D7-HIV-infection',\n",
        "       'D8-HBV-infection', 'D9-HCV-infection', 'D10-Ischemic-heart-disease',\n",
        "       'D11-Heart-failure', 'D12-Thalassemia', 'D13-Kidney-stone',\n",
        "       'D14-Valvular-heart-disease', 'D15-Solid-malignancy',\n",
        "       'D16-Hematologic-malignancy',\n",
        "   'L2-BUN','L3-Creatinine','L4-Sodium', 'L5-Potassium', 'L6-Chloride', 'L7-Bicarbonate', 'L8-Uric',\n",
        "       'L9-Calcium', 'L10-Phosphorus', 'L11-Albumin', 'L12-Hemoglobin',\n",
        "       'L13-Hematocrit', 'L14-WBC', 'L15-Platelet', 'L19-Blood-sugar',\n",
        "       'L20-HbA1c', 'L21-Cholesterol', 'L22-Triglyceride',\n",
        "       'L23-LDL-Cholesterol', 'L24-HDL-Cholesterol',\n",
        "       'L28-UrineProtein-Cr-ratio']\n",
        "select_columns = df[select_columns]"
      ]
    },
    {
      "cell_type": "markdown",
      "metadata": {
        "id": "m74R8mgvcLV5"
      },
      "source": [
        "##Feature Scaling (Standard Scaler)"
      ]
    },
    {
      "cell_type": "code",
      "execution_count": null,
      "metadata": {
        "id": "WVYeE2XecJrq"
      },
      "outputs": [],
      "source": [
        "from sklearn.preprocessing import StandardScaler\n",
        "#data scale\n",
        "scaler = StandardScaler()\n",
        "data_scale = scaler.fit_transform(select_columns)\n",
        "data_scale = pd.DataFrame(data_scale, columns=select_columns.columns)\n",
        "\n",
        "#add colums 'InPatient', 'OutPatient', 'Emergency', 'NATNL', 'Sex'\n",
        "additional_columns = df[['InPatient', 'OutPatient', 'Emergency', 'LabLocation', 'NATNL', 'Sex']]\n",
        "data_scale = pd.concat([data_scale, additional_columns], axis=1)"
      ]
    },
    {
      "cell_type": "code",
      "execution_count": null,
      "metadata": {
        "colab": {
          "base_uri": "https://localhost:8080/",
          "height": 253
        },
        "id": "QYtJex0u2D-o",
        "outputId": "dcef5d01-751d-47f2-d291-71ea9db47118"
      },
      "outputs": [
        {
          "data": {
            "application/vnd.google.colaboratory.intrinsic+json": {
              "type": "dataframe",
              "variable_name": "data_scale"
            },
            "text/html": [
              "\n",
              "  <div id=\"df-3a23317c-ff45-4e67-ae8b-16a69ca99b39\" class=\"colab-df-container\">\n",
              "    <div>\n",
              "<style scoped>\n",
              "    .dataframe tbody tr th:only-of-type {\n",
              "        vertical-align: middle;\n",
              "    }\n",
              "\n",
              "    .dataframe tbody tr th {\n",
              "        vertical-align: top;\n",
              "    }\n",
              "\n",
              "    .dataframe thead th {\n",
              "        text-align: right;\n",
              "    }\n",
              "</style>\n",
              "<table border=\"1\" class=\"dataframe\">\n",
              "  <thead>\n",
              "    <tr style=\"text-align: right;\">\n",
              "      <th></th>\n",
              "      <th>Age</th>\n",
              "      <th>BMI</th>\n",
              "      <th>BSA</th>\n",
              "      <th>Diastolic-BP</th>\n",
              "      <th>Systolic-BP</th>\n",
              "      <th>G1M2-ARB</th>\n",
              "      <th>G3M1-Statin</th>\n",
              "      <th>G5M2-NSAIDs</th>\n",
              "      <th>G1M5-Diuretic</th>\n",
              "      <th>G1M7-Beta-blocker</th>\n",
              "      <th>...</th>\n",
              "      <th>L22-Triglyceride</th>\n",
              "      <th>L23-LDL-Cholesterol</th>\n",
              "      <th>L24-HDL-Cholesterol</th>\n",
              "      <th>L28-UrineProtein-Cr-ratio</th>\n",
              "      <th>InPatient</th>\n",
              "      <th>OutPatient</th>\n",
              "      <th>Emergency</th>\n",
              "      <th>LabLocation</th>\n",
              "      <th>NATNL</th>\n",
              "      <th>Sex</th>\n",
              "    </tr>\n",
              "  </thead>\n",
              "  <tbody>\n",
              "    <tr>\n",
              "      <th>0</th>\n",
              "      <td>0.531249</td>\n",
              "      <td>-1.055973</td>\n",
              "      <td>-1.625472</td>\n",
              "      <td>0.160130</td>\n",
              "      <td>-0.525000</td>\n",
              "      <td>2.991739</td>\n",
              "      <td>-0.698699</td>\n",
              "      <td>-0.129510</td>\n",
              "      <td>-0.176477</td>\n",
              "      <td>-0.333859</td>\n",
              "      <td>...</td>\n",
              "      <td>-0.803614</td>\n",
              "      <td>0.321723</td>\n",
              "      <td>3.686025</td>\n",
              "      <td>-1.158713</td>\n",
              "      <td>0</td>\n",
              "      <td>1</td>\n",
              "      <td>0</td>\n",
              "      <td>1</td>\n",
              "      <td>0</td>\n",
              "      <td>1</td>\n",
              "    </tr>\n",
              "    <tr>\n",
              "      <th>1</th>\n",
              "      <td>0.617111</td>\n",
              "      <td>-1.201074</td>\n",
              "      <td>-1.686392</td>\n",
              "      <td>-0.793624</td>\n",
              "      <td>-1.800103</td>\n",
              "      <td>2.991739</td>\n",
              "      <td>1.392719</td>\n",
              "      <td>-0.129510</td>\n",
              "      <td>-0.176477</td>\n",
              "      <td>-0.333859</td>\n",
              "      <td>...</td>\n",
              "      <td>-1.038268</td>\n",
              "      <td>0.983545</td>\n",
              "      <td>1.640595</td>\n",
              "      <td>-1.258996</td>\n",
              "      <td>0</td>\n",
              "      <td>1</td>\n",
              "      <td>0</td>\n",
              "      <td>1</td>\n",
              "      <td>0</td>\n",
              "      <td>1</td>\n",
              "    </tr>\n",
              "    <tr>\n",
              "      <th>2</th>\n",
              "      <td>0.702974</td>\n",
              "      <td>-1.077875</td>\n",
              "      <td>-1.686392</td>\n",
              "      <td>0.246834</td>\n",
              "      <td>0.112551</td>\n",
              "      <td>3.360578</td>\n",
              "      <td>1.625099</td>\n",
              "      <td>4.073425</td>\n",
              "      <td>-0.176477</td>\n",
              "      <td>-0.333859</td>\n",
              "      <td>...</td>\n",
              "      <td>-1.065875</td>\n",
              "      <td>0.494372</td>\n",
              "      <td>1.011232</td>\n",
              "      <td>-0.988847</td>\n",
              "      <td>0</td>\n",
              "      <td>1</td>\n",
              "      <td>0</td>\n",
              "      <td>1</td>\n",
              "      <td>0</td>\n",
              "      <td>1</td>\n",
              "    </tr>\n",
              "    <tr>\n",
              "      <th>3</th>\n",
              "      <td>0.788837</td>\n",
              "      <td>-1.201074</td>\n",
              "      <td>-1.808232</td>\n",
              "      <td>-0.620214</td>\n",
              "      <td>-0.119286</td>\n",
              "      <td>0.963126</td>\n",
              "      <td>-0.698699</td>\n",
              "      <td>-0.005894</td>\n",
              "      <td>2.205286</td>\n",
              "      <td>-0.333859</td>\n",
              "      <td>...</td>\n",
              "      <td>-0.969252</td>\n",
              "      <td>0.782121</td>\n",
              "      <td>1.876606</td>\n",
              "      <td>-0.884842</td>\n",
              "      <td>0</td>\n",
              "      <td>1</td>\n",
              "      <td>0</td>\n",
              "      <td>1</td>\n",
              "      <td>0</td>\n",
              "      <td>1</td>\n",
              "    </tr>\n",
              "    <tr>\n",
              "      <th>4</th>\n",
              "      <td>0.960563</td>\n",
              "      <td>-1.535080</td>\n",
              "      <td>-1.990992</td>\n",
              "      <td>-1.400558</td>\n",
              "      <td>-1.916021</td>\n",
              "      <td>3.360578</td>\n",
              "      <td>-0.698699</td>\n",
              "      <td>1.724726</td>\n",
              "      <td>-0.176477</td>\n",
              "      <td>-0.333859</td>\n",
              "      <td>...</td>\n",
              "      <td>-0.900236</td>\n",
              "      <td>0.494372</td>\n",
              "      <td>0.617880</td>\n",
              "      <td>-1.026662</td>\n",
              "      <td>0</td>\n",
              "      <td>1</td>\n",
              "      <td>0</td>\n",
              "      <td>1</td>\n",
              "      <td>0</td>\n",
              "      <td>1</td>\n",
              "    </tr>\n",
              "  </tbody>\n",
              "</table>\n",
              "<p>5 rows × 72 columns</p>\n",
              "</div>\n",
              "    <div class=\"colab-df-buttons\">\n",
              "\n",
              "  <div class=\"colab-df-container\">\n",
              "    <button class=\"colab-df-convert\" onclick=\"convertToInteractive('df-3a23317c-ff45-4e67-ae8b-16a69ca99b39')\"\n",
              "            title=\"Convert this dataframe to an interactive table.\"\n",
              "            style=\"display:none;\">\n",
              "\n",
              "  <svg xmlns=\"http://www.w3.org/2000/svg\" height=\"24px\" viewBox=\"0 -960 960 960\">\n",
              "    <path d=\"M120-120v-720h720v720H120Zm60-500h600v-160H180v160Zm220 220h160v-160H400v160Zm0 220h160v-160H400v160ZM180-400h160v-160H180v160Zm440 0h160v-160H620v160ZM180-180h160v-160H180v160Zm440 0h160v-160H620v160Z\"/>\n",
              "  </svg>\n",
              "    </button>\n",
              "\n",
              "  <style>\n",
              "    .colab-df-container {\n",
              "      display:flex;\n",
              "      gap: 12px;\n",
              "    }\n",
              "\n",
              "    .colab-df-convert {\n",
              "      background-color: #E8F0FE;\n",
              "      border: none;\n",
              "      border-radius: 50%;\n",
              "      cursor: pointer;\n",
              "      display: none;\n",
              "      fill: #1967D2;\n",
              "      height: 32px;\n",
              "      padding: 0 0 0 0;\n",
              "      width: 32px;\n",
              "    }\n",
              "\n",
              "    .colab-df-convert:hover {\n",
              "      background-color: #E2EBFA;\n",
              "      box-shadow: 0px 1px 2px rgba(60, 64, 67, 0.3), 0px 1px 3px 1px rgba(60, 64, 67, 0.15);\n",
              "      fill: #174EA6;\n",
              "    }\n",
              "\n",
              "    .colab-df-buttons div {\n",
              "      margin-bottom: 4px;\n",
              "    }\n",
              "\n",
              "    [theme=dark] .colab-df-convert {\n",
              "      background-color: #3B4455;\n",
              "      fill: #D2E3FC;\n",
              "    }\n",
              "\n",
              "    [theme=dark] .colab-df-convert:hover {\n",
              "      background-color: #434B5C;\n",
              "      box-shadow: 0px 1px 3px 1px rgba(0, 0, 0, 0.15);\n",
              "      filter: drop-shadow(0px 1px 2px rgba(0, 0, 0, 0.3));\n",
              "      fill: #FFFFFF;\n",
              "    }\n",
              "  </style>\n",
              "\n",
              "    <script>\n",
              "      const buttonEl =\n",
              "        document.querySelector('#df-3a23317c-ff45-4e67-ae8b-16a69ca99b39 button.colab-df-convert');\n",
              "      buttonEl.style.display =\n",
              "        google.colab.kernel.accessAllowed ? 'block' : 'none';\n",
              "\n",
              "      async function convertToInteractive(key) {\n",
              "        const element = document.querySelector('#df-3a23317c-ff45-4e67-ae8b-16a69ca99b39');\n",
              "        const dataTable =\n",
              "          await google.colab.kernel.invokeFunction('convertToInteractive',\n",
              "                                                    [key], {});\n",
              "        if (!dataTable) return;\n",
              "\n",
              "        const docLinkHtml = 'Like what you see? Visit the ' +\n",
              "          '<a target=\"_blank\" href=https://colab.research.google.com/notebooks/data_table.ipynb>data table notebook</a>'\n",
              "          + ' to learn more about interactive tables.';\n",
              "        element.innerHTML = '';\n",
              "        dataTable['output_type'] = 'display_data';\n",
              "        await google.colab.output.renderOutput(dataTable, element);\n",
              "        const docLink = document.createElement('div');\n",
              "        docLink.innerHTML = docLinkHtml;\n",
              "        element.appendChild(docLink);\n",
              "      }\n",
              "    </script>\n",
              "  </div>\n",
              "\n",
              "\n",
              "<div id=\"df-b5921977-f50d-4b5a-b1e2-9f616203b802\">\n",
              "  <button class=\"colab-df-quickchart\" onclick=\"quickchart('df-b5921977-f50d-4b5a-b1e2-9f616203b802')\"\n",
              "            title=\"Suggest charts\"\n",
              "            style=\"display:none;\">\n",
              "\n",
              "<svg xmlns=\"http://www.w3.org/2000/svg\" height=\"24px\"viewBox=\"0 0 24 24\"\n",
              "     width=\"24px\">\n",
              "    <g>\n",
              "        <path d=\"M19 3H5c-1.1 0-2 .9-2 2v14c0 1.1.9 2 2 2h14c1.1 0 2-.9 2-2V5c0-1.1-.9-2-2-2zM9 17H7v-7h2v7zm4 0h-2V7h2v10zm4 0h-2v-4h2v4z\"/>\n",
              "    </g>\n",
              "</svg>\n",
              "  </button>\n",
              "\n",
              "<style>\n",
              "  .colab-df-quickchart {\n",
              "      --bg-color: #E8F0FE;\n",
              "      --fill-color: #1967D2;\n",
              "      --hover-bg-color: #E2EBFA;\n",
              "      --hover-fill-color: #174EA6;\n",
              "      --disabled-fill-color: #AAA;\n",
              "      --disabled-bg-color: #DDD;\n",
              "  }\n",
              "\n",
              "  [theme=dark] .colab-df-quickchart {\n",
              "      --bg-color: #3B4455;\n",
              "      --fill-color: #D2E3FC;\n",
              "      --hover-bg-color: #434B5C;\n",
              "      --hover-fill-color: #FFFFFF;\n",
              "      --disabled-bg-color: #3B4455;\n",
              "      --disabled-fill-color: #666;\n",
              "  }\n",
              "\n",
              "  .colab-df-quickchart {\n",
              "    background-color: var(--bg-color);\n",
              "    border: none;\n",
              "    border-radius: 50%;\n",
              "    cursor: pointer;\n",
              "    display: none;\n",
              "    fill: var(--fill-color);\n",
              "    height: 32px;\n",
              "    padding: 0;\n",
              "    width: 32px;\n",
              "  }\n",
              "\n",
              "  .colab-df-quickchart:hover {\n",
              "    background-color: var(--hover-bg-color);\n",
              "    box-shadow: 0 1px 2px rgba(60, 64, 67, 0.3), 0 1px 3px 1px rgba(60, 64, 67, 0.15);\n",
              "    fill: var(--button-hover-fill-color);\n",
              "  }\n",
              "\n",
              "  .colab-df-quickchart-complete:disabled,\n",
              "  .colab-df-quickchart-complete:disabled:hover {\n",
              "    background-color: var(--disabled-bg-color);\n",
              "    fill: var(--disabled-fill-color);\n",
              "    box-shadow: none;\n",
              "  }\n",
              "\n",
              "  .colab-df-spinner {\n",
              "    border: 2px solid var(--fill-color);\n",
              "    border-color: transparent;\n",
              "    border-bottom-color: var(--fill-color);\n",
              "    animation:\n",
              "      spin 1s steps(1) infinite;\n",
              "  }\n",
              "\n",
              "  @keyframes spin {\n",
              "    0% {\n",
              "      border-color: transparent;\n",
              "      border-bottom-color: var(--fill-color);\n",
              "      border-left-color: var(--fill-color);\n",
              "    }\n",
              "    20% {\n",
              "      border-color: transparent;\n",
              "      border-left-color: var(--fill-color);\n",
              "      border-top-color: var(--fill-color);\n",
              "    }\n",
              "    30% {\n",
              "      border-color: transparent;\n",
              "      border-left-color: var(--fill-color);\n",
              "      border-top-color: var(--fill-color);\n",
              "      border-right-color: var(--fill-color);\n",
              "    }\n",
              "    40% {\n",
              "      border-color: transparent;\n",
              "      border-right-color: var(--fill-color);\n",
              "      border-top-color: var(--fill-color);\n",
              "    }\n",
              "    60% {\n",
              "      border-color: transparent;\n",
              "      border-right-color: var(--fill-color);\n",
              "    }\n",
              "    80% {\n",
              "      border-color: transparent;\n",
              "      border-right-color: var(--fill-color);\n",
              "      border-bottom-color: var(--fill-color);\n",
              "    }\n",
              "    90% {\n",
              "      border-color: transparent;\n",
              "      border-bottom-color: var(--fill-color);\n",
              "    }\n",
              "  }\n",
              "</style>\n",
              "\n",
              "  <script>\n",
              "    async function quickchart(key) {\n",
              "      const quickchartButtonEl =\n",
              "        document.querySelector('#' + key + ' button');\n",
              "      quickchartButtonEl.disabled = true;  // To prevent multiple clicks.\n",
              "      quickchartButtonEl.classList.add('colab-df-spinner');\n",
              "      try {\n",
              "        const charts = await google.colab.kernel.invokeFunction(\n",
              "            'suggestCharts', [key], {});\n",
              "      } catch (error) {\n",
              "        console.error('Error during call to suggestCharts:', error);\n",
              "      }\n",
              "      quickchartButtonEl.classList.remove('colab-df-spinner');\n",
              "      quickchartButtonEl.classList.add('colab-df-quickchart-complete');\n",
              "    }\n",
              "    (() => {\n",
              "      let quickchartButtonEl =\n",
              "        document.querySelector('#df-b5921977-f50d-4b5a-b1e2-9f616203b802 button');\n",
              "      quickchartButtonEl.style.display =\n",
              "        google.colab.kernel.accessAllowed ? 'block' : 'none';\n",
              "    })();\n",
              "  </script>\n",
              "</div>\n",
              "    </div>\n",
              "  </div>\n"
            ],
            "text/plain": [
              "        Age       BMI       BSA  Diastolic-BP  Systolic-BP  G1M2-ARB  \\\n",
              "0  0.531249 -1.055973 -1.625472      0.160130    -0.525000  2.991739   \n",
              "1  0.617111 -1.201074 -1.686392     -0.793624    -1.800103  2.991739   \n",
              "2  0.702974 -1.077875 -1.686392      0.246834     0.112551  3.360578   \n",
              "3  0.788837 -1.201074 -1.808232     -0.620214    -0.119286  0.963126   \n",
              "4  0.960563 -1.535080 -1.990992     -1.400558    -1.916021  3.360578   \n",
              "\n",
              "   G3M1-Statin  G5M2-NSAIDs  G1M5-Diuretic  G1M7-Beta-blocker  ...  \\\n",
              "0    -0.698699    -0.129510      -0.176477          -0.333859  ...   \n",
              "1     1.392719    -0.129510      -0.176477          -0.333859  ...   \n",
              "2     1.625099     4.073425      -0.176477          -0.333859  ...   \n",
              "3    -0.698699    -0.005894       2.205286          -0.333859  ...   \n",
              "4    -0.698699     1.724726      -0.176477          -0.333859  ...   \n",
              "\n",
              "   L22-Triglyceride  L23-LDL-Cholesterol  L24-HDL-Cholesterol  \\\n",
              "0         -0.803614             0.321723             3.686025   \n",
              "1         -1.038268             0.983545             1.640595   \n",
              "2         -1.065875             0.494372             1.011232   \n",
              "3         -0.969252             0.782121             1.876606   \n",
              "4         -0.900236             0.494372             0.617880   \n",
              "\n",
              "   L28-UrineProtein-Cr-ratio  InPatient  OutPatient  Emergency  LabLocation  \\\n",
              "0                  -1.158713          0           1          0            1   \n",
              "1                  -1.258996          0           1          0            1   \n",
              "2                  -0.988847          0           1          0            1   \n",
              "3                  -0.884842          0           1          0            1   \n",
              "4                  -1.026662          0           1          0            1   \n",
              "\n",
              "   NATNL  Sex  \n",
              "0      0    1  \n",
              "1      0    1  \n",
              "2      0    1  \n",
              "3      0    1  \n",
              "4      0    1  \n",
              "\n",
              "[5 rows x 72 columns]"
            ]
          },
          "execution_count": 67,
          "metadata": {},
          "output_type": "execute_result"
        }
      ],
      "source": [
        "data_scale.head()"
      ]
    },
    {
      "cell_type": "code",
      "execution_count": null,
      "metadata": {
        "colab": {
          "base_uri": "https://localhost:8080/"
        },
        "id": "8Q0vjlQicfCk",
        "outputId": "53702ccd-f5c9-403d-91e9-c56a2f799925"
      },
      "outputs": [
        {
          "data": {
            "text/plain": [
              "(52620, 72)"
            ]
          },
          "execution_count": 68,
          "metadata": {},
          "output_type": "execute_result"
        }
      ],
      "source": [
        "data_scale.shape"
      ]
    },
    {
      "cell_type": "code",
      "execution_count": null,
      "metadata": {
        "id": "uXICOdcajmi7"
      },
      "outputs": [],
      "source": [
        "#data_scale.to_csv('data_scale.csv')"
      ]
    },
    {
      "cell_type": "markdown",
      "metadata": {
        "id": "-oDvF761fSK5"
      },
      "source": [
        "##UMAP"
      ]
    },
    {
      "cell_type": "markdown",
      "metadata": {
        "id": "ii05j9AJUplg"
      },
      "source": [
        "- min_dist : ควบคุมความแน่นหนาของ UMAP มีช่วงของค่าตั้งแต่ 0.0 ถึง 0.99"
      ]
    },
    {
      "cell_type": "code",
      "execution_count": null,
      "metadata": {
        "id": "GC6Z9Guucsp7"
      },
      "outputs": [],
      "source": [
        "pip install umap-learn"
      ]
    },
    {
      "cell_type": "code",
      "execution_count": null,
      "metadata": {
        "id": "Pawe3vNbfqjE"
      },
      "outputs": [],
      "source": [
        "from umap import UMAP\n",
        "\n",
        "X = data_scale.copy()\n",
        "# compute 2D embedding of raw variable values\n",
        "X_2d = UMAP(\n",
        "  n_components=2, n_neighbors=1000, min_dist=0.99\n",
        ").fit_transform(X)"
      ]
    },
    {
      "cell_type": "code",
      "execution_count": null,
      "metadata": {
        "colab": {
          "base_uri": "https://localhost:8080/",
          "height": 507
        },
        "id": "xMlo70-kffir",
        "outputId": "0f13387b-d99e-4333-919a-a34c5ab3e402"
      },
      "outputs": [
        {
          "name": "stderr",
          "output_type": "stream",
          "text": [
            "<ipython-input-7-dd32ffcb60f2>:3: UserWarning: No data for colormapping provided via 'c'. Parameters 'cmap' will be ignored\n",
            "  plt.scatter(X_2d[:, 0], X_2d[:, 1], marker='o', s=5, cmap='viridis')\n"
          ]
        },
        {
          "data": {
            "image/png": "[encoded data removed]",
            "text/plain": [
              "<Figure size 640x480 with 1 Axes>"
            ]
          },
          "metadata": {},
          "output_type": "display_data"
        }
      ],
      "source": [
        "import matplotlib.pyplot as plt\n",
        "# Assuming X_2d is your 2D embedding\n",
        "plt.scatter(X_2d[:, 0], X_2d[:, 1], marker='o', s=5, cmap='viridis')\n",
        "\n",
        "# Add labels and title if needed\n",
        "plt.xlabel('UMAP Dimension 1')\n",
        "plt.ylabel('UMAP Dimension 2')\n",
        "plt.title('UMAP Visualization')\n",
        "\n",
        "# Show the plot\n",
        "plt.show()\n",
        "\n",
        "\n",
        "# Save the plot as PNG file\n",
        "#plt.savefig('umap_n1000.png', dpi=300)"
      ]
    },
    {
      "cell_type": "markdown",
      "metadata": {
        "id": "JuJy4dnHSYkl"
      },
      "source": [
        "## DBSCAN"
      ]
    },
    {
      "cell_type": "code",
      "execution_count": null,
      "metadata": {
        "id": "5mCrcrY-SYTZ"
      },
      "outputs": [],
      "source": [
        "import matplotlib.pyplot as plt\n",
        "import numpy as np\n",
        "from sklearn.cluster import DBSCAN\n",
        "from sklearn import metrics\n",
        "from sklearn.preprocessing import StandardScaler"
      ]
    },
    {
      "cell_type": "code",
      "execution_count": null,
      "metadata": {
        "id": "_J8RvPN0aI0n"
      },
      "outputs": [],
      "source": [
        "data = X_2d.copy()"
      ]
    },
    {
      "cell_type": "markdown",
      "metadata": {
        "id": "SQNj-4nWPUPd"
      },
      "source": [
        "ใช้ ค่า Silhouette Coefficient  เป็นตัวชี้วัดในการวัดประเมินการจัดกลุ่ม\n",
        "- ค่า Silhouette Coefficient เป็นตัววัดที่ใช้วัดความคล้ายคลึงภายในกลุ่มและความแตกต่างระหว่างกลุ่ม\n",
        "- ค่า Silhouette Coefficient มีค่าอยู่ในช่วง [-1, 1] โดยค่าที่ใกล้ 1 จะแสดงถึงการแบ่งกลุ่มที่ดี และค่าที่ใกล้ -1 จะแสดงถึงการแบ่งกลุ่มที่ไม่ดี"
      ]
    },
    {
      "cell_type": "code",
      "execution_count": null,
      "metadata": {
        "colab": {
          "base_uri": "https://localhost:8080/"
        },
        "id": "8LXCccNQ0LR4",
        "outputId": "c84f2201-18e0-4662-cbd0-666130a5af0c"
      },
      "outputs": [
        {
          "name": "stdout",
          "output_type": "stream",
          "text": [
            "Estimated number of clusters: 3\n",
            "Estimated number of noise points: 1529\n",
            "Silhouette Coefficient: 0.68\n"
          ]
        }
      ],
      "source": [
        "import numpy as np\n",
        "from sklearn import metrics\n",
        "from sklearn.cluster import DBSCAN\n",
        "\n",
        "db = DBSCAN(eps=2, min_samples=500).fit(data)\n",
        "labels = db.labels_\n",
        "\n",
        "# Number of clusters in labels, ignoring noise if present.\n",
        "n_clusters_ = len(set(labels)) - (1 if -1 in labels else 0)\n",
        "n_noise_ = list(labels).count(-1)\n",
        "\n",
        "print(\"Estimated number of clusters: %d\" % n_clusters_)\n",
        "print(\"Estimated number of noise points: %d\" % n_noise_)\n",
        "print(f\"Silhouette Coefficient: {metrics.silhouette_score(data, labels):.2f}\")"
      ]
    },
    {
      "cell_type": "code",
      "execution_count": null,
      "metadata": {
        "colab": {
          "base_uri": "https://localhost:8080/",
          "height": 452
        },
        "id": "MJQd4kR5pcXn",
        "outputId": "2321cad1-93cf-4f1c-e100-33e0e1d62dc2"
      },
      "outputs": [
        {
          "data": {
            "image/png": "[encoded data removed]",
            "text/plain": [
              "<Figure size 640x480 with 1 Axes>"
            ]
          },
          "metadata": {},
          "output_type": "display_data"
        }
      ],
      "source": [
        "import numpy as np\n",
        "import matplotlib.pyplot as plt\n",
        "\n",
        "unique_labels = set(labels)\n",
        "core_samples_mask = np.zeros_like(labels, dtype=bool)\n",
        "core_samples_mask[db.core_sample_indices_] = True\n",
        "\n",
        "colors = [plt.cm.Spectral(each) for each in np.linspace(0, 1, len(unique_labels))]\n",
        "for k, col in zip(unique_labels, colors):\n",
        "    if k == -1:\n",
        "        # Black used for noise.\n",
        "        col = [0, 0, 0, 1]\n",
        "\n",
        "    class_member_mask = labels == k\n",
        "\n",
        "    xy = data[class_member_mask & core_samples_mask]\n",
        "    plt.plot(\n",
        "        xy[:, 0],\n",
        "        xy[:, 1],\n",
        "        \"o\",\n",
        "        markerfacecolor=tuple(col),\n",
        "        markeredgecolor=\"k\",\n",
        "        markersize=14,\n",
        "    )\n",
        "\n",
        "    xy = data[class_member_mask & ~core_samples_mask]\n",
        "    plt.plot(\n",
        "        xy[:, 0],\n",
        "        xy[:, 1],\n",
        "        \"o\",\n",
        "        markerfacecolor=tuple(col),\n",
        "        markeredgecolor=\"k\",\n",
        "        markersize=6,\n",
        "    )\n",
        "\n",
        "plt.title(f\"Estimated number of clusters: {n_clusters_}\")\n",
        "plt.show()"
      ]
    },
    {
      "cell_type": "code",
      "execution_count": null,
      "metadata": {
        "colab": {
          "base_uri": "https://localhost:8080/"
        },
        "id": "4WE-bygbpcXo",
        "outputId": "26e12619-a15b-4adf-aac2-48178545b0f1"
      },
      "outputs": [
        {
          "name": "stdout",
          "output_type": "stream",
          "text": [
            "Cluster 0: 49095 data points\n",
            "Cluster 1: 641 data points\n",
            "Cluster 2: 1355 data points\n"
          ]
        }
      ],
      "source": [
        "import numpy as np\n",
        "\n",
        "# Find unique labels\n",
        "unique_labels = np.unique(labels)\n",
        "\n",
        "# Count the number of data points in each cluster\n",
        "for label in unique_labels:\n",
        "    if label == -1:\n",
        "        # Skip noise points\n",
        "        continue\n",
        "    # Create a boolean mask for the current cluster\n",
        "    cluster_mask = (labels == label)\n",
        "    # Count the number of data points in the cluster\n",
        "    num_points = np.sum(cluster_mask)\n",
        "    print(f\"Cluster {label}: {num_points} data points\")"
      ]
    },
    {
      "cell_type": "markdown",
      "metadata": {
        "id": "Ebkvoo_N-vmk"
      },
      "source": [
        "### save ไฟล์"
      ]
    },
    {
      "cell_type": "code",
      "execution_count": null,
      "metadata": {
        "id": "uG7AnjNLbzVo"
      },
      "outputs": [],
      "source": [
        "import pandas as pd\n",
        "from sklearn.cluster import DBSCAN\n",
        "\n",
        "# Assuming you have your data and data_scale ready\n",
        "\n",
        "# Perform DBSCAN clustering\n",
        "db = DBSCAN(eps=2, min_samples=500).fit(data)\n",
        "labels = db.labels_"
      ]
    },
    {
      "cell_type": "code",
      "execution_count": null,
      "metadata": {
        "id": "9q-0WTCvE6f2"
      },
      "outputs": [],
      "source": [
        "#ข้อมูลที่ scale\n",
        "# Create a DataFrame from the labels obtained from DBSCAN\n",
        "labels_df = pd.DataFrame(labels, columns=['labels'])\n",
        "\n",
        "# Add the 'labels' column to the scaled data\n",
        "data_dbscan_scale = pd.concat([data_scale, labels_df], axis=1)\n",
        "data_dbscan_scale"
      ]
    },
    {
      "cell_type": "code",
      "execution_count": null,
      "metadata": {
        "id": "4btcjvEuEWme"
      },
      "outputs": [],
      "source": [
        "#select columns\n",
        "columns = ['InPatient', 'OutPatient', 'Emergency', 'LabLocation', 'NATNL', 'Sex','Age', 'BMI',  'BSA', 'Diastolic-BP', 'Systolic-BP',\n",
        " 'G1M2-ARB', 'G3M1-Statin', 'G5M2-NSAIDs', 'G1M5-Diuretic', 'G1M7-Beta-blocker',\n",
        "       'G1M3-Dihydropyridine-CCB', 'G1M6-MRA', 'G1M1-ACEI', 'G2M2-Metformin',\n",
        "       'G2M3-DPP4-inhibitor', 'G2M1-SU', 'G3M3-Fibrate', 'G2M5-SGLT2i',\n",
        "       'G4M1-Allopurinol', 'G1M9-Vasodilator', 'G1M8-Alpha-blocker',\n",
        "       'G2M6-Insulin', 'G2M4-TZD', 'G4M2-Febuxostat', 'G3M2-Ezetimibe',\n",
        "       'G1M4-Non-dihydropyridine-CCB', 'G5M1-Ketoanalog-amino-acid',\n",
        "       'G2M7-GLP1-RA', 'G4M3-Uricosuric-agent',\n",
        "    'D1-Hypertension', 'D2-Diabetes-mellitus', 'D3-Dyslipidemia', 'D4-SLE',\n",
        "       'D5-Systemic-sclerosis', 'D6-Rheumatoid-arthritis', 'D7-HIV-infection',\n",
        "       'D8-HBV-infection', 'D9-HCV-infection', 'D10-Ischemic-heart-disease',\n",
        "       'D11-Heart-failure', 'D12-Thalassemia', 'D13-Kidney-stone',\n",
        "       'D14-Valvular-heart-disease', 'D15-Solid-malignancy',\n",
        "       'D16-Hematologic-malignancy',\n",
        "   'L2-BUN','L3-Creatinine','L4-Sodium', 'L5-Potassium', 'L6-Chloride', 'L7-Bicarbonate', 'L8-Uric',\n",
        "       'L9-Calcium', 'L10-Phosphorus', 'L11-Albumin', 'L12-Hemoglobin',\n",
        "       'L13-Hematocrit', 'L14-WBC', 'L15-Platelet', 'L19-Blood-sugar',\n",
        "       'L20-HbA1c', 'L21-Cholesterol', 'L22-Triglyceride',\n",
        "       'L23-LDL-Cholesterol', 'L24-HDL-Cholesterol',\n",
        "       'L28-UrineProtein-Cr-ratio']\n",
        "columns = df[columns]\n",
        "columns"
      ]
    },
    {
      "cell_type": "code",
      "execution_count": null,
      "metadata": {
        "id": "AUBYM1hcEAsX"
      },
      "outputs": [],
      "source": [
        "#ข้อมูลที่ไม่ได้ทำการ scale\n",
        "# Create a DataFrame from the labels obtained from DBSCAN\n",
        "labels_df = pd.DataFrame(labels, columns=['labels'])\n",
        "\n",
        "# Add the 'labels' column to the scaled data\n",
        "data_dbscan = pd.concat([columns, labels_df], axis=1)\n",
        "data_dbscan"
      ]
    },
    {
      "cell_type": "code",
      "execution_count": null,
      "metadata": {
        "id": "OvNgt5LdFVIF"
      },
      "outputs": [],
      "source": [
        "#save file data\n",
        "data_dbscan_scale .to_csv('/content/drive/MyDrive/ckd/data_DBSCAN_scale.csv', index=False)\n",
        "data_dbscan.to_csv('/content/drive/MyDrive/ckd/data_DBSCAN.csv', index=False)"
      ]
    },
    {
      "cell_type": "code",
      "execution_count": null,
      "metadata": {
        "colab": {
          "base_uri": "https://localhost:8080/"
        },
        "id": "oF-jqcfAc_CC",
        "outputId": "969dd90b-bb38-4361-c142-b0672826ead5"
      },
      "outputs": [
        {
          "data": {
            "text/plain": [
              "array([ 0, -1,  1,  2])"
            ]
          },
          "execution_count": 67,
          "metadata": {},
          "output_type": "execute_result"
        }
      ],
      "source": [
        "unique_labels = data_dbscan['labels'].unique()\n",
        "unique_labels"
      ]
    },
    {
      "cell_type": "code",
      "execution_count": null,
      "metadata": {
        "colab": {
          "base_uri": "https://localhost:8080/"
        },
        "id": "nFJSd1y3dS_K",
        "outputId": "b619693b-c2fb-4378-bdba-f995524f4c70"
      },
      "outputs": [
        {
          "data": {
            "text/plain": [
              "(49095, 73)"
            ]
          },
          "execution_count": 57,
          "metadata": {},
          "output_type": "execute_result"
        }
      ],
      "source": [
        "data_with_label_0 = data_dbscan[data_dbscan['labels'] == 0]\n",
        "data_with_label_0.shape"
      ]
    },
    {
      "cell_type": "code",
      "execution_count": null,
      "metadata": {
        "colab": {
          "base_uri": "https://localhost:8080/"
        },
        "id": "fGBQajczhDTa",
        "outputId": "c01ea441-060a-463d-9155-d9a66a15503e"
      },
      "outputs": [
        {
          "name": "stderr",
          "output_type": "stream",
          "text": [
            "<ipython-input-68-5bde2341909d>:5: SettingWithCopyWarning: \n",
            "A value is trying to be set on a copy of a slice from a DataFrame.\n",
            "Try using .loc[row_indexer,col_indexer] = value instead\n",
            "\n",
            "See the caveats in the documentation: https://pandas.pydata.org/pandas-docs/stable/user_guide/indexing.html#returning-a-view-versus-a-copy\n",
            "  data_cleaned['labels'] = data_cleaned['labels'].replace({0: 1, 1: 2, 2: 3})\n"
          ]
        }
      ],
      "source": [
        "# ลบข้อมูลที่มี labels เป็น -1\n",
        "data_cleaned = data_dbscan[data_dbscan['labels'] != -1]\n",
        "\n",
        "# เปลี่ยนชื่อข้อมูลใน labels โดยที่ 0 จะกลายเป็น 1 และ 1 จะกลายเป็น 2\n",
        "data_cleaned['labels'] = data_cleaned['labels'].replace({0: 1, 1: 2, 2: 3})\n",
        "data = data_cleaned.copy()"
      ]
    },
    {
      "cell_type": "code",
      "execution_count": null,
      "metadata": {
        "colab": {
          "base_uri": "https://localhost:8080/"
        },
        "id": "alOGAuxkImHL",
        "outputId": "01b19604-ee25-42f4-d3bb-b1111e404734"
      },
      "outputs": [
        {
          "data": {
            "text/plain": [
              "(51091, 73)"
            ]
          },
          "execution_count": 70,
          "metadata": {},
          "output_type": "execute_result"
        }
      ],
      "source": [
        "data.shape #  หลังตัด Noise"
      ]
    },
    {
      "cell_type": "code",
      "execution_count": null,
      "metadata": {
        "colab": {
          "base_uri": "https://localhost:8080/"
        },
        "id": "it9DzaIRL-Lj",
        "outputId": "3101fd47-8b96-4b7d-ed70-01ef3cdc79d8"
      },
      "outputs": [
        {
          "name": "stderr",
          "output_type": "stream",
          "text": [
            "<ipython-input-75-46073f96b19e>:5: SettingWithCopyWarning: \n",
            "A value is trying to be set on a copy of a slice from a DataFrame.\n",
            "Try using .loc[row_indexer,col_indexer] = value instead\n",
            "\n",
            "See the caveats in the documentation: https://pandas.pydata.org/pandas-docs/stable/user_guide/indexing.html#returning-a-view-versus-a-copy\n",
            "  data_cleaned['labels'] = data_cleaned['labels'].replace({0: 1, 1: 2, 2: 3})\n"
          ]
        }
      ],
      "source": [
        "# ลบข้อมูลที่มี labels เป็น -1\n",
        "data_cleaned = data_dbscan_scale [data_dbscan_scale ['labels'] != -1]\n",
        "\n",
        "# เปลี่ยนชื่อข้อมูลใน labels โดยที่ 0 จะกลายเป็น 1 และ 1 จะกลายเป็น 2\n",
        "data_cleaned['labels'] = data_cleaned['labels'].replace({0: 1, 1: 2, 2: 3})\n",
        "data = data_cleaned.copy()"
      ]
    },
    {
      "cell_type": "code",
      "execution_count": null,
      "metadata": {
        "colab": {
          "base_uri": "https://localhost:8080/"
        },
        "id": "ZM5GMNa-MDoA",
        "outputId": "55b0fa81-6247-4817-9509-446e639bf189"
      },
      "outputs": [
        {
          "data": {
            "text/plain": [
              "(51091, 73)"
            ]
          },
          "execution_count": 77,
          "metadata": {},
          "output_type": "execute_result"
        }
      ],
      "source": [
        "data.shape#  หลังตัด Noise"
      ]
    },
    {
      "cell_type": "markdown",
      "metadata": {
        "id": "Urljbgh72imn"
      },
      "source": [
        "##Random Forest"
      ]
    },
    {
      "cell_type": "code",
      "execution_count": 58,
      "metadata": {
        "id": "6AiBMDHTX1xa"
      },
      "outputs": [],
      "source": [
        "import pandas as pd\n",
        "data = pd.read_csv(\"/content/drive/MyDrive/ckd/clustering/data_DBSCAN_scale.csv\")"
      ]
    },
    {
      "cell_type": "code",
      "execution_count": 46,
      "metadata": {
        "colab": {
          "base_uri": "https://localhost:8080/",
          "height": 478
        },
        "id": "oUGRMTw3MU29",
        "outputId": "71dfd749-acd0-4c06-cde8-ecc230d99b88"
      },
      "outputs": [
        {
          "output_type": "execute_result",
          "data": {
            "text/plain": [
              "            Age       BMI       BSA  Diastolic-BP  Systolic-BP  G1M2-ARB  \\\n",
              "0      0.531249 -1.055973 -1.625472      0.160130    -0.525000  2.991739   \n",
              "1      0.617111 -1.201074 -1.686392     -0.793624    -1.800103  2.991739   \n",
              "2      0.702974 -1.077875 -1.686392      0.246834     0.112551  3.360578   \n",
              "3      0.788837 -1.201074 -1.808232     -0.620214    -0.119286  0.963126   \n",
              "4      0.960563 -1.535080 -1.990992     -1.400558    -1.916021  3.360578   \n",
              "...         ...       ...       ...           ...          ...       ...   \n",
              "52615 -0.327380  1.394314  1.359609      0.420244    -0.119286  3.360578   \n",
              "52616  0.359523  0.359444 -0.163391     -1.400558    -0.525000 -0.327810   \n",
              "52617 -0.069792 -0.227283  0.262439      1.200588    -0.351123 -0.327810   \n",
              "52618  0.016071 -0.624476 -0.241369      0.853769     0.054591 -0.327810   \n",
              "52619 -0.499106 -1.622688 -1.564552     -0.186690     0.112551 -0.327810   \n",
              "\n",
              "       G3M1-Statin  G5M2-NSAIDs  G1M5-Diuretic  G1M7-Beta-blocker  ...  \\\n",
              "0        -0.698699    -0.129510      -0.176477          -0.333859  ...   \n",
              "1         1.392719    -0.129510      -0.176477          -0.333859  ...   \n",
              "2         1.625099     4.073425      -0.176477          -0.333859  ...   \n",
              "3        -0.698699    -0.005894       2.205286          -0.333859  ...   \n",
              "4        -0.698699     1.724726      -0.176477          -0.333859  ...   \n",
              "...            ...          ...            ...                ...  ...   \n",
              "52615     1.625099    -0.129510      -0.176477          -0.333859  ...   \n",
              "52616     1.625099    -0.129510      -0.176477          -0.333859  ...   \n",
              "52617    -0.698699    -0.129510      -0.176477          -0.333859  ...   \n",
              "52618    -0.698699    -0.129510      -0.176477          -0.333859  ...   \n",
              "52619    -0.698699    -0.129510      -0.176477          -0.333859  ...   \n",
              "\n",
              "       L23-LDL-Cholesterol  L24-HDL-Cholesterol  L28-UrineProtein-Cr-ratio  \\\n",
              "0                 0.321723             3.686025                  -1.158713   \n",
              "1                 0.983545             1.640595                  -1.258996   \n",
              "2                 0.494372             1.011232                  -0.988847   \n",
              "3                 0.782121             1.876606                  -0.884842   \n",
              "4                 0.494372             0.617880                  -1.026662   \n",
              "...                    ...                  ...                        ...   \n",
              "52615            -0.800496            -0.719516                   0.741185   \n",
              "52616            -0.829271            -0.798187                   4.091990   \n",
              "52617            -1.375994            -1.506220                   0.277258   \n",
              "52618             0.713925             1.196108                  -1.051435   \n",
              "52619            -0.104433            -0.857190                  -0.955339   \n",
              "\n",
              "       InPatient  OutPatient  Emergency  LabLocation  NATNL  Sex  labels  \n",
              "0              0           1          0            1      0    1       0  \n",
              "1              0           1          0            1      0    1       0  \n",
              "2              0           1          0            1      0    1       0  \n",
              "3              0           1          0            1      0    1       0  \n",
              "4              0           1          0            1      0    1       0  \n",
              "...          ...         ...        ...          ...    ...  ...     ...  \n",
              "52615          0           1          0            1      0    0       0  \n",
              "52616          0           1          0            1      0    1       0  \n",
              "52617          0           0          1            1      0    0       0  \n",
              "52618          0           1          0            1      0    0       0  \n",
              "52619          1           0          0            1      0    1       0  \n",
              "\n",
              "[52620 rows x 73 columns]"
            ],
            "text/html": [
              "\n",
              "  <div id=\"df-403ec2bc-ea13-4702-ba61-5fd06ba6dd34\" class=\"colab-df-container\">\n",
              "    <div>\n",
              "<style scoped>\n",
              "    .dataframe tbody tr th:only-of-type {\n",
              "        vertical-align: middle;\n",
              "    }\n",
              "\n",
              "    .dataframe tbody tr th {\n",
              "        vertical-align: top;\n",
              "    }\n",
              "\n",
              "    .dataframe thead th {\n",
              "        text-align: right;\n",
              "    }\n",
              "</style>\n",
              "<table border=\"1\" class=\"dataframe\">\n",
              "  <thead>\n",
              "    <tr style=\"text-align: right;\">\n",
              "      <th></th>\n",
              "      <th>Age</th>\n",
              "      <th>BMI</th>\n",
              "      <th>BSA</th>\n",
              "      <th>Diastolic-BP</th>\n",
              "      <th>Systolic-BP</th>\n",
              "      <th>G1M2-ARB</th>\n",
              "      <th>G3M1-Statin</th>\n",
              "      <th>G5M2-NSAIDs</th>\n",
              "      <th>G1M5-Diuretic</th>\n",
              "      <th>G1M7-Beta-blocker</th>\n",
              "      <th>...</th>\n",
              "      <th>L23-LDL-Cholesterol</th>\n",
              "      <th>L24-HDL-Cholesterol</th>\n",
              "      <th>L28-UrineProtein-Cr-ratio</th>\n",
              "      <th>InPatient</th>\n",
              "      <th>OutPatient</th>\n",
              "      <th>Emergency</th>\n",
              "      <th>LabLocation</th>\n",
              "      <th>NATNL</th>\n",
              "      <th>Sex</th>\n",
              "      <th>labels</th>\n",
              "    </tr>\n",
              "  </thead>\n",
              "  <tbody>\n",
              "    <tr>\n",
              "      <th>0</th>\n",
              "      <td>0.531249</td>\n",
              "      <td>-1.055973</td>\n",
              "      <td>-1.625472</td>\n",
              "      <td>0.160130</td>\n",
              "      <td>-0.525000</td>\n",
              "      <td>2.991739</td>\n",
              "      <td>-0.698699</td>\n",
              "      <td>-0.129510</td>\n",
              "      <td>-0.176477</td>\n",
              "      <td>-0.333859</td>\n",
              "      <td>...</td>\n",
              "      <td>0.321723</td>\n",
              "      <td>3.686025</td>\n",
              "      <td>-1.158713</td>\n",
              "      <td>0</td>\n",
              "      <td>1</td>\n",
              "      <td>0</td>\n",
              "      <td>1</td>\n",
              "      <td>0</td>\n",
              "      <td>1</td>\n",
              "      <td>0</td>\n",
              "    </tr>\n",
              "    <tr>\n",
              "      <th>1</th>\n",
              "      <td>0.617111</td>\n",
              "      <td>-1.201074</td>\n",
              "      <td>-1.686392</td>\n",
              "      <td>-0.793624</td>\n",
              "      <td>-1.800103</td>\n",
              "      <td>2.991739</td>\n",
              "      <td>1.392719</td>\n",
              "      <td>-0.129510</td>\n",
              "      <td>-0.176477</td>\n",
              "      <td>-0.333859</td>\n",
              "      <td>...</td>\n",
              "      <td>0.983545</td>\n",
              "      <td>1.640595</td>\n",
              "      <td>-1.258996</td>\n",
              "      <td>0</td>\n",
              "      <td>1</td>\n",
              "      <td>0</td>\n",
              "      <td>1</td>\n",
              "      <td>0</td>\n",
              "      <td>1</td>\n",
              "      <td>0</td>\n",
              "    </tr>\n",
              "    <tr>\n",
              "      <th>2</th>\n",
              "      <td>0.702974</td>\n",
              "      <td>-1.077875</td>\n",
              "      <td>-1.686392</td>\n",
              "      <td>0.246834</td>\n",
              "      <td>0.112551</td>\n",
              "      <td>3.360578</td>\n",
              "      <td>1.625099</td>\n",
              "      <td>4.073425</td>\n",
              "      <td>-0.176477</td>\n",
              "      <td>-0.333859</td>\n",
              "      <td>...</td>\n",
              "      <td>0.494372</td>\n",
              "      <td>1.011232</td>\n",
              "      <td>-0.988847</td>\n",
              "      <td>0</td>\n",
              "      <td>1</td>\n",
              "      <td>0</td>\n",
              "      <td>1</td>\n",
              "      <td>0</td>\n",
              "      <td>1</td>\n",
              "      <td>0</td>\n",
              "    </tr>\n",
              "    <tr>\n",
              "      <th>3</th>\n",
              "      <td>0.788837</td>\n",
              "      <td>-1.201074</td>\n",
              "      <td>-1.808232</td>\n",
              "      <td>-0.620214</td>\n",
              "      <td>-0.119286</td>\n",
              "      <td>0.963126</td>\n",
              "      <td>-0.698699</td>\n",
              "      <td>-0.005894</td>\n",
              "      <td>2.205286</td>\n",
              "      <td>-0.333859</td>\n",
              "      <td>...</td>\n",
              "      <td>0.782121</td>\n",
              "      <td>1.876606</td>\n",
              "      <td>-0.884842</td>\n",
              "      <td>0</td>\n",
              "      <td>1</td>\n",
              "      <td>0</td>\n",
              "      <td>1</td>\n",
              "      <td>0</td>\n",
              "      <td>1</td>\n",
              "      <td>0</td>\n",
              "    </tr>\n",
              "    <tr>\n",
              "      <th>4</th>\n",
              "      <td>0.960563</td>\n",
              "      <td>-1.535080</td>\n",
              "      <td>-1.990992</td>\n",
              "      <td>-1.400558</td>\n",
              "      <td>-1.916021</td>\n",
              "      <td>3.360578</td>\n",
              "      <td>-0.698699</td>\n",
              "      <td>1.724726</td>\n",
              "      <td>-0.176477</td>\n",
              "      <td>-0.333859</td>\n",
              "      <td>...</td>\n",
              "      <td>0.494372</td>\n",
              "      <td>0.617880</td>\n",
              "      <td>-1.026662</td>\n",
              "      <td>0</td>\n",
              "      <td>1</td>\n",
              "      <td>0</td>\n",
              "      <td>1</td>\n",
              "      <td>0</td>\n",
              "      <td>1</td>\n",
              "      <td>0</td>\n",
              "    </tr>\n",
              "    <tr>\n",
              "      <th>...</th>\n",
              "      <td>...</td>\n",
              "      <td>...</td>\n",
              "      <td>...</td>\n",
              "      <td>...</td>\n",
              "      <td>...</td>\n",
              "      <td>...</td>\n",
              "      <td>...</td>\n",
              "      <td>...</td>\n",
              "      <td>...</td>\n",
              "      <td>...</td>\n",
              "      <td>...</td>\n",
              "      <td>...</td>\n",
              "      <td>...</td>\n",
              "      <td>...</td>\n",
              "      <td>...</td>\n",
              "      <td>...</td>\n",
              "      <td>...</td>\n",
              "      <td>...</td>\n",
              "      <td>...</td>\n",
              "      <td>...</td>\n",
              "      <td>...</td>\n",
              "    </tr>\n",
              "    <tr>\n",
              "      <th>52615</th>\n",
              "      <td>-0.327380</td>\n",
              "      <td>1.394314</td>\n",
              "      <td>1.359609</td>\n",
              "      <td>0.420244</td>\n",
              "      <td>-0.119286</td>\n",
              "      <td>3.360578</td>\n",
              "      <td>1.625099</td>\n",
              "      <td>-0.129510</td>\n",
              "      <td>-0.176477</td>\n",
              "      <td>-0.333859</td>\n",
              "      <td>...</td>\n",
              "      <td>-0.800496</td>\n",
              "      <td>-0.719516</td>\n",
              "      <td>0.741185</td>\n",
              "      <td>0</td>\n",
              "      <td>1</td>\n",
              "      <td>0</td>\n",
              "      <td>1</td>\n",
              "      <td>0</td>\n",
              "      <td>0</td>\n",
              "      <td>0</td>\n",
              "    </tr>\n",
              "    <tr>\n",
              "      <th>52616</th>\n",
              "      <td>0.359523</td>\n",
              "      <td>0.359444</td>\n",
              "      <td>-0.163391</td>\n",
              "      <td>-1.400558</td>\n",
              "      <td>-0.525000</td>\n",
              "      <td>-0.327810</td>\n",
              "      <td>1.625099</td>\n",
              "      <td>-0.129510</td>\n",
              "      <td>-0.176477</td>\n",
              "      <td>-0.333859</td>\n",
              "      <td>...</td>\n",
              "      <td>-0.829271</td>\n",
              "      <td>-0.798187</td>\n",
              "      <td>4.091990</td>\n",
              "      <td>0</td>\n",
              "      <td>1</td>\n",
              "      <td>0</td>\n",
              "      <td>1</td>\n",
              "      <td>0</td>\n",
              "      <td>1</td>\n",
              "      <td>0</td>\n",
              "    </tr>\n",
              "    <tr>\n",
              "      <th>52617</th>\n",
              "      <td>-0.069792</td>\n",
              "      <td>-0.227283</td>\n",
              "      <td>0.262439</td>\n",
              "      <td>1.200588</td>\n",
              "      <td>-0.351123</td>\n",
              "      <td>-0.327810</td>\n",
              "      <td>-0.698699</td>\n",
              "      <td>-0.129510</td>\n",
              "      <td>-0.176477</td>\n",
              "      <td>-0.333859</td>\n",
              "      <td>...</td>\n",
              "      <td>-1.375994</td>\n",
              "      <td>-1.506220</td>\n",
              "      <td>0.277258</td>\n",
              "      <td>0</td>\n",
              "      <td>0</td>\n",
              "      <td>1</td>\n",
              "      <td>1</td>\n",
              "      <td>0</td>\n",
              "      <td>0</td>\n",
              "      <td>0</td>\n",
              "    </tr>\n",
              "    <tr>\n",
              "      <th>52618</th>\n",
              "      <td>0.016071</td>\n",
              "      <td>-0.624476</td>\n",
              "      <td>-0.241369</td>\n",
              "      <td>0.853769</td>\n",
              "      <td>0.054591</td>\n",
              "      <td>-0.327810</td>\n",
              "      <td>-0.698699</td>\n",
              "      <td>-0.129510</td>\n",
              "      <td>-0.176477</td>\n",
              "      <td>-0.333859</td>\n",
              "      <td>...</td>\n",
              "      <td>0.713925</td>\n",
              "      <td>1.196108</td>\n",
              "      <td>-1.051435</td>\n",
              "      <td>0</td>\n",
              "      <td>1</td>\n",
              "      <td>0</td>\n",
              "      <td>1</td>\n",
              "      <td>0</td>\n",
              "      <td>0</td>\n",
              "      <td>0</td>\n",
              "    </tr>\n",
              "    <tr>\n",
              "      <th>52619</th>\n",
              "      <td>-0.499106</td>\n",
              "      <td>-1.622688</td>\n",
              "      <td>-1.564552</td>\n",
              "      <td>-0.186690</td>\n",
              "      <td>0.112551</td>\n",
              "      <td>-0.327810</td>\n",
              "      <td>-0.698699</td>\n",
              "      <td>-0.129510</td>\n",
              "      <td>-0.176477</td>\n",
              "      <td>-0.333859</td>\n",
              "      <td>...</td>\n",
              "      <td>-0.104433</td>\n",
              "      <td>-0.857190</td>\n",
              "      <td>-0.955339</td>\n",
              "      <td>1</td>\n",
              "      <td>0</td>\n",
              "      <td>0</td>\n",
              "      <td>1</td>\n",
              "      <td>0</td>\n",
              "      <td>1</td>\n",
              "      <td>0</td>\n",
              "    </tr>\n",
              "  </tbody>\n",
              "</table>\n",
              "<p>52620 rows × 73 columns</p>\n",
              "</div>\n",
              "    <div class=\"colab-df-buttons\">\n",
              "\n",
              "  <div class=\"colab-df-container\">\n",
              "    <button class=\"colab-df-convert\" onclick=\"convertToInteractive('df-403ec2bc-ea13-4702-ba61-5fd06ba6dd34')\"\n",
              "            title=\"Convert this dataframe to an interactive table.\"\n",
              "            style=\"display:none;\">\n",
              "\n",
              "  <svg xmlns=\"http://www.w3.org/2000/svg\" height=\"24px\" viewBox=\"0 -960 960 960\">\n",
              "    <path d=\"M120-120v-720h720v720H120Zm60-500h600v-160H180v160Zm220 220h160v-160H400v160Zm0 220h160v-160H400v160ZM180-400h160v-160H180v160Zm440 0h160v-160H620v160ZM180-180h160v-160H180v160Zm440 0h160v-160H620v160Z\"/>\n",
              "  </svg>\n",
              "    </button>\n",
              "\n",
              "  <style>\n",
              "    .colab-df-container {\n",
              "      display:flex;\n",
              "      gap: 12px;\n",
              "    }\n",
              "\n",
              "    .colab-df-convert {\n",
              "      background-color: #E8F0FE;\n",
              "      border: none;\n",
              "      border-radius: 50%;\n",
              "      cursor: pointer;\n",
              "      display: none;\n",
              "      fill: #1967D2;\n",
              "      height: 32px;\n",
              "      padding: 0 0 0 0;\n",
              "      width: 32px;\n",
              "    }\n",
              "\n",
              "    .colab-df-convert:hover {\n",
              "      background-color: #E2EBFA;\n",
              "      box-shadow: 0px 1px 2px rgba(60, 64, 67, 0.3), 0px 1px 3px 1px rgba(60, 64, 67, 0.15);\n",
              "      fill: #174EA6;\n",
              "    }\n",
              "\n",
              "    .colab-df-buttons div {\n",
              "      margin-bottom: 4px;\n",
              "    }\n",
              "\n",
              "    [theme=dark] .colab-df-convert {\n",
              "      background-color: #3B4455;\n",
              "      fill: #D2E3FC;\n",
              "    }\n",
              "\n",
              "    [theme=dark] .colab-df-convert:hover {\n",
              "      background-color: #434B5C;\n",
              "      box-shadow: 0px 1px 3px 1px rgba(0, 0, 0, 0.15);\n",
              "      filter: drop-shadow(0px 1px 2px rgba(0, 0, 0, 0.3));\n",
              "      fill: #FFFFFF;\n",
              "    }\n",
              "  </style>\n",
              "\n",
              "    <script>\n",
              "      const buttonEl =\n",
              "        document.querySelector('#df-403ec2bc-ea13-4702-ba61-5fd06ba6dd34 button.colab-df-convert');\n",
              "      buttonEl.style.display =\n",
              "        google.colab.kernel.accessAllowed ? 'block' : 'none';\n",
              "\n",
              "      async function convertToInteractive(key) {\n",
              "        const element = document.querySelector('#df-403ec2bc-ea13-4702-ba61-5fd06ba6dd34');\n",
              "        const dataTable =\n",
              "          await google.colab.kernel.invokeFunction('convertToInteractive',\n",
              "                                                    [key], {});\n",
              "        if (!dataTable) return;\n",
              "\n",
              "        const docLinkHtml = 'Like what you see? Visit the ' +\n",
              "          '<a target=\"_blank\" href=https://colab.research.google.com/notebooks/data_table.ipynb>data table notebook</a>'\n",
              "          + ' to learn more about interactive tables.';\n",
              "        element.innerHTML = '';\n",
              "        dataTable['output_type'] = 'display_data';\n",
              "        await google.colab.output.renderOutput(dataTable, element);\n",
              "        const docLink = document.createElement('div');\n",
              "        docLink.innerHTML = docLinkHtml;\n",
              "        element.appendChild(docLink);\n",
              "      }\n",
              "    </script>\n",
              "  </div>\n",
              "\n",
              "\n",
              "<div id=\"df-62a729ef-95cc-47d4-beeb-5d82a59f4114\">\n",
              "  <button class=\"colab-df-quickchart\" onclick=\"quickchart('df-62a729ef-95cc-47d4-beeb-5d82a59f4114')\"\n",
              "            title=\"Suggest charts\"\n",
              "            style=\"display:none;\">\n",
              "\n",
              "<svg xmlns=\"http://www.w3.org/2000/svg\" height=\"24px\"viewBox=\"0 0 24 24\"\n",
              "     width=\"24px\">\n",
              "    <g>\n",
              "        <path d=\"M19 3H5c-1.1 0-2 .9-2 2v14c0 1.1.9 2 2 2h14c1.1 0 2-.9 2-2V5c0-1.1-.9-2-2-2zM9 17H7v-7h2v7zm4 0h-2V7h2v10zm4 0h-2v-4h2v4z\"/>\n",
              "    </g>\n",
              "</svg>\n",
              "  </button>\n",
              "\n",
              "<style>\n",
              "  .colab-df-quickchart {\n",
              "      --bg-color: #E8F0FE;\n",
              "      --fill-color: #1967D2;\n",
              "      --hover-bg-color: #E2EBFA;\n",
              "      --hover-fill-color: #174EA6;\n",
              "      --disabled-fill-color: #AAA;\n",
              "      --disabled-bg-color: #DDD;\n",
              "  }\n",
              "\n",
              "  [theme=dark] .colab-df-quickchart {\n",
              "      --bg-color: #3B4455;\n",
              "      --fill-color: #D2E3FC;\n",
              "      --hover-bg-color: #434B5C;\n",
              "      --hover-fill-color: #FFFFFF;\n",
              "      --disabled-bg-color: #3B4455;\n",
              "      --disabled-fill-color: #666;\n",
              "  }\n",
              "\n",
              "  .colab-df-quickchart {\n",
              "    background-color: var(--bg-color);\n",
              "    border: none;\n",
              "    border-radius: 50%;\n",
              "    cursor: pointer;\n",
              "    display: none;\n",
              "    fill: var(--fill-color);\n",
              "    height: 32px;\n",
              "    padding: 0;\n",
              "    width: 32px;\n",
              "  }\n",
              "\n",
              "  .colab-df-quickchart:hover {\n",
              "    background-color: var(--hover-bg-color);\n",
              "    box-shadow: 0 1px 2px rgba(60, 64, 67, 0.3), 0 1px 3px 1px rgba(60, 64, 67, 0.15);\n",
              "    fill: var(--button-hover-fill-color);\n",
              "  }\n",
              "\n",
              "  .colab-df-quickchart-complete:disabled,\n",
              "  .colab-df-quickchart-complete:disabled:hover {\n",
              "    background-color: var(--disabled-bg-color);\n",
              "    fill: var(--disabled-fill-color);\n",
              "    box-shadow: none;\n",
              "  }\n",
              "\n",
              "  .colab-df-spinner {\n",
              "    border: 2px solid var(--fill-color);\n",
              "    border-color: transparent;\n",
              "    border-bottom-color: var(--fill-color);\n",
              "    animation:\n",
              "      spin 1s steps(1) infinite;\n",
              "  }\n",
              "\n",
              "  @keyframes spin {\n",
              "    0% {\n",
              "      border-color: transparent;\n",
              "      border-bottom-color: var(--fill-color);\n",
              "      border-left-color: var(--fill-color);\n",
              "    }\n",
              "    20% {\n",
              "      border-color: transparent;\n",
              "      border-left-color: var(--fill-color);\n",
              "      border-top-color: var(--fill-color);\n",
              "    }\n",
              "    30% {\n",
              "      border-color: transparent;\n",
              "      border-left-color: var(--fill-color);\n",
              "      border-top-color: var(--fill-color);\n",
              "      border-right-color: var(--fill-color);\n",
              "    }\n",
              "    40% {\n",
              "      border-color: transparent;\n",
              "      border-right-color: var(--fill-color);\n",
              "      border-top-color: var(--fill-color);\n",
              "    }\n",
              "    60% {\n",
              "      border-color: transparent;\n",
              "      border-right-color: var(--fill-color);\n",
              "    }\n",
              "    80% {\n",
              "      border-color: transparent;\n",
              "      border-right-color: var(--fill-color);\n",
              "      border-bottom-color: var(--fill-color);\n",
              "    }\n",
              "    90% {\n",
              "      border-color: transparent;\n",
              "      border-bottom-color: var(--fill-color);\n",
              "    }\n",
              "  }\n",
              "</style>\n",
              "\n",
              "  <script>\n",
              "    async function quickchart(key) {\n",
              "      const quickchartButtonEl =\n",
              "        document.querySelector('#' + key + ' button');\n",
              "      quickchartButtonEl.disabled = true;  // To prevent multiple clicks.\n",
              "      quickchartButtonEl.classList.add('colab-df-spinner');\n",
              "      try {\n",
              "        const charts = await google.colab.kernel.invokeFunction(\n",
              "            'suggestCharts', [key], {});\n",
              "      } catch (error) {\n",
              "        console.error('Error during call to suggestCharts:', error);\n",
              "      }\n",
              "      quickchartButtonEl.classList.remove('colab-df-spinner');\n",
              "      quickchartButtonEl.classList.add('colab-df-quickchart-complete');\n",
              "    }\n",
              "    (() => {\n",
              "      let quickchartButtonEl =\n",
              "        document.querySelector('#df-62a729ef-95cc-47d4-beeb-5d82a59f4114 button');\n",
              "      quickchartButtonEl.style.display =\n",
              "        google.colab.kernel.accessAllowed ? 'block' : 'none';\n",
              "    })();\n",
              "  </script>\n",
              "</div>\n",
              "    </div>\n",
              "  </div>\n"
            ],
            "application/vnd.google.colaboratory.intrinsic+json": {
              "type": "dataframe",
              "variable_name": "data"
            }
          },
          "metadata": {},
          "execution_count": 46
        }
      ],
      "source": [
        "data"
      ]
    },
    {
      "cell_type": "code",
      "execution_count": 59,
      "metadata": {
        "colab": {
          "base_uri": "https://localhost:8080/"
        },
        "id": "XjzKoqF2YV51",
        "outputId": "da2baece-a319-497f-d8f4-40c98f7bede1"
      },
      "outputs": [
        {
          "output_type": "stream",
          "name": "stderr",
          "text": [
            "<ipython-input-59-b3ae76b40ec4>:5: SettingWithCopyWarning: \n",
            "A value is trying to be set on a copy of a slice from a DataFrame.\n",
            "Try using .loc[row_indexer,col_indexer] = value instead\n",
            "\n",
            "See the caveats in the documentation: https://pandas.pydata.org/pandas-docs/stable/user_guide/indexing.html#returning-a-view-versus-a-copy\n",
            "  data_cleaned['labels'] = data_cleaned['labels'].replace({0: 1, 1: 2, 2: 3})\n"
          ]
        }
      ],
      "source": [
        "# ลบข้อมูลที่มี labels เป็น -1\n",
        "data_cleaned = data [data ['labels'] != -1]\n",
        "\n",
        "# เปลี่ยนชื่อข้อมูลใน labels โดยที่ 0 จะกลายเป็น 1 และ 1 จะกลายเป็น 2\n",
        "data_cleaned['labels'] = data_cleaned['labels'].replace({0: 1, 1: 2, 2: 3})\n",
        "data = data_cleaned.copy()"
      ]
    },
    {
      "cell_type": "code",
      "execution_count": null,
      "metadata": {
        "colab": {
          "base_uri": "https://localhost:8080/"
        },
        "id": "MBuO6CKiMdIu",
        "outputId": "5e9ac6ae-493f-431f-efdb-506972ab16b2"
      },
      "outputs": [
        {
          "data": {
            "text/plain": [
              "array([1, 2, 3])"
            ]
          },
          "execution_count": 10,
          "metadata": {},
          "output_type": "execute_result"
        }
      ],
      "source": [
        "unique_labels = data['labels'].unique()\n",
        "unique_labels"
      ]
    },
    {
      "cell_type": "code",
      "execution_count": 48,
      "metadata": {
        "colab": {
          "base_uri": "https://localhost:8080/"
        },
        "id": "kyKuvSv2YdbV",
        "outputId": "cd51d48d-bac4-4aad-f52b-3ad52427db13"
      },
      "outputs": [
        {
          "output_type": "execute_result",
          "data": {
            "text/plain": [
              "(51091, 73)"
            ]
          },
          "metadata": {},
          "execution_count": 48
        }
      ],
      "source": [
        "data.shape"
      ]
    },
    {
      "cell_type": "code",
      "source": [
        "data = data.head(300)"
      ],
      "metadata": {
        "id": "j7t9MlMSB_4U"
      },
      "execution_count": 63,
      "outputs": []
    },
    {
      "cell_type": "code",
      "execution_count": 65,
      "metadata": {
        "id": "Y8A6l-uNTgKT"
      },
      "outputs": [],
      "source": [
        "from sklearn.model_selection import train_test_split\n",
        "from sklearn.ensemble import RandomForestClassifier\n",
        "from sklearn.metrics import classification_report"
      ]
    },
    {
      "cell_type": "code",
      "execution_count": 68,
      "metadata": {
        "colab": {
          "base_uri": "https://localhost:8080/"
        },
        "id": "N2Kzhts5iAmh",
        "outputId": "14a4f632-d6bf-4106-95ff-dfe1202bfc5d"
      },
      "outputs": [
        {
          "output_type": "stream",
          "name": "stdout",
          "text": [
            "              precision    recall  f1-score   support\n",
            "\n",
            "           0       0.33      1.00      0.50         1\n",
            "           1       1.00      0.98      0.99        89\n",
            "\n",
            "    accuracy                           0.98        90\n",
            "   macro avg       0.67      0.99      0.74        90\n",
            "weighted avg       0.99      0.98      0.98        90\n",
            "\n"
          ]
        }
      ],
      "source": [
        "#ปรับค่าในคอลัมน์ labels เพื่อให้กลุ่มที่เราสนใจเป็น 1 และกลุ่มอื่นๆเป็น 0:\n",
        "data['labels'] = data['labels'].apply(lambda x: 1 if x == 1 else 0)\n",
        "\n",
        "X = data.drop('labels', axis=1)  # ตัวแปรต้น\n",
        "y = data['labels']  # ตัวแปรตาม (กลุ่ม 1 ,2,3)\n",
        "\n",
        "# Split into train and test\n",
        "X_train, X_test, y_train, y_test = train_test_split(X, y, test_size=0.3, random_state=42)\n",
        "\n",
        "# สร้างโมเดล Random Forest\n",
        "model = RandomForestClassifier()\n",
        "model.fit(X_train, y_train)\n",
        "\n",
        "# Make prediction on the testing data\n",
        "y_pred = model.predict(X_test)\n",
        "\n",
        "# Classification Report\n",
        "print(classification_report(y_pred, y_test))\n"
      ]
    },
    {
      "cell_type": "markdown",
      "metadata": {
        "id": "QOVDYmS2Tgmr"
      },
      "source": [
        "SHAP"
      ]
    },
    {
      "cell_type": "code",
      "execution_count": null,
      "metadata": {
        "colab": {
          "base_uri": "https://localhost:8080/"
        },
        "id": "1l8uTrPBJRMW",
        "outputId": "eea1c056-9030-418a-e5a1-e6df0e2e2c2f"
      },
      "outputs": [
        {
          "name": "stdout",
          "output_type": "stream",
          "text": [
            "Collecting shap\n",
            "  Downloading shap-0.45.0-cp310-cp310-manylinux_2_12_x86_64.manylinux2010_x86_64.manylinux_2_17_x86_64.manylinux2014_x86_64.whl (538 kB)\n",
            "\u001b[?25l     \u001b[90m━━━━━━━━━━━━━━━━━━━━━━━━━━━━━━━━━━━━━━━━\u001b[0m \u001b[32m0.0/538.2 kB\u001b[0m \u001b[31m?\u001b[0m eta \u001b[36m-:--:--\u001b[0m\r\u001b[2K     \u001b[91m━━━━━━━━━━━━\u001b[0m\u001b[91m╸\u001b[0m\u001b[90m━━━━━━━━━━━━━━━━━━━━━━━━━━━\u001b[0m \u001b[32m174.1/538.2 kB\u001b[0m \u001b[31m5.0 MB/s\u001b[0m eta \u001b[36m0:00:01\u001b[0m\r\u001b[2K     \u001b[91m━━━━━━━━━━━━━━━━━━━━━━━━━━━━━━━━━━━━━━━\u001b[0m\u001b[91m╸\u001b[0m \u001b[32m532.5/538.2 kB\u001b[0m \u001b[31m8.2 MB/s\u001b[0m eta \u001b[36m0:00:01\u001b[0m\r\u001b[2K     \u001b[90m━━━━━━━━━━━━━━━━━━━━━━━━━━━━━━━━━━━━━━━━\u001b[0m \u001b[32m538.2/538.2 kB\u001b[0m \u001b[31m7.2 MB/s\u001b[0m eta \u001b[36m0:00:00\u001b[0m\n",
            "\u001b[?25hRequirement already satisfied: numpy in /usr/local/lib/python3.10/dist-packages (from shap) (1.25.2)\n",
            "Requirement already satisfied: scipy in /usr/local/lib/python3.10/dist-packages (from shap) (1.11.4)\n",
            "Requirement already satisfied: scikit-learn in /usr/local/lib/python3.10/dist-packages (from shap) (1.2.2)\n",
            "Requirement already satisfied: pandas in /usr/local/lib/python3.10/dist-packages (from shap) (1.5.3)\n",
            "Requirement already satisfied: tqdm>=4.27.0 in /usr/local/lib/python3.10/dist-packages (from shap) (4.66.2)\n",
            "Requirement already satisfied: packaging>20.9 in /usr/local/lib/python3.10/dist-packages (from shap) (24.0)\n",
            "Collecting slicer==0.0.7 (from shap)\n",
            "  Downloading slicer-0.0.7-py3-none-any.whl (14 kB)\n",
            "Requirement already satisfied: numba in /usr/local/lib/python3.10/dist-packages (from shap) (0.58.1)\n",
            "Requirement already satisfied: cloudpickle in /usr/local/lib/python3.10/dist-packages (from shap) (2.2.1)\n",
            "Requirement already satisfied: llvmlite<0.42,>=0.41.0dev0 in /usr/local/lib/python3.10/dist-packages (from numba->shap) (0.41.1)\n",
            "Requirement already satisfied: python-dateutil>=2.8.1 in /usr/local/lib/python3.10/dist-packages (from pandas->shap) (2.8.2)\n",
            "Requirement already satisfied: pytz>=2020.1 in /usr/local/lib/python3.10/dist-packages (from pandas->shap) (2023.4)\n",
            "Requirement already satisfied: joblib>=1.1.1 in /usr/local/lib/python3.10/dist-packages (from scikit-learn->shap) (1.3.2)\n",
            "Requirement already satisfied: threadpoolctl>=2.0.0 in /usr/local/lib/python3.10/dist-packages (from scikit-learn->shap) (3.3.0)\n",
            "Requirement already satisfied: six>=1.5 in /usr/local/lib/python3.10/dist-packages (from python-dateutil>=2.8.1->pandas->shap) (1.16.0)\n",
            "Installing collected packages: slicer, shap\n",
            "Successfully installed shap-0.45.0 slicer-0.0.7\n"
          ]
        }
      ],
      "source": [
        "pip install shap"
      ]
    },
    {
      "cell_type": "code",
      "execution_count": 70,
      "metadata": {
        "id": "-TdUmIb6XJml"
      },
      "outputs": [],
      "source": [
        "import shap\n",
        "# สร้าง explainer\n",
        "explainer = shap.TreeExplainer(model )\n",
        "shap_values = explainer.shap_values(X_test)\n",
        "\n",
        "#plt.savefig('summary_plot_SHAP.png', dpi=300, bbox_inches='tight')"
      ]
    }
  ],
  "metadata": {
    "colab": {
      "provenance": [],
      "include_colab_link": true
    },
    "kernelspec": {
      "display_name": "Python 3",
      "name": "python3"
    },
    "language_info": {
      "name": "python"
    }
  },
  "nbformat": 4,
  "nbformat_minor": 0
}