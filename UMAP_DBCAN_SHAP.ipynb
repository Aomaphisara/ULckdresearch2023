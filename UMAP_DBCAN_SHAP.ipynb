{
  "cells": [
    {
      "cell_type": "markdown",
      "metadata": {
        "id": "view-in-github",
        "colab_type": "text"
      },
      "source": [
        "<a href=\"https://colab.research.google.com/github/Aomaphisara/ULckdresearch2023/blob/main/UMAP_DBCAN_SHAP.ipynb\" target=\"_parent\"><img src=\"https://colab.research.google.com/assets/colab-badge.svg\" alt=\"Open In Colab\"/></a>"
      ]
    },
    {
      "cell_type": "code",
      "execution_count": null,
      "metadata": {
        "colab": {
          "base_uri": "https://localhost:8080/"
        },
        "id": "wYudd8bCbDok",
        "outputId": "8ad86b87-1a54-4c38-bb49-e263c98073b0"
      },
      "outputs": [
        {
          "output_type": "stream",
          "name": "stdout",
          "text": [
            "Mounted at /content/drive\n"
          ]
        }
      ],
      "source": [
        "from google.colab import drive\n",
        "drive.mount('/content/drive')"
      ]
    },
    {
      "cell_type": "code",
      "execution_count": null,
      "metadata": {
        "id": "uGNQLKeibKqr"
      },
      "outputs": [],
      "source": [
        "import pandas as pd\n",
        "df = pd.read_csv(\"/content/drive/MyDrive/ckd/data.csv\")"
      ]
    },
    {
      "cell_type": "code",
      "execution_count": null,
      "metadata": {
        "id": "e89f6RarcDvV"
      },
      "outputs": [],
      "source": [
        "#select columns\n",
        "select_columns = ['Age', 'BMI',  'BSA', 'Diastolic-BP', 'Systolic-BP',\n",
        " 'G1M2-ARB', 'G3M1-Statin', 'G5M2-NSAIDs', 'G1M5-Diuretic', 'G1M7-Beta-blocker',\n",
        "       'G1M3-Dihydropyridine-CCB', 'G1M6-MRA', 'G1M1-ACEI', 'G2M2-Metformin',\n",
        "       'G2M3-DPP4-inhibitor', 'G2M1-SU', 'G3M3-Fibrate', 'G2M5-SGLT2i',\n",
        "       'G4M1-Allopurinol', 'G1M9-Vasodilator', 'G1M8-Alpha-blocker',\n",
        "       'G2M6-Insulin', 'G2M4-TZD', 'G4M2-Febuxostat', 'G3M2-Ezetimibe',\n",
        "       'G1M4-Non-dihydropyridine-CCB', 'G5M1-Ketoanalog-amino-acid',\n",
        "       'G2M7-GLP1-RA', 'G4M3-Uricosuric-agent',\n",
        "    'D1-Hypertension', 'D2-Diabetes-mellitus', 'D3-Dyslipidemia', 'D4-SLE',\n",
        "       'D5-Systemic-sclerosis', 'D6-Rheumatoid-arthritis', 'D7-HIV-infection',\n",
        "       'D8-HBV-infection', 'D9-HCV-infection', 'D10-Ischemic-heart-disease',\n",
        "       'D11-Heart-failure', 'D12-Thalassemia', 'D13-Kidney-stone',\n",
        "       'D14-Valvular-heart-disease', 'D15-Solid-malignancy',\n",
        "       'D16-Hematologic-malignancy',\n",
        "   'L2-BUN','L3-Creatinine','L4-Sodium', 'L5-Potassium', 'L6-Chloride', 'L7-Bicarbonate', 'L8-Uric',\n",
        "       'L9-Calcium', 'L10-Phosphorus', 'L11-Albumin', 'L12-Hemoglobin',\n",
        "       'L13-Hematocrit', 'L14-WBC', 'L15-Platelet', 'L19-Blood-sugar',\n",
        "       'L20-HbA1c', 'L21-Cholesterol', 'L22-Triglyceride',\n",
        "       'L23-LDL-Cholesterol', 'L24-HDL-Cholesterol',\n",
        "       'L28-UrineProtein-Cr-ratio']\n",
        "select_columns = df[select_columns]"
      ]
    },
    {
      "cell_type": "markdown",
      "metadata": {
        "id": "m74R8mgvcLV5"
      },
      "source": [
        "##Feature Scaling (Standard Scaler)"
      ]
    },
    {
      "cell_type": "code",
      "execution_count": null,
      "metadata": {
        "id": "WVYeE2XecJrq"
      },
      "outputs": [],
      "source": [
        "from sklearn.preprocessing import StandardScaler\n",
        "#data scale\n",
        "scaler = StandardScaler()\n",
        "data_scale = scaler.fit_transform(select_columns)\n",
        "data_scale = pd.DataFrame(data_scale, columns=select_columns.columns)\n",
        "\n",
        "#add colums 'InPatient', 'OutPatient', 'Emergency', 'NATNL', 'Sex'\n",
        "additional_columns = df[['InPatient', 'OutPatient', 'Emergency', 'LabLocation', 'NATNL', 'Sex']]\n",
        "data_scale = pd.concat([data_scale, additional_columns], axis=1)"
      ]
    },
    {
      "cell_type": "code",
      "execution_count": null,
      "metadata": {
        "colab": {
          "base_uri": "https://localhost:8080/",
          "height": 253
        },
        "id": "QYtJex0u2D-o",
        "outputId": "f4fbdc85-8f6c-424e-f5d2-7d2846b16212"
      },
      "outputs": [
        {
          "output_type": "execute_result",
          "data": {
            "text/plain": [
              "        Age       BMI       BSA  Diastolic-BP  Systolic-BP  G1M2-ARB  \\\n",
              "0  0.531249 -1.055973 -1.625472      0.160130    -0.525000  2.991739   \n",
              "1  0.617111 -1.201074 -1.686392     -0.793624    -1.800103  2.991739   \n",
              "2  0.702974 -1.077875 -1.686392      0.246834     0.112551  3.360578   \n",
              "3  0.788837 -1.201074 -1.808232     -0.620214    -0.119286  0.963126   \n",
              "4  0.960563 -1.535080 -1.990992     -1.400558    -1.916021  3.360578   \n",
              "\n",
              "   G3M1-Statin  G5M2-NSAIDs  G1M5-Diuretic  G1M7-Beta-blocker  ...  \\\n",
              "0    -0.698699    -0.129510      -0.176477          -0.333859  ...   \n",
              "1     1.392719    -0.129510      -0.176477          -0.333859  ...   \n",
              "2     1.625099     4.073425      -0.176477          -0.333859  ...   \n",
              "3    -0.698699    -0.005894       2.205286          -0.333859  ...   \n",
              "4    -0.698699     1.724726      -0.176477          -0.333859  ...   \n",
              "\n",
              "   L22-Triglyceride  L23-LDL-Cholesterol  L24-HDL-Cholesterol  \\\n",
              "0         -0.803614             0.321723             3.686025   \n",
              "1         -1.038268             0.983545             1.640595   \n",
              "2         -1.065875             0.494372             1.011232   \n",
              "3         -0.969252             0.782121             1.876606   \n",
              "4         -0.900236             0.494372             0.617880   \n",
              "\n",
              "   L28-UrineProtein-Cr-ratio  InPatient  OutPatient  Emergency  LabLocation  \\\n",
              "0                  -1.158713          0           1          0            1   \n",
              "1                  -1.258996          0           1          0            1   \n",
              "2                  -0.988847          0           1          0            1   \n",
              "3                  -0.884842          0           1          0            1   \n",
              "4                  -1.026662          0           1          0            1   \n",
              "\n",
              "   NATNL  Sex  \n",
              "0      0    1  \n",
              "1      0    1  \n",
              "2      0    1  \n",
              "3      0    1  \n",
              "4      0    1  \n",
              "\n",
              "[5 rows x 72 columns]"
            ],
            "text/html": [
              "\n",
              "  <div id=\"df-92e51906-e46c-400a-b383-f8c16abd1ac0\" class=\"colab-df-container\">\n",
              "    <div>\n",
              "<style scoped>\n",
              "    .dataframe tbody tr th:only-of-type {\n",
              "        vertical-align: middle;\n",
              "    }\n",
              "\n",
              "    .dataframe tbody tr th {\n",
              "        vertical-align: top;\n",
              "    }\n",
              "\n",
              "    .dataframe thead th {\n",
              "        text-align: right;\n",
              "    }\n",
              "</style>\n",
              "<table border=\"1\" class=\"dataframe\">\n",
              "  <thead>\n",
              "    <tr style=\"text-align: right;\">\n",
              "      <th></th>\n",
              "      <th>Age</th>\n",
              "      <th>BMI</th>\n",
              "      <th>BSA</th>\n",
              "      <th>Diastolic-BP</th>\n",
              "      <th>Systolic-BP</th>\n",
              "      <th>G1M2-ARB</th>\n",
              "      <th>G3M1-Statin</th>\n",
              "      <th>G5M2-NSAIDs</th>\n",
              "      <th>G1M5-Diuretic</th>\n",
              "      <th>G1M7-Beta-blocker</th>\n",
              "      <th>...</th>\n",
              "      <th>L22-Triglyceride</th>\n",
              "      <th>L23-LDL-Cholesterol</th>\n",
              "      <th>L24-HDL-Cholesterol</th>\n",
              "      <th>L28-UrineProtein-Cr-ratio</th>\n",
              "      <th>InPatient</th>\n",
              "      <th>OutPatient</th>\n",
              "      <th>Emergency</th>\n",
              "      <th>LabLocation</th>\n",
              "      <th>NATNL</th>\n",
              "      <th>Sex</th>\n",
              "    </tr>\n",
              "  </thead>\n",
              "  <tbody>\n",
              "    <tr>\n",
              "      <th>0</th>\n",
              "      <td>0.531249</td>\n",
              "      <td>-1.055973</td>\n",
              "      <td>-1.625472</td>\n",
              "      <td>0.160130</td>\n",
              "      <td>-0.525000</td>\n",
              "      <td>2.991739</td>\n",
              "      <td>-0.698699</td>\n",
              "      <td>-0.129510</td>\n",
              "      <td>-0.176477</td>\n",
              "      <td>-0.333859</td>\n",
              "      <td>...</td>\n",
              "      <td>-0.803614</td>\n",
              "      <td>0.321723</td>\n",
              "      <td>3.686025</td>\n",
              "      <td>-1.158713</td>\n",
              "      <td>0</td>\n",
              "      <td>1</td>\n",
              "      <td>0</td>\n",
              "      <td>1</td>\n",
              "      <td>0</td>\n",
              "      <td>1</td>\n",
              "    </tr>\n",
              "    <tr>\n",
              "      <th>1</th>\n",
              "      <td>0.617111</td>\n",
              "      <td>-1.201074</td>\n",
              "      <td>-1.686392</td>\n",
              "      <td>-0.793624</td>\n",
              "      <td>-1.800103</td>\n",
              "      <td>2.991739</td>\n",
              "      <td>1.392719</td>\n",
              "      <td>-0.129510</td>\n",
              "      <td>-0.176477</td>\n",
              "      <td>-0.333859</td>\n",
              "      <td>...</td>\n",
              "      <td>-1.038268</td>\n",
              "      <td>0.983545</td>\n",
              "      <td>1.640595</td>\n",
              "      <td>-1.258996</td>\n",
              "      <td>0</td>\n",
              "      <td>1</td>\n",
              "      <td>0</td>\n",
              "      <td>1</td>\n",
              "      <td>0</td>\n",
              "      <td>1</td>\n",
              "    </tr>\n",
              "    <tr>\n",
              "      <th>2</th>\n",
              "      <td>0.702974</td>\n",
              "      <td>-1.077875</td>\n",
              "      <td>-1.686392</td>\n",
              "      <td>0.246834</td>\n",
              "      <td>0.112551</td>\n",
              "      <td>3.360578</td>\n",
              "      <td>1.625099</td>\n",
              "      <td>4.073425</td>\n",
              "      <td>-0.176477</td>\n",
              "      <td>-0.333859</td>\n",
              "      <td>...</td>\n",
              "      <td>-1.065875</td>\n",
              "      <td>0.494372</td>\n",
              "      <td>1.011232</td>\n",
              "      <td>-0.988847</td>\n",
              "      <td>0</td>\n",
              "      <td>1</td>\n",
              "      <td>0</td>\n",
              "      <td>1</td>\n",
              "      <td>0</td>\n",
              "      <td>1</td>\n",
              "    </tr>\n",
              "    <tr>\n",
              "      <th>3</th>\n",
              "      <td>0.788837</td>\n",
              "      <td>-1.201074</td>\n",
              "      <td>-1.808232</td>\n",
              "      <td>-0.620214</td>\n",
              "      <td>-0.119286</td>\n",
              "      <td>0.963126</td>\n",
              "      <td>-0.698699</td>\n",
              "      <td>-0.005894</td>\n",
              "      <td>2.205286</td>\n",
              "      <td>-0.333859</td>\n",
              "      <td>...</td>\n",
              "      <td>-0.969252</td>\n",
              "      <td>0.782121</td>\n",
              "      <td>1.876606</td>\n",
              "      <td>-0.884842</td>\n",
              "      <td>0</td>\n",
              "      <td>1</td>\n",
              "      <td>0</td>\n",
              "      <td>1</td>\n",
              "      <td>0</td>\n",
              "      <td>1</td>\n",
              "    </tr>\n",
              "    <tr>\n",
              "      <th>4</th>\n",
              "      <td>0.960563</td>\n",
              "      <td>-1.535080</td>\n",
              "      <td>-1.990992</td>\n",
              "      <td>-1.400558</td>\n",
              "      <td>-1.916021</td>\n",
              "      <td>3.360578</td>\n",
              "      <td>-0.698699</td>\n",
              "      <td>1.724726</td>\n",
              "      <td>-0.176477</td>\n",
              "      <td>-0.333859</td>\n",
              "      <td>...</td>\n",
              "      <td>-0.900236</td>\n",
              "      <td>0.494372</td>\n",
              "      <td>0.617880</td>\n",
              "      <td>-1.026662</td>\n",
              "      <td>0</td>\n",
              "      <td>1</td>\n",
              "      <td>0</td>\n",
              "      <td>1</td>\n",
              "      <td>0</td>\n",
              "      <td>1</td>\n",
              "    </tr>\n",
              "  </tbody>\n",
              "</table>\n",
              "<p>5 rows × 72 columns</p>\n",
              "</div>\n",
              "    <div class=\"colab-df-buttons\">\n",
              "\n",
              "  <div class=\"colab-df-container\">\n",
              "    <button class=\"colab-df-convert\" onclick=\"convertToInteractive('df-92e51906-e46c-400a-b383-f8c16abd1ac0')\"\n",
              "            title=\"Convert this dataframe to an interactive table.\"\n",
              "            style=\"display:none;\">\n",
              "\n",
              "  <svg xmlns=\"http://www.w3.org/2000/svg\" height=\"24px\" viewBox=\"0 -960 960 960\">\n",
              "    <path d=\"M120-120v-720h720v720H120Zm60-500h600v-160H180v160Zm220 220h160v-160H400v160Zm0 220h160v-160H400v160ZM180-400h160v-160H180v160Zm440 0h160v-160H620v160ZM180-180h160v-160H180v160Zm440 0h160v-160H620v160Z\"/>\n",
              "  </svg>\n",
              "    </button>\n",
              "\n",
              "  <style>\n",
              "    .colab-df-container {\n",
              "      display:flex;\n",
              "      gap: 12px;\n",
              "    }\n",
              "\n",
              "    .colab-df-convert {\n",
              "      background-color: #E8F0FE;\n",
              "      border: none;\n",
              "      border-radius: 50%;\n",
              "      cursor: pointer;\n",
              "      display: none;\n",
              "      fill: #1967D2;\n",
              "      height: 32px;\n",
              "      padding: 0 0 0 0;\n",
              "      width: 32px;\n",
              "    }\n",
              "\n",
              "    .colab-df-convert:hover {\n",
              "      background-color: #E2EBFA;\n",
              "      box-shadow: 0px 1px 2px rgba(60, 64, 67, 0.3), 0px 1px 3px 1px rgba(60, 64, 67, 0.15);\n",
              "      fill: #174EA6;\n",
              "    }\n",
              "\n",
              "    .colab-df-buttons div {\n",
              "      margin-bottom: 4px;\n",
              "    }\n",
              "\n",
              "    [theme=dark] .colab-df-convert {\n",
              "      background-color: #3B4455;\n",
              "      fill: #D2E3FC;\n",
              "    }\n",
              "\n",
              "    [theme=dark] .colab-df-convert:hover {\n",
              "      background-color: #434B5C;\n",
              "      box-shadow: 0px 1px 3px 1px rgba(0, 0, 0, 0.15);\n",
              "      filter: drop-shadow(0px 1px 2px rgba(0, 0, 0, 0.3));\n",
              "      fill: #FFFFFF;\n",
              "    }\n",
              "  </style>\n",
              "\n",
              "    <script>\n",
              "      const buttonEl =\n",
              "        document.querySelector('#df-92e51906-e46c-400a-b383-f8c16abd1ac0 button.colab-df-convert');\n",
              "      buttonEl.style.display =\n",
              "        google.colab.kernel.accessAllowed ? 'block' : 'none';\n",
              "\n",
              "      async function convertToInteractive(key) {\n",
              "        const element = document.querySelector('#df-92e51906-e46c-400a-b383-f8c16abd1ac0');\n",
              "        const dataTable =\n",
              "          await google.colab.kernel.invokeFunction('convertToInteractive',\n",
              "                                                    [key], {});\n",
              "        if (!dataTable) return;\n",
              "\n",
              "        const docLinkHtml = 'Like what you see? Visit the ' +\n",
              "          '<a target=\"_blank\" href=https://colab.research.google.com/notebooks/data_table.ipynb>data table notebook</a>'\n",
              "          + ' to learn more about interactive tables.';\n",
              "        element.innerHTML = '';\n",
              "        dataTable['output_type'] = 'display_data';\n",
              "        await google.colab.output.renderOutput(dataTable, element);\n",
              "        const docLink = document.createElement('div');\n",
              "        docLink.innerHTML = docLinkHtml;\n",
              "        element.appendChild(docLink);\n",
              "      }\n",
              "    </script>\n",
              "  </div>\n",
              "\n",
              "\n",
              "<div id=\"df-f809ad31-9362-42c9-a7e2-a0a130b20dce\">\n",
              "  <button class=\"colab-df-quickchart\" onclick=\"quickchart('df-f809ad31-9362-42c9-a7e2-a0a130b20dce')\"\n",
              "            title=\"Suggest charts\"\n",
              "            style=\"display:none;\">\n",
              "\n",
              "<svg xmlns=\"http://www.w3.org/2000/svg\" height=\"24px\"viewBox=\"0 0 24 24\"\n",
              "     width=\"24px\">\n",
              "    <g>\n",
              "        <path d=\"M19 3H5c-1.1 0-2 .9-2 2v14c0 1.1.9 2 2 2h14c1.1 0 2-.9 2-2V5c0-1.1-.9-2-2-2zM9 17H7v-7h2v7zm4 0h-2V7h2v10zm4 0h-2v-4h2v4z\"/>\n",
              "    </g>\n",
              "</svg>\n",
              "  </button>\n",
              "\n",
              "<style>\n",
              "  .colab-df-quickchart {\n",
              "      --bg-color: #E8F0FE;\n",
              "      --fill-color: #1967D2;\n",
              "      --hover-bg-color: #E2EBFA;\n",
              "      --hover-fill-color: #174EA6;\n",
              "      --disabled-fill-color: #AAA;\n",
              "      --disabled-bg-color: #DDD;\n",
              "  }\n",
              "\n",
              "  [theme=dark] .colab-df-quickchart {\n",
              "      --bg-color: #3B4455;\n",
              "      --fill-color: #D2E3FC;\n",
              "      --hover-bg-color: #434B5C;\n",
              "      --hover-fill-color: #FFFFFF;\n",
              "      --disabled-bg-color: #3B4455;\n",
              "      --disabled-fill-color: #666;\n",
              "  }\n",
              "\n",
              "  .colab-df-quickchart {\n",
              "    background-color: var(--bg-color);\n",
              "    border: none;\n",
              "    border-radius: 50%;\n",
              "    cursor: pointer;\n",
              "    display: none;\n",
              "    fill: var(--fill-color);\n",
              "    height: 32px;\n",
              "    padding: 0;\n",
              "    width: 32px;\n",
              "  }\n",
              "\n",
              "  .colab-df-quickchart:hover {\n",
              "    background-color: var(--hover-bg-color);\n",
              "    box-shadow: 0 1px 2px rgba(60, 64, 67, 0.3), 0 1px 3px 1px rgba(60, 64, 67, 0.15);\n",
              "    fill: var(--button-hover-fill-color);\n",
              "  }\n",
              "\n",
              "  .colab-df-quickchart-complete:disabled,\n",
              "  .colab-df-quickchart-complete:disabled:hover {\n",
              "    background-color: var(--disabled-bg-color);\n",
              "    fill: var(--disabled-fill-color);\n",
              "    box-shadow: none;\n",
              "  }\n",
              "\n",
              "  .colab-df-spinner {\n",
              "    border: 2px solid var(--fill-color);\n",
              "    border-color: transparent;\n",
              "    border-bottom-color: var(--fill-color);\n",
              "    animation:\n",
              "      spin 1s steps(1) infinite;\n",
              "  }\n",
              "\n",
              "  @keyframes spin {\n",
              "    0% {\n",
              "      border-color: transparent;\n",
              "      border-bottom-color: var(--fill-color);\n",
              "      border-left-color: var(--fill-color);\n",
              "    }\n",
              "    20% {\n",
              "      border-color: transparent;\n",
              "      border-left-color: var(--fill-color);\n",
              "      border-top-color: var(--fill-color);\n",
              "    }\n",
              "    30% {\n",
              "      border-color: transparent;\n",
              "      border-left-color: var(--fill-color);\n",
              "      border-top-color: var(--fill-color);\n",
              "      border-right-color: var(--fill-color);\n",
              "    }\n",
              "    40% {\n",
              "      border-color: transparent;\n",
              "      border-right-color: var(--fill-color);\n",
              "      border-top-color: var(--fill-color);\n",
              "    }\n",
              "    60% {\n",
              "      border-color: transparent;\n",
              "      border-right-color: var(--fill-color);\n",
              "    }\n",
              "    80% {\n",
              "      border-color: transparent;\n",
              "      border-right-color: var(--fill-color);\n",
              "      border-bottom-color: var(--fill-color);\n",
              "    }\n",
              "    90% {\n",
              "      border-color: transparent;\n",
              "      border-bottom-color: var(--fill-color);\n",
              "    }\n",
              "  }\n",
              "</style>\n",
              "\n",
              "  <script>\n",
              "    async function quickchart(key) {\n",
              "      const quickchartButtonEl =\n",
              "        document.querySelector('#' + key + ' button');\n",
              "      quickchartButtonEl.disabled = true;  // To prevent multiple clicks.\n",
              "      quickchartButtonEl.classList.add('colab-df-spinner');\n",
              "      try {\n",
              "        const charts = await google.colab.kernel.invokeFunction(\n",
              "            'suggestCharts', [key], {});\n",
              "      } catch (error) {\n",
              "        console.error('Error during call to suggestCharts:', error);\n",
              "      }\n",
              "      quickchartButtonEl.classList.remove('colab-df-spinner');\n",
              "      quickchartButtonEl.classList.add('colab-df-quickchart-complete');\n",
              "    }\n",
              "    (() => {\n",
              "      let quickchartButtonEl =\n",
              "        document.querySelector('#df-f809ad31-9362-42c9-a7e2-a0a130b20dce button');\n",
              "      quickchartButtonEl.style.display =\n",
              "        google.colab.kernel.accessAllowed ? 'block' : 'none';\n",
              "    })();\n",
              "  </script>\n",
              "</div>\n",
              "    </div>\n",
              "  </div>\n"
            ],
            "application/vnd.google.colaboratory.intrinsic+json": {
              "type": "dataframe",
              "variable_name": "data_scale"
            }
          },
          "metadata": {},
          "execution_count": 6
        }
      ],
      "source": [
        "data_scale.head()"
      ]
    },
    {
      "cell_type": "code",
      "execution_count": null,
      "metadata": {
        "colab": {
          "base_uri": "https://localhost:8080/"
        },
        "id": "8Q0vjlQicfCk",
        "outputId": "bcb454ae-5ecf-44d2-9b62-3cd2009d4fc3"
      },
      "outputs": [
        {
          "output_type": "execute_result",
          "data": {
            "text/plain": [
              "(52620, 72)"
            ]
          },
          "metadata": {},
          "execution_count": 7
        }
      ],
      "source": [
        "data_scale.shape"
      ]
    },
    {
      "cell_type": "code",
      "source": [
        "#ตัวแปรทั้งหมดที่ใช้ 72 ตัวแปร มีดังนี้\n",
        "#VisitLOcation มี 192 นำออกไม่ได้ใช้\n",
        "data_scale.columns"
      ],
      "metadata": {
        "colab": {
          "base_uri": "https://localhost:8080/"
        },
        "id": "vW9E278gmM4P",
        "outputId": "19939e0e-81b2-4fa5-af73-de5fc01384d7"
      },
      "execution_count": null,
      "outputs": [
        {
          "output_type": "execute_result",
          "data": {
            "text/plain": [
              "Index(['Age', 'BMI', 'BSA', 'Diastolic-BP', 'Systolic-BP', 'G1M2-ARB',\n",
              "       'G3M1-Statin', 'G5M2-NSAIDs', 'G1M5-Diuretic', 'G1M7-Beta-blocker',\n",
              "       'G1M3-Dihydropyridine-CCB', 'G1M6-MRA', 'G1M1-ACEI', 'G2M2-Metformin',\n",
              "       'G2M3-DPP4-inhibitor', 'G2M1-SU', 'G3M3-Fibrate', 'G2M5-SGLT2i',\n",
              "       'G4M1-Allopurinol', 'G1M9-Vasodilator', 'G1M8-Alpha-blocker',\n",
              "       'G2M6-Insulin', 'G2M4-TZD', 'G4M2-Febuxostat', 'G3M2-Ezetimibe',\n",
              "       'G1M4-Non-dihydropyridine-CCB', 'G5M1-Ketoanalog-amino-acid',\n",
              "       'G2M7-GLP1-RA', 'G4M3-Uricosuric-agent', 'D1-Hypertension',\n",
              "       'D2-Diabetes-mellitus', 'D3-Dyslipidemia', 'D4-SLE',\n",
              "       'D5-Systemic-sclerosis', 'D6-Rheumatoid-arthritis', 'D7-HIV-infection',\n",
              "       'D8-HBV-infection', 'D9-HCV-infection', 'D10-Ischemic-heart-disease',\n",
              "       'D11-Heart-failure', 'D12-Thalassemia', 'D13-Kidney-stone',\n",
              "       'D14-Valvular-heart-disease', 'D15-Solid-malignancy',\n",
              "       'D16-Hematologic-malignancy', 'L2-BUN', 'L3-Creatinine', 'L4-Sodium',\n",
              "       'L5-Potassium', 'L6-Chloride', 'L7-Bicarbonate', 'L8-Uric',\n",
              "       'L9-Calcium', 'L10-Phosphorus', 'L11-Albumin', 'L12-Hemoglobin',\n",
              "       'L13-Hematocrit', 'L14-WBC', 'L15-Platelet', 'L19-Blood-sugar',\n",
              "       'L20-HbA1c', 'L21-Cholesterol', 'L22-Triglyceride',\n",
              "       'L23-LDL-Cholesterol', 'L24-HDL-Cholesterol',\n",
              "       'L28-UrineProtein-Cr-ratio', 'InPatient', 'OutPatient', 'Emergency',\n",
              "       'LabLocation', 'NATNL', 'Sex'],\n",
              "      dtype='object')"
            ]
          },
          "metadata": {},
          "execution_count": 8
        }
      ]
    },
    {
      "cell_type": "code",
      "execution_count": null,
      "metadata": {
        "id": "uXICOdcajmi7"
      },
      "outputs": [],
      "source": [
        "#data_scale.to_csv('data_scale.csv')"
      ]
    },
    {
      "cell_type": "markdown",
      "metadata": {
        "id": "-oDvF761fSK5"
      },
      "source": [
        "##UMAP"
      ]
    },
    {
      "cell_type": "code",
      "execution_count": null,
      "metadata": {
        "id": "GC6Z9Guucsp7"
      },
      "outputs": [],
      "source": [
        "pip install umap-learn"
      ]
    },
    {
      "cell_type": "code",
      "execution_count": null,
      "metadata": {
        "id": "hH5tlnAzcnfm"
      },
      "outputs": [],
      "source": [
        "from umap import UMAP\n",
        "\n",
        "X = data_scale.copy()\n",
        "# compute 2D embedding of raw variable values\n",
        "X_2d = UMAP(\n",
        "  n_components=2, n_neighbors=200, min_dist=0\n",
        ").fit_transform(X)"
      ]
    },
    {
      "cell_type": "code",
      "execution_count": null,
      "metadata": {
        "colab": {
          "base_uri": "https://localhost:8080/",
          "height": 507
        },
        "id": "nXn6eaZldTCK",
        "outputId": "bb40e93a-856e-4c23-a533-548103d72094"
      },
      "outputs": [
        {
          "name": "stderr",
          "output_type": "stream",
          "text": [
            "<ipython-input-183-28da69fc407e>:3: UserWarning: No data for colormapping provided via 'c'. Parameters 'cmap' will be ignored\n",
            "  plt.scatter(X_2d[:, 0], X_2d[:, 1], marker='o', s=5, cmap='viridis')\n"
          ]
        },
        {
          "data": {
            "image/png": "[encoded data removed]",
            "text/plain": [
              "<Figure size 640x480 with 1 Axes>"
            ]
          },
          "metadata": {},
          "output_type": "display_data"
        }
      ],
      "source": [
        "import matplotlib.pyplot as plt\n",
        "# Assuming X_2d is your 2D embedding\n",
        "plt.scatter(X_2d[:, 0], X_2d[:, 1], marker='o', s=5, cmap='viridis')\n",
        "\n",
        "# Add labels and title if needed\n",
        "plt.xlabel('UMAP Dimension 1')\n",
        "plt.ylabel('UMAP Dimension 2')\n",
        "plt.title('UMAP Visualization')\n",
        "\n",
        "# Show the plot\n",
        "plt.show()"
      ]
    },
    {
      "cell_type": "markdown",
      "metadata": {
        "id": "JuJy4dnHSYkl"
      },
      "source": [
        "### DBSCAN"
      ]
    },
    {
      "cell_type": "markdown",
      "source": [
        "นำข้อมูลที่ทำ  UMAP แล้วมาทำ Clustering"
      ],
      "metadata": {
        "id": "HrKbJMvooFdI"
      }
    },
    {
      "cell_type": "code",
      "execution_count": null,
      "metadata": {
        "id": "5mCrcrY-SYTZ"
      },
      "outputs": [],
      "source": [
        "import matplotlib.pyplot as plt\n",
        "import numpy as np\n",
        "from sklearn.cluster import DBSCAN\n",
        "from sklearn import metrics\n",
        "from sklearn.preprocessing import StandardScaler\n",
        "\n",
        "data = X_2d.copy()"
      ]
    },
    {
      "cell_type": "code",
      "source": [
        "import numpy as np\n",
        "from sklearn import metrics\n",
        "from sklearn.cluster import DBSCAN\n",
        "\n",
        "# Create an instance of DBSCAN\n",
        "dbscan = DBSCAN()\n",
        "\n",
        "# Fit the DBSCAN model\n",
        "dbscan.fit(data)\n",
        "\n",
        "# ต้องการหาระยะห่างระหว่างจุดหนึ่งกับจุดข้อมูลที่ใกล้ที่สุดสำหรับจุดข้อมูลทั้งหมดในชุดข้อมูล\n",
        "from sklearn.neighbors import NearestNeighbors\n",
        "neigh = NearestNeighbors(n_neighbors=2)\n",
        "nbrs = neigh.fit(data)\n",
        "distances, indices = nbrs.kneighbors(data)"
      ],
      "metadata": {
        "id": "PfUO-UsMvgS7"
      },
      "execution_count": null,
      "outputs": []
    },
    {
      "cell_type": "code",
      "source": [
        "# ใช้ K-distance Graph เพื่อค้นหาค่าของ epsilon ที่เหมาะสม\n",
        "# Plotting K-distance Graph\n",
        "# Sort distances array\n",
        "distances = np.sort(distances, axis=0)\n",
        "distances = distances[:,1]\n",
        "\n",
        "# Plot the graph\n",
        "plt.figure(figsize=(30, 15))\n",
        "plt.plot(distances)\n",
        "\n",
        "# Set y-axis ticks with increments of 0.1\n",
        "max_distance = distances.max()\n",
        "plt.yticks(np.arange(0, max_distance + 0.01, step=0.01))\n",
        "\n",
        "plt.title('K-distance Graph',fontsize=20)\n",
        "plt.xlabel('Data Points sorted by distance',fontsize=14)\n",
        "plt.ylabel('Epsilon',fontsize=14)\n",
        "plt.show()"
      ],
      "metadata": {
        "colab": {
          "base_uri": "https://localhost:8080/",
          "height": 684
        },
        "id": "R8cLPNppwP86",
        "outputId": "990ef83a-09f3-4b9b-efdd-1f9df7ddb5a5"
      },
      "execution_count": null,
      "outputs": [
        {
          "output_type": "display_data",
          "data": {
            "text/plain": [
              "<Figure size 3000x1500 with 1 Axes>"
            ],
            "image/png": "[encoded data removed]"
          },
          "metadata": {}
        }
      ]
    },
    {
      "cell_type": "markdown",
      "metadata": {
        "id": "yYfyESxVgKIv"
      },
      "source": [
        "ค่าที่เหมาะสมที่สุดของ epsilon อยู่ที่จุดโค้งสูงสุดใน K-distance Graph คือประมาณ 0.05"
      ]
    },
    {
      "cell_type": "markdown",
      "metadata": {
        "id": "SQNj-4nWPUPd"
      },
      "source": [
        "ใช้ ค่า Silhouette Coefficient  เป็นตัวชี้วัดในการวัดประเมินการจัดกลุ่ม\n",
        "- ค่า Silhouette Coefficient เป็นตัววัดที่ใช้วัดความคล้ายคลึงภายในกลุ่มและความแตกต่างระหว่างกลุ่ม\n",
        "- ค่า Silhouette Coefficient มีค่าอยู่ในช่วง [-1, 1] โดยค่าที่ใกล้ 1 จะแสดงถึงการแบ่งกลุ่มที่ดี และค่าที่ใกล้ -1 จะแสดงถึงการแบ่งกลุ่มที่ไม่ดี\n"
      ]
    },
    {
      "cell_type": "code",
      "source": [
        "import numpy as np\n",
        "from sklearn import metrics\n",
        "from sklearn.cluster import DBSCAN\n",
        "\n",
        "db = DBSCAN(eps=0.06, min_samples=450).fit(data)\n",
        "labels = db.labels_\n",
        "\n",
        "# Number of clusters in labels, ignoring noise if present.\n",
        "n_clusters_ = len(set(labels)) - (1 if -1 in labels else 0)\n",
        "n_noise_ = list(labels).count(-1)\n",
        "\n",
        "print(\"Estimated number of clusters: %d\" % n_clusters_)\n",
        "print(\"Estimated number of noise points: %d\" % n_noise_)\n",
        "print(f\"Silhouette Coefficient: {metrics.silhouette_score(data, labels):.2f}\")"
      ],
      "metadata": {
        "colab": {
          "base_uri": "https://localhost:8080/"
        },
        "id": "QAeAe_OZwXH1",
        "outputId": "ef787db5-a6d0-4028-f59e-731b31b833bf"
      },
      "execution_count": null,
      "outputs": [
        {
          "output_type": "stream",
          "name": "stdout",
          "text": [
            "Estimated number of clusters: 6\n",
            "Estimated number of noise points: 49112\n",
            "Silhouette Coefficient: 0.34\n"
          ]
        }
      ]
    },
    {
      "cell_type": "code",
      "source": [
        "import numpy as np\n",
        "from sklearn import metrics\n",
        "from sklearn.cluster import DBSCAN\n",
        "\n",
        "db = DBSCAN(eps=0.06, min_samples=480).fit(data)\n",
        "labels = db.labels_\n",
        "\n",
        "# Number of clusters in labels, ignoring noise if present.\n",
        "n_clusters_ = len(set(labels)) - (1 if -1 in labels else 0)\n",
        "n_noise_ = list(labels).count(-1)\n",
        "\n",
        "print(\"Estimated number of clusters: %d\" % n_clusters_)\n",
        "print(\"Estimated number of noise points: %d\" % n_noise_)\n",
        "print(f\"Silhouette Coefficient: {metrics.silhouette_score(data, labels):.2f}\")"
      ],
      "metadata": {
        "colab": {
          "base_uri": "https://localhost:8080/"
        },
        "id": "0t0mRYFMvUJe",
        "outputId": "87cbbb7a-249d-4b51-da71-e39974b9477b"
      },
      "execution_count": null,
      "outputs": [
        {
          "output_type": "stream",
          "name": "stdout",
          "text": [
            "Estimated number of clusters: 6\n",
            "Estimated number of noise points: 49282\n",
            "Silhouette Coefficient: 0.33\n"
          ]
        }
      ]
    },
    {
      "cell_type": "code",
      "source": [
        "import numpy as np\n",
        "from sklearn import metrics\n",
        "from sklearn.cluster import DBSCAN\n",
        "\n",
        "db = DBSCAN(eps=0.05, min_samples=480).fit(data)\n",
        "labels = db.labels_\n",
        "\n",
        "# Number of clusters in labels, ignoring noise if present.\n",
        "n_clusters_ = len(set(labels)) - (1 if -1 in labels else 0)\n",
        "n_noise_ = list(labels).count(-1)\n",
        "\n",
        "print(\"Estimated number of clusters: %d\" % n_clusters_)\n",
        "print(\"Estimated number of noise points: %d\" % n_noise_)\n",
        "print(f\"Silhouette Coefficient: {metrics.silhouette_score(data, labels):.2f}\")"
      ],
      "metadata": {
        "colab": {
          "base_uri": "https://localhost:8080/"
        },
        "id": "uPIMY0J1xO32",
        "outputId": "6ad9d69b-fc1a-45b5-db85-3db068c4e32c"
      },
      "execution_count": null,
      "outputs": [
        {
          "output_type": "stream",
          "name": "stdout",
          "text": [
            "Estimated number of clusters: 3\n",
            "Estimated number of noise points: 50855\n",
            "Silhouette Coefficient: 0.49\n"
          ]
        }
      ]
    },
    {
      "cell_type": "markdown",
      "source": [
        "ได้ทำการปรับค่า epsilon และ min_sample ซึ่ง eps=0.048, min_samples=440 ได้ค่ามากที่สุดคือ\n",
        "- จำนวนกลุ่มทัั้งหมด 3 กลุ่ม\n",
        "- มีค่า noise ทั้งหมด 50,855 ซึ่งจำนวนข้อมูลทั้งหมดคือ 52,620 เหลือข้อมูลทั้งหมดในกลุ่ม 1,765\n",
        "- ถ้าค่า eps ต่ำ ค่า Noise เยอะ ค่า Silhouette จะดี"
      ],
      "metadata": {
        "id": "wQVGiSeJqTW1"
      }
    },
    {
      "cell_type": "code",
      "source": [
        "import numpy as np\n",
        "\n",
        "# Find unique labels\n",
        "unique_labels = np.unique(labels)\n",
        "\n",
        "# Count the number of data points in each cluster\n",
        "for label in unique_labels:\n",
        "    if label == -1:\n",
        "        # Skip noise points\n",
        "        continue\n",
        "    # Create a boolean mask for the current cluster\n",
        "    cluster_mask = (labels == label)\n",
        "    # Count the number of data points in the cluster\n",
        "    num_points = np.sum(cluster_mask)\n",
        "    print(f\"Cluster {label}: {num_points} data points\")"
      ],
      "metadata": {
        "colab": {
          "base_uri": "https://localhost:8080/"
        },
        "outputId": "e996a954-54ab-474e-ccf0-06f2e922aa72",
        "id": "4WE-bygbpcXo"
      },
      "execution_count": null,
      "outputs": [
        {
          "output_type": "stream",
          "name": "stdout",
          "text": [
            "Cluster 0: 635 data points\n",
            "Cluster 1: 579 data points\n",
            "Cluster 2: 551 data points\n"
          ]
        }
      ]
    },
    {
      "cell_type": "code",
      "source": [
        "import numpy as np\n",
        "import matplotlib.pyplot as plt\n",
        "\n",
        "unique_labels = set(labels)\n",
        "core_samples_mask = np.zeros_like(labels, dtype=bool)\n",
        "core_samples_mask[db.core_sample_indices_] = True\n",
        "\n",
        "colors = [plt.cm.Spectral(each) for each in np.linspace(0, 1, len(unique_labels))]\n",
        "for k, col in zip(unique_labels, colors):\n",
        "    if k == -1:\n",
        "        # Black used for noise.\n",
        "        col = [0, 0, 0, 1]\n",
        "\n",
        "    class_member_mask = labels == k\n",
        "\n",
        "    xy = data[class_member_mask & core_samples_mask]\n",
        "    plt.plot(\n",
        "        xy[:, 0],\n",
        "        xy[:, 1],\n",
        "        \"o\",\n",
        "        markerfacecolor=tuple(col),\n",
        "        markeredgecolor=\"k\",\n",
        "        markersize=14,\n",
        "    )\n",
        "\n",
        "    xy = data[class_member_mask & ~core_samples_mask]\n",
        "    plt.plot(\n",
        "        xy[:, 0],\n",
        "        xy[:, 1],\n",
        "        \"o\",\n",
        "        markerfacecolor=tuple(col),\n",
        "        markeredgecolor=\"k\",\n",
        "        markersize=6,\n",
        "    )\n",
        "\n",
        "plt.title(f\"Estimated number of clusters: {n_clusters_}\")\n",
        "plt.show()"
      ],
      "metadata": {
        "colab": {
          "base_uri": "https://localhost:8080/",
          "height": 452
        },
        "outputId": "6d77a8eb-2287-451d-e9a5-7910ff89d284",
        "id": "MJQd4kR5pcXn"
      },
      "execution_count": null,
      "outputs": [
        {
          "output_type": "display_data",
          "data": {
            "text/plain": [
              "<Figure size 640x480 with 1 Axes>"
            ],
            "image/png": "[encoded data removed]"
          },
          "metadata": {}
        }
      ]
    },
    {
      "cell_type": "markdown",
      "source": [
        "จากภาพสีดำคือค่า Noise"
      ],
      "metadata": {
        "id": "vzdCuzjKqIYI"
      }
    },
    {
      "cell_type": "markdown",
      "metadata": {
        "id": "2_M2KRiyvifb"
      },
      "source": [
        "https://www.analyticsvidhya.com/blog/2020/09/how-dbscan-clustering-works/,\n",
        "\n",
        "https://www.geeksforgeeks.org/dbscan-clustering-in-ml-density-based-clustering/"
      ]
    },
    {
      "cell_type": "markdown",
      "source": [
        "###SHAP"
      ],
      "metadata": {
        "id": "Xi-fnDmS0jBW"
      }
    },
    {
      "cell_type": "markdown",
      "source": [
        "ข้อมูลทั้ง"
      ],
      "metadata": {
        "id": "574fa_-W2G9X"
      }
    },
    {
      "cell_type": "code",
      "source": [
        "from sklearn.ensemble import RandomForestClassifier\n",
        "from sklearn.preprocessing import label_binarize\n",
        "from sklearn.cluster import DBSCAN\n",
        "import numpy as np\n",
        "\n",
        "# Assuming you have your scaled data in scaled_wine_df\n",
        "\n",
        "# Apply DBSCAN clustering\n",
        "dbscan_model = DBSCAN(eps=0.05, min_samples=480)\n",
        "cluster_labels = dbscan_model.fit_predict(data)\n",
        "\n",
        "# Since DBSCAN might assign -1 to noise points, we need to map labels to start from 0\n",
        "cluster_labels += 1\n",
        "num_clusters = len(np.unique(cluster_labels))\n",
        "\n",
        "# Binarize cluster labels\n",
        "y = label_binarize(cluster_labels, classes=range(num_clusters))\n",
        "\n",
        "# Assuming your original data is in wine_df\n",
        "clf = RandomForestClassifier()\n",
        "clf.fit(data, y)\n"
      ],
      "metadata": {
        "id": "xIX1NmXd1OGv",
        "outputId": "4ce2327d-a620-47fe-8894-a0f6d2af32a3",
        "colab": {
          "base_uri": "https://localhost:8080/",
          "height": 75
        }
      },
      "execution_count": null,
      "outputs": [
        {
          "output_type": "execute_result",
          "data": {
            "text/plain": [
              "RandomForestClassifier()"
            ],
            "text/html": [
              "<style>#sk-container-id-1 {color: black;background-color: white;}#sk-container-id-1 pre{padding: 0;}#sk-container-id-1 div.sk-toggleable {background-color: white;}#sk-container-id-1 label.sk-toggleable__label {cursor: pointer;display: block;width: 100%;margin-bottom: 0;padding: 0.3em;box-sizing: border-box;text-align: center;}#sk-container-id-1 label.sk-toggleable__label-arrow:before {content: \"▸\";float: left;margin-right: 0.25em;color: #696969;}#sk-container-id-1 label.sk-toggleable__label-arrow:hover:before {color: black;}#sk-container-id-1 div.sk-estimator:hover label.sk-toggleable__label-arrow:before {color: black;}#sk-container-id-1 div.sk-toggleable__content {max-height: 0;max-width: 0;overflow: hidden;text-align: left;background-color: #f0f8ff;}#sk-container-id-1 div.sk-toggleable__content pre {margin: 0.2em;color: black;border-radius: 0.25em;background-color: #f0f8ff;}#sk-container-id-1 input.sk-toggleable__control:checked~div.sk-toggleable__content {max-height: 200px;max-width: 100%;overflow: auto;}#sk-container-id-1 input.sk-toggleable__control:checked~label.sk-toggleable__label-arrow:before {content: \"▾\";}#sk-container-id-1 div.sk-estimator input.sk-toggleable__control:checked~label.sk-toggleable__label {background-color: #d4ebff;}#sk-container-id-1 div.sk-label input.sk-toggleable__control:checked~label.sk-toggleable__label {background-color: #d4ebff;}#sk-container-id-1 input.sk-hidden--visually {border: 0;clip: rect(1px 1px 1px 1px);clip: rect(1px, 1px, 1px, 1px);height: 1px;margin: -1px;overflow: hidden;padding: 0;position: absolute;width: 1px;}#sk-container-id-1 div.sk-estimator {font-family: monospace;background-color: #f0f8ff;border: 1px dotted black;border-radius: 0.25em;box-sizing: border-box;margin-bottom: 0.5em;}#sk-container-id-1 div.sk-estimator:hover {background-color: #d4ebff;}#sk-container-id-1 div.sk-parallel-item::after {content: \"\";width: 100%;border-bottom: 1px solid gray;flex-grow: 1;}#sk-container-id-1 div.sk-label:hover label.sk-toggleable__label {background-color: #d4ebff;}#sk-container-id-1 div.sk-serial::before {content: \"\";position: absolute;border-left: 1px solid gray;box-sizing: border-box;top: 0;bottom: 0;left: 50%;z-index: 0;}#sk-container-id-1 div.sk-serial {display: flex;flex-direction: column;align-items: center;background-color: white;padding-right: 0.2em;padding-left: 0.2em;position: relative;}#sk-container-id-1 div.sk-item {position: relative;z-index: 1;}#sk-container-id-1 div.sk-parallel {display: flex;align-items: stretch;justify-content: center;background-color: white;position: relative;}#sk-container-id-1 div.sk-item::before, #sk-container-id-1 div.sk-parallel-item::before {content: \"\";position: absolute;border-left: 1px solid gray;box-sizing: border-box;top: 0;bottom: 0;left: 50%;z-index: -1;}#sk-container-id-1 div.sk-parallel-item {display: flex;flex-direction: column;z-index: 1;position: relative;background-color: white;}#sk-container-id-1 div.sk-parallel-item:first-child::after {align-self: flex-end;width: 50%;}#sk-container-id-1 div.sk-parallel-item:last-child::after {align-self: flex-start;width: 50%;}#sk-container-id-1 div.sk-parallel-item:only-child::after {width: 0;}#sk-container-id-1 div.sk-dashed-wrapped {border: 1px dashed gray;margin: 0 0.4em 0.5em 0.4em;box-sizing: border-box;padding-bottom: 0.4em;background-color: white;}#sk-container-id-1 div.sk-label label {font-family: monospace;font-weight: bold;display: inline-block;line-height: 1.2em;}#sk-container-id-1 div.sk-label-container {text-align: center;}#sk-container-id-1 div.sk-container {/* jupyter's `normalize.less` sets `[hidden] { display: none; }` but bootstrap.min.css set `[hidden] { display: none !important; }` so we also need the `!important` here to be able to override the default hidden behavior on the sphinx rendered scikit-learn.org. See: https://github.com/scikit-learn/scikit-learn/issues/21755 */display: inline-block !important;position: relative;}#sk-container-id-1 div.sk-text-repr-fallback {display: none;}</style><div id=\"sk-container-id-1\" class=\"sk-top-container\"><div class=\"sk-text-repr-fallback\"><pre>RandomForestClassifier()</pre><b>In a Jupyter environment, please rerun this cell to show the HTML representation or trust the notebook. <br />On GitHub, the HTML representation is unable to render, please try loading this page with nbviewer.org.</b></div><div class=\"sk-container\" hidden><div class=\"sk-item\"><div class=\"sk-estimator sk-toggleable\"><input class=\"sk-toggleable__control sk-hidden--visually\" id=\"sk-estimator-id-1\" type=\"checkbox\" checked><label for=\"sk-estimator-id-1\" class=\"sk-toggleable__label sk-toggleable__label-arrow\">RandomForestClassifier</label><div class=\"sk-toggleable__content\"><pre>RandomForestClassifier()</pre></div></div></div></div></div>"
            ]
          },
          "metadata": {},
          "execution_count": 33
        }
      ]
    },
    {
      "cell_type": "code",
      "source": [
        "pip install shap"
      ],
      "metadata": {
        "id": "0hIpkBZt10Ua"
      },
      "execution_count": null,
      "outputs": []
    },
    {
      "cell_type": "code",
      "source": [
        "import shap\n",
        "explainer= shap.TreeExplainer(clf)\n",
        "shap_values = explainer(data).values"
      ],
      "metadata": {
        "id": "UaYjq21v0lgW"
      },
      "execution_count": null,
      "outputs": []
    },
    {
      "cell_type": "code",
      "source": [
        "shap.plots.beeswarm(shap_values)"
      ],
      "metadata": {
        "id": "BOzz-e0G23Os",
        "outputId": "f880f300-b54d-4d83-dd4b-03e47adbfcc3",
        "colab": {
          "base_uri": "https://localhost:8080/",
          "height": 263
        }
      },
      "execution_count": null,
      "outputs": [
        {
          "output_type": "error",
          "ename": "TypeError",
          "evalue": "The beeswarm plot requires an `Explanation` object as the `shap_values` argument.",
          "traceback": [
            "\u001b[0;31m---------------------------------------------------------------------------\u001b[0m",
            "\u001b[0;31mTypeError\u001b[0m                                 Traceback (most recent call last)",
            "\u001b[0;32m<ipython-input-40-33a95466bf49>\u001b[0m in \u001b[0;36m<cell line: 1>\u001b[0;34m()\u001b[0m\n\u001b[0;32m----> 1\u001b[0;31m \u001b[0mshap\u001b[0m\u001b[0;34m.\u001b[0m\u001b[0mplots\u001b[0m\u001b[0;34m.\u001b[0m\u001b[0mbeeswarm\u001b[0m\u001b[0;34m(\u001b[0m\u001b[0mshap_values\u001b[0m\u001b[0;34m)\u001b[0m\u001b[0;34m\u001b[0m\u001b[0;34m\u001b[0m\u001b[0m\n\u001b[0m",
            "\u001b[0;32m/usr/local/lib/python3.10/dist-packages/shap/plots/_beeswarm.py\u001b[0m in \u001b[0;36mbeeswarm\u001b[0;34m(shap_values, max_display, order, clustering, cluster_threshold, color, axis_color, alpha, show, log_scale, color_bar, s, plot_size, color_bar_label)\u001b[0m\n\u001b[1;32m     70\u001b[0m             \u001b[0;34m\"`shap_values` argument.\"\u001b[0m\u001b[0;34m\u001b[0m\u001b[0;34m\u001b[0m\u001b[0m\n\u001b[1;32m     71\u001b[0m         )\n\u001b[0;32m---> 72\u001b[0;31m         \u001b[0;32mraise\u001b[0m \u001b[0mTypeError\u001b[0m\u001b[0;34m(\u001b[0m\u001b[0memsg\u001b[0m\u001b[0;34m)\u001b[0m\u001b[0;34m\u001b[0m\u001b[0;34m\u001b[0m\u001b[0m\n\u001b[0m\u001b[1;32m     73\u001b[0m \u001b[0;34m\u001b[0m\u001b[0m\n\u001b[1;32m     74\u001b[0m     \u001b[0msv_shape\u001b[0m \u001b[0;34m=\u001b[0m \u001b[0mshap_values\u001b[0m\u001b[0;34m.\u001b[0m\u001b[0mshape\u001b[0m\u001b[0;34m\u001b[0m\u001b[0;34m\u001b[0m\u001b[0m\n",
            "\u001b[0;31mTypeError\u001b[0m: The beeswarm plot requires an `Explanation` object as the `shap_values` argument."
          ]
        }
      ]
    },
    {
      "cell_type": "code",
      "source": [
        "shap.summary_plot(shap_values[0], data)"
      ],
      "metadata": {
        "id": "X4_d15sP2N2P",
        "outputId": "4a6d0efd-d18a-4cfb-f9b5-8be9675b8fbf",
        "colab": {
          "base_uri": "https://localhost:8080/",
          "height": 280
        }
      },
      "execution_count": null,
      "outputs": [
        {
          "output_type": "error",
          "ename": "AssertionError",
          "evalue": "The shape of the shap_values matrix does not match the shape of the provided data matrix.",
          "traceback": [
            "\u001b[0;31m---------------------------------------------------------------------------\u001b[0m",
            "\u001b[0;31mAssertionError\u001b[0m                            Traceback (most recent call last)",
            "\u001b[0;32m<ipython-input-38-aef6318c1d00>\u001b[0m in \u001b[0;36m<cell line: 1>\u001b[0;34m()\u001b[0m\n\u001b[0;32m----> 1\u001b[0;31m \u001b[0mshap\u001b[0m\u001b[0;34m.\u001b[0m\u001b[0msummary_plot\u001b[0m\u001b[0;34m(\u001b[0m\u001b[0mshap_values\u001b[0m\u001b[0;34m[\u001b[0m\u001b[0;36m0\u001b[0m\u001b[0;34m]\u001b[0m\u001b[0;34m,\u001b[0m \u001b[0mdata\u001b[0m\u001b[0;34m)\u001b[0m\u001b[0;34m\u001b[0m\u001b[0;34m\u001b[0m\u001b[0m\n\u001b[0m",
            "\u001b[0;32m/usr/local/lib/python3.10/dist-packages/shap/plots/_beeswarm.py\u001b[0m in \u001b[0;36msummary_legacy\u001b[0;34m(shap_values, features, feature_names, max_display, plot_type, color, axis_color, title, alpha, show, sort, color_bar, plot_size, layered_violin_max_num_bins, class_names, class_inds, color_bar_label, cmap, show_values_in_legend, auto_size_plot, use_log_scale)\u001b[0m\n\u001b[1;32m    553\u001b[0m                           \u001b[0;34m\"constant offset? Of so just pass shap_values[:,:-1].\"\u001b[0m\u001b[0;34m\u001b[0m\u001b[0;34m\u001b[0m\u001b[0m\n\u001b[1;32m    554\u001b[0m         \u001b[0;32melse\u001b[0m\u001b[0;34m:\u001b[0m\u001b[0;34m\u001b[0m\u001b[0;34m\u001b[0m\u001b[0m\n\u001b[0;32m--> 555\u001b[0;31m             \u001b[0;32massert\u001b[0m \u001b[0mnum_features\u001b[0m \u001b[0;34m==\u001b[0m \u001b[0mfeatures\u001b[0m\u001b[0;34m.\u001b[0m\u001b[0mshape\u001b[0m\u001b[0;34m[\u001b[0m\u001b[0;36m1\u001b[0m\u001b[0;34m]\u001b[0m\u001b[0;34m,\u001b[0m \u001b[0mshape_msg\u001b[0m\u001b[0;34m\u001b[0m\u001b[0;34m\u001b[0m\u001b[0m\n\u001b[0m\u001b[1;32m    556\u001b[0m \u001b[0;34m\u001b[0m\u001b[0m\n\u001b[1;32m    557\u001b[0m     \u001b[0;32mif\u001b[0m \u001b[0mfeature_names\u001b[0m \u001b[0;32mis\u001b[0m \u001b[0;32mNone\u001b[0m\u001b[0;34m:\u001b[0m\u001b[0;34m\u001b[0m\u001b[0;34m\u001b[0m\u001b[0m\n",
            "\u001b[0;31mAssertionError\u001b[0m: The shape of the shap_values matrix does not match the shape of the provided data matrix."
          ]
        }
      ]
    }
  ],
  "metadata": {
    "colab": {
      "provenance": [],
      "include_colab_link": true
    },
    "kernelspec": {
      "display_name": "Python 3",
      "name": "python3"
    },
    "language_info": {
      "name": "python"
    }
  },
  "nbformat": 4,
  "nbformat_minor": 0
}